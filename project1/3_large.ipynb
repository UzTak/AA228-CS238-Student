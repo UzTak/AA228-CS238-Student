{
 "cells": [
  {
   "cell_type": "code",
   "execution_count": 1,
   "id": "2394de03",
   "metadata": {},
   "outputs": [
    {
     "data": {
      "text/plain": [
       "run_ga (generic function with 1 method)"
      ]
     },
     "execution_count": 1,
     "metadata": {},
     "output_type": "execute_result"
    }
   ],
   "source": [
    "using Graphs\n",
    "using Printf\n",
    "using DataFrames\n",
    "using CSV\n",
    "using LinearAlgebra\n",
    "using Random \n",
    "include(\"functions.jl\")\n",
    "include(\"evolve.jl\")"
   ]
  },
  {
   "cell_type": "code",
   "execution_count": 2,
   "id": "084c006f",
   "metadata": {},
   "outputs": [],
   "source": [
    "infile = \"data/large.csv\";"
   ]
  },
  {
   "cell_type": "code",
   "execution_count": 3,
   "id": "4c4a67e6",
   "metadata": {},
   "outputs": [
    {
     "data": {
      "text/plain": [
       "(Variable[Variable(:HW, 4), Variable(:CO, 2), Variable(:EF, 2), Variable(:FA, 4), Variable(:QV, 2), Variable(:PZ, 3), Variable(:LD, 3), Variable(:SM, 3), Variable(:MD, 4), Variable(:PQ, 2)  …  Variable(:SA, 2), Variable(:GO, 4), Variable(:BY, 2), Variable(:PT, 2), Variable(:SB, 2), Variable(:EN, 3), Variable(:KO, 4), Variable(:ZY, 4), Variable(:HY, 3), Variable(:PI, 2)], SimpleDiGraph{Int64}(0, [Int64[], Int64[], Int64[], Int64[], Int64[], Int64[], Int64[], Int64[], Int64[], Int64[]  …  Int64[], Int64[], Int64[], Int64[], Int64[], Int64[], Int64[], Int64[], Int64[], Int64[]], [Int64[], Int64[], Int64[], Int64[], Int64[], Int64[], Int64[], Int64[], Int64[], Int64[]  …  Int64[], Int64[], Int64[], Int64[], Int64[], Int64[], Int64[], Int64[], Int64[], Int64[]]), [4 1 … 4 1; 1 2 … 1 2; … ; 3 2 … 2 2; 1 2 … 1 2], -483188.93309789035)"
      ]
     },
     "execution_count": 3,
     "metadata": {},
     "output_type": "execute_result"
    }
   ],
   "source": [
    "vars, G, D, P = init_data(infile)"
   ]
  },
  {
   "cell_type": "code",
   "execution_count": 4,
   "id": "6c85be6a",
   "metadata": {},
   "outputs": [
    {
     "name": "stdout",
     "output_type": "stream",
     "text": [
      "elapsed time: 4.825316667556763 mins\n",
      "elapsed time: 9.605666665236155 mins\n",
      "elapsed time: 15.232299999396007 mins\n",
      "elapsed time: 20.988133335113524 mins\n",
      "elapsed time: 27.27305000225703 mins\n",
      "elapsed time: 33.58919999996821 mins\n",
      "Exiting the loop after 30 minutes.\n"
     ]
    }
   ],
   "source": [
    "N = 30 \n",
    "G_best = SimpleDiGraph(length(vars))\n",
    "y_best = -Inf \n",
    "\n",
    "start_time = time()  # Record the start time in seconds\n",
    "\n",
    "while true \n",
    "   \n",
    "    pop0 = randperm(length(vars))\n",
    "    k2_base = K2Search(pop0)\n",
    "    G,y = fit(k2_base, vars, D)\n",
    "    \n",
    "    if y > y_best \n",
    "        G_best = G\n",
    "        y_best = y\n",
    "    end \n",
    "    \n",
    "    current_time = time()  # Get the current time in seconds\n",
    "    elapsed_minutes = (current_time - start_time) / 60  # Calculate elapsed minutes\n",
    "    \n",
    "    println(\"elapsed time: $elapsed_minutes mins\")\n",
    "    \n",
    "    if elapsed_minutes > N\n",
    "        println(\"Exiting the loop after $N minutes.\")\n",
    "        break\n",
    "    end\n",
    "end\n"
   ]
  },
  {
   "cell_type": "code",
   "execution_count": 5,
   "id": "e0e3ef25",
   "metadata": {},
   "outputs": [
    {
     "data": {
      "text/plain": [
       "-410214.10220696894"
      ]
     },
     "execution_count": 5,
     "metadata": {},
     "output_type": "execute_result"
    }
   ],
   "source": [
    "y_best"
   ]
  },
  {
   "cell_type": "code",
   "execution_count": 6,
   "id": "9ffeb2ce",
   "metadata": {},
   "outputs": [
    {
     "data": {
      "text/plain": [
       "Dict{Int64, String} with 50 entries:\n",
       "  5  => \"QV\"\n",
       "  35 => \"VX\"\n",
       "  30 => \"AG\"\n",
       "  32 => \"LO\"\n",
       "  6  => \"PZ\"\n",
       "  45 => \"SB\"\n",
       "  4  => \"FA\"\n",
       "  13 => \"JJ\"\n",
       "  12 => \"EV\"\n",
       "  28 => \"LP\"\n",
       "  23 => \"NV\"\n",
       "  41 => \"SA\"\n",
       "  43 => \"BY\"\n",
       "  11 => \"WA\"\n",
       "  36 => \"EM\"\n",
       "  39 => \"QJ\"\n",
       "  7  => \"LD\"\n",
       "  25 => \"VJ\"\n",
       "  34 => \"FH\"\n",
       "  50 => \"PI\"\n",
       "  2  => \"CO\"\n",
       "  10 => \"PQ\"\n",
       "  18 => \"EJ\"\n",
       "  26 => \"ST\"\n",
       "  27 => \"CH\"\n",
       "  ⋮  => ⋮"
      ]
     },
     "execution_count": 6,
     "metadata": {},
     "output_type": "execute_result"
    }
   ],
   "source": [
    "df = CSV.File(infile) |> DataFrame\n",
    "column_names = names(df)\n",
    "num_columns = length(column_names)\n",
    "idx2names = Dict(i => column_names[i] for i in 1:num_columns)\n"
   ]
  },
  {
   "cell_type": "code",
   "execution_count": 7,
   "id": "9a30dea7",
   "metadata": {},
   "outputs": [
    {
     "data": {
      "text/plain": [
       "write_gph (generic function with 1 method)"
      ]
     },
     "execution_count": 7,
     "metadata": {},
     "output_type": "execute_result"
    }
   ],
   "source": [
    "function write_gph(dag::DiGraph, idx2names, filename)\n",
    "    open(filename, \"w\") do io\n",
    "        for edge in edges(dag)\n",
    "            @printf(io, \"%s,%s\\n\", idx2names[src(edge)], idx2names[dst(edge)])\n",
    "        end\n",
    "    end\n",
    "end"
   ]
  },
  {
   "cell_type": "code",
   "execution_count": 8,
   "id": "a26f5b97",
   "metadata": {},
   "outputs": [],
   "source": [
    "write_gph(G_best, idx2names, \"opt_graph3.gph\")"
   ]
  },
  {
   "cell_type": "code",
   "execution_count": 9,
   "id": "4d927ac8",
   "metadata": {},
   "outputs": [
    {
     "data": {
      "text/plain": [
       "{50, 140} directed simple Int64 graph"
      ]
     },
     "execution_count": 9,
     "metadata": {},
     "output_type": "execute_result"
    }
   ],
   "source": [
    "G_best"
   ]
  },
  {
   "cell_type": "code",
   "execution_count": 10,
   "id": "4f9a3cf2",
   "metadata": {},
   "outputs": [],
   "source": [
    "using Graphs  # for DiGraph and add_edge!\n",
    "using TikzGraphs   # for TikZ plot output\n",
    "using TikzPictures # to save TikZ as PDF"
   ]
  },
  {
   "cell_type": "code",
   "execution_count": 11,
   "id": "01c5583c",
   "metadata": {},
   "outputs": [],
   "source": [
    "p = plot(G_best, [column_names[i] for i in 1:num_columns]) # create TikZ plot with labels\n",
    "save(PDF(\"graph3.pdf\"), p) # save TikZ as PDF"
   ]
  },
  {
   "cell_type": "code",
   "execution_count": null,
   "id": "fdd2b531",
   "metadata": {},
   "outputs": [],
   "source": []
  }
 ],
 "metadata": {
  "kernelspec": {
   "display_name": "Julia 1.9.3",
   "language": "julia",
   "name": "julia-1.9"
  },
  "language_info": {
   "file_extension": ".jl",
   "mimetype": "application/julia",
   "name": "julia",
   "version": "1.9.3"
  }
 },
 "nbformat": 4,
 "nbformat_minor": 5
}
