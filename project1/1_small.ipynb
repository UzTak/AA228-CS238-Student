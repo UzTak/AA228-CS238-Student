{
 "cells": [
  {
   "cell_type": "code",
   "execution_count": 1,
   "id": "d3a007bd",
   "metadata": {
    "scrolled": true
   },
   "outputs": [
    {
     "data": {
      "text/plain": [
       "fit (generic function with 1 method)"
      ]
     },
     "execution_count": 1,
     "metadata": {},
     "output_type": "execute_result"
    }
   ],
   "source": [
    "using Graphs\n",
    "using Printf\n",
    "using DataFrames\n",
    "using CSV\n",
    "using LinearAlgebra\n",
    "\n",
    "include(\"functions.jl\")\n"
   ]
  },
  {
   "cell_type": "code",
   "execution_count": 2,
   "id": "d1e502d7",
   "metadata": {},
   "outputs": [],
   "source": [
    "infile = \"data/small.csv\""
   ]
  },
  {
   "cell_type": "code",
   "execution_count": 5,
   "id": "f49e422b",
   "metadata": {},
   "outputs": [
    {
     "data": {
      "text/plain": [
       "init_data (generic function with 1 method)"
      ]
     },
     "execution_count": 5,
     "metadata": {},
     "output_type": "execute_result"
    }
   ],
   "source": [
    "function init_data(fname)\n",
    "    df = CSV.File(fname) |> DataFrame\n",
    "    data_mat = Matrix(df);\n",
    "    column_names = names(df)\n",
    "    num_instance = [maximum(data_mat[:, i]) - minimum(data_mat[:, i]) + 1 for i in 1:size(data_mat, 2)]\n",
    "    vars = [Variable(Symbol(column_names[i]), num_instance[i]) for i in 1:length(column_names)]\n",
    "    G = SimpleDiGraph(length(column_names)) \n",
    "    D = data_mat'\n",
    "    p = bayesian_score(vars, G, data_mat')   # feed transposed data!!!!\n",
    "    return vars, G, D, p \n",
    "end"
   ]
  },
  {
   "cell_type": "code",
   "execution_count": 6,
   "id": "e9ba042f",
   "metadata": {},
   "outputs": [
    {
     "data": {
      "text/plain": [
       "(Variable[Variable(:age, 3), Variable(:portembarked, 3), Variable(:fare, 3), Variable(:numparentschildren, 3), Variable(:passengerclass, 3), Variable(:sex, 2), Variable(:numsiblings, 3), Variable(:survived, 2)], SimpleDiGraph{Int64}(0, [Int64[], Int64[], Int64[], Int64[], Int64[], Int64[], Int64[], Int64[]], [Int64[], Int64[], Int64[], Int64[], Int64[], Int64[], Int64[], Int64[]]), [1 2 … 1 2; 1 2 … 2 3; … ; 1 1 … 1 1; 1 2 … 2 1], -4166.225858784901)"
      ]
     },
     "execution_count": 6,
     "metadata": {},
     "output_type": "execute_result"
    }
   ],
   "source": [
    "vars, G, D, P = init_data(infile)"
   ]
  },
  {
   "cell_type": "code",
   "execution_count": 14,
   "id": "34d5394d",
   "metadata": {},
   "outputs": [
    {
     "data": {
      "text/plain": [
       "fit (generic function with 1 method)"
      ]
     },
     "execution_count": 14,
     "metadata": {},
     "output_type": "execute_result"
    }
   ],
   "source": [
    "struct K2Search \n",
    "    ordering::Vector{Int}    # variable ordering \n",
    "end\n",
    "\n",
    "\n",
    "function fit(method::K2Search, vars, D)\n",
    "    G = SimpleDiGraph(length(vars))\n",
    "    y = 0\n",
    "    for (k,i) in enumerate(method.ordering[2:end])\n",
    "#         println(k,i)\n",
    "        y = bayesian_score(vars, G, D)\n",
    "        while true \n",
    "            y_best, j_best = -Inf, 0 \n",
    "            for j in method.ordering[1:k]\n",
    "                if !has_edge(G, j, i)\n",
    "                    add_edge!(G, j, i)\n",
    "                    y_new = bayesian_score(vars, G, D)\n",
    "                    if y_new > y_best \n",
    "                        y_best, j_best = y_new, j \n",
    "                    end \n",
    "                    rem_edge!(G, j, i)\n",
    "                end\n",
    "            end \n",
    "            # select and add the best edge \n",
    "            if y_best > y \n",
    "                y = y_best \n",
    "                add_edge!(G, j_best, i)\n",
    "            else \n",
    "                break\n",
    "            end\n",
    "        end \n",
    "    end\n",
    "    return G, y\n",
    "end \n"
   ]
  },
  {
   "cell_type": "code",
   "execution_count": 15,
   "id": "55995a3c",
   "metadata": {},
   "outputs": [
    {
     "data": {
      "text/plain": [
       "permutations (generic function with 1 method)"
      ]
     },
     "execution_count": 15,
     "metadata": {},
     "output_type": "execute_result"
    }
   ],
   "source": [
    "# Function to generate permutations\n",
    "function permutations(arr)\n",
    "    n = length(arr)\n",
    "    if n == 1\n",
    "        return [arr]\n",
    "    else\n",
    "        perms = []\n",
    "        for i = 1:n\n",
    "            first_elem = arr[i]\n",
    "            rest = [arr[j] for j in 1:n if j != i]\n",
    "            subperms = permutations(rest)\n",
    "            for p in subperms\n",
    "                push!(perms, [first_elem; p])\n",
    "            end\n",
    "        end\n",
    "        return perms\n",
    "    end\n",
    "end"
   ]
  },
  {
   "cell_type": "code",
   "execution_count": 16,
   "id": "b03685f0",
   "metadata": {},
   "outputs": [
    {
     "data": {
      "text/plain": [
       "K2Search([1, 2, 3, 4, 5, 6, 7, 8])"
      ]
     },
     "execution_count": 16,
     "metadata": {},
     "output_type": "execute_result"
    }
   ],
   "source": [
    "method = K2Search([1,2,3,4,5,6,7,8])"
   ]
  },
  {
   "cell_type": "code",
   "execution_count": 17,
   "id": "7fb81f61",
   "metadata": {},
   "outputs": [
    {
     "data": {
      "text/plain": [
       "(SimpleDiGraph{Int64}(10, [[4, 5], [5, 6], [5], [6, 7], [6, 8], [8], Int64[], Int64[]], [Int64[], Int64[], Int64[], [1], [1, 2, 3], [2, 4, 5], [4], [5, 6]]), -3835.67942521279)"
      ]
     },
     "execution_count": 17,
     "metadata": {},
     "output_type": "execute_result"
    }
   ],
   "source": [
    "G_, BS_best = fit(method, vars, D)"
   ]
  },
  {
   "cell_type": "code",
   "execution_count": 18,
   "id": "265728e2",
   "metadata": {},
   "outputs": [
    {
     "name": "stderr",
     "output_type": "stream",
     "text": [
      "\u001b[32mComputing... 100%|███████████████████████████████████████| Time: 1:33:42\u001b[39m\n"
     ]
    }
   ],
   "source": [
    "using ProgressMeter\n",
    "\n",
    "elements = 1:8\n",
    "# permutations = collect(permutations(elements))\n",
    "perm = permutations(elements)\n",
    "\n",
    "# Print the permutations\n",
    "G  = SimpleDiGraph(length(vars))\n",
    "bs = -Inf\n",
    "\n",
    "@showprogress dt=1 desc=\"Computing...\" for p in perm\n",
    "    method = K2Search(p)\n",
    "    G_new, bs_new = fit(method, vars, D)\n",
    "    \n",
    "    if bs_new > bs \n",
    "        bs = bs_new \n",
    "        G = G_new\n",
    "    end \n",
    "end"
   ]
  },
  {
   "cell_type": "code",
   "execution_count": 20,
   "id": "0b384362",
   "metadata": {},
   "outputs": [
    {
     "data": {
      "text/plain": [
       "-3794.855597709798"
      ]
     },
     "execution_count": 20,
     "metadata": {},
     "output_type": "execute_result"
    }
   ],
   "source": [
    "bs"
   ]
  },
  {
   "cell_type": "code",
   "execution_count": 21,
   "id": "b20a4903",
   "metadata": {},
   "outputs": [
    {
     "data": {
      "text/plain": [
       "write_gph (generic function with 1 method)"
      ]
     },
     "execution_count": 21,
     "metadata": {},
     "output_type": "execute_result"
    }
   ],
   "source": [
    "function write_gph(dag::DiGraph, idx2names, filename)\n",
    "    open(filename, \"w\") do io\n",
    "        for edge in edges(dag)\n",
    "            @printf(io, \"%s,%s\\n\", idx2names[src(edge)], idx2names[dst(edge)])\n",
    "        end\n",
    "    end\n",
    "end"
   ]
  },
  {
   "cell_type": "code",
   "execution_count": 22,
   "id": "ac6e2f54",
   "metadata": {},
   "outputs": [
    {
     "data": {
      "text/plain": [
       "8-element Vector{String}:\n",
       " \"age\"\n",
       " \"portembarked\"\n",
       " \"fare\"\n",
       " \"numparentschildren\"\n",
       " \"passengerclass\"\n",
       " \"sex\"\n",
       " \"numsiblings\"\n",
       " \"survived\""
      ]
     },
     "execution_count": 22,
     "metadata": {},
     "output_type": "execute_result"
    }
   ],
   "source": [
    "column_names = names(df)"
   ]
  },
  {
   "cell_type": "code",
   "execution_count": 25,
   "id": "15563f11",
   "metadata": {},
   "outputs": [
    {
     "data": {
      "text/plain": [
       "Dict{Int64, String} with 8 entries:\n",
       "  5 => \"passengerclass\"\n",
       "  4 => \"numparentschildren\"\n",
       "  6 => \"sex\"\n",
       "  7 => \"numsiblings\"\n",
       "  2 => \"protembarked\"\n",
       "  8 => \"survived\"\n",
       "  3 => \"fare\"\n",
       "  1 => \"age\""
      ]
     },
     "execution_count": 25,
     "metadata": {},
     "output_type": "execute_result"
    }
   ],
   "source": [
    "idx2names = Dict(\n",
    "    1 => \"age\", 2 => \"protembarked\", 3 => \"fare\", 4=>\"numparentschildren\", 5=>\"passengerclass\",\n",
    "    6 => \"sex\", 7 =>\"numsiblings\", 8=>\"survived\"\n",
    "                ) "
   ]
  },
  {
   "cell_type": "code",
   "execution_count": 26,
   "id": "81d74fe9",
   "metadata": {},
   "outputs": [],
   "source": [
    "write_gph(G, idx2names, \"opt_graph1.gph\")"
   ]
  },
  {
   "cell_type": "code",
   "execution_count": null,
   "id": "2d41377a",
   "metadata": {},
   "outputs": [],
   "source": []
  }
 ],
 "metadata": {
  "kernelspec": {
   "display_name": "Julia 1.9.3",
   "language": "julia",
   "name": "julia-1.9"
  },
  "language_info": {
   "file_extension": ".jl",
   "mimetype": "application/julia",
   "name": "julia",
   "version": "1.9.3"
  }
 },
 "nbformat": 4,
 "nbformat_minor": 5
}
