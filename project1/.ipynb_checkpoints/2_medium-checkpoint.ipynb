{
 "cells": [
  {
   "cell_type": "code",
   "execution_count": 1,
   "id": "f66aac60",
   "metadata": {},
   "outputs": [
    {
     "data": {
      "text/plain": [
       "run_ga (generic function with 1 method)"
      ]
     },
     "execution_count": 1,
     "metadata": {},
     "output_type": "execute_result"
    }
   ],
   "source": [
    "using Graphs\n",
    "using Printf\n",
    "using DataFrames\n",
    "using CSV\n",
    "using LinearAlgebra\n",
    "using Random \n",
    "include(\"functions.jl\")\n",
    "include(\"evolve.jl\")"
   ]
  },
  {
   "cell_type": "code",
   "execution_count": 2,
   "id": "a6714608",
   "metadata": {},
   "outputs": [],
   "source": [
    "infile = \"data/medium.csv\";"
   ]
  },
  {
   "cell_type": "code",
   "execution_count": 3,
   "id": "8cd4dca6",
   "metadata": {},
   "outputs": [
    {
     "data": {
      "text/plain": [
       "(Variable[Variable(:fixedacidity, 5), Variable(:volatileacidity, 5), Variable(:citricacid, 5), Variable(:residualsugar, 5), Variable(:chlorides, 5), Variable(:freesulfurdioxide, 5), Variable(:totalsulfurdioxide, 5), Variable(:density, 5), Variable(:ph, 5), Variable(:sulphates, 5), Variable(:alcohol, 5), Variable(:quality, 5)], SimpleDiGraph{Int64}(0, [Int64[], Int64[], Int64[], Int64[], Int64[], Int64[], Int64[], Int64[], Int64[], Int64[], Int64[], Int64[]], [Int64[], Int64[], Int64[], Int64[], Int64[], Int64[], Int64[], Int64[], Int64[], Int64[], Int64[], Int64[]]), [2 2 … 1 2; 1 2 … 2 1; … ; 1 2 … 4 4; 3 3 … 4 3], -45388.95842624134)"
      ]
     },
     "execution_count": 3,
     "metadata": {},
     "output_type": "execute_result"
    }
   ],
   "source": [
    "vars, G, D, P = init_data(infile)"
   ]
  },
  {
   "cell_type": "code",
   "execution_count": 4,
   "id": "9d48e2f5",
   "metadata": {},
   "outputs": [],
   "source": [
    "# method = LocalDirectedGraphSearch(G, 100);"
   ]
  },
  {
   "cell_type": "code",
   "execution_count": 5,
   "id": "2aad7e78",
   "metadata": {},
   "outputs": [],
   "source": [
    "# G_new, bs_new = fit(method, vars, D);"
   ]
  },
  {
   "cell_type": "markdown",
   "id": "7e615ace",
   "metadata": {},
   "source": [
    "## Try GA (simple mutation & order crossover) "
   ]
  },
  {
   "cell_type": "code",
   "execution_count": 6,
   "id": "aa85c42b",
   "metadata": {},
   "outputs": [
    {
     "data": {
      "text/plain": [
       "GA_params(10, 0.3, 0.3, 0.1)"
      ]
     },
     "execution_count": 6,
     "metadata": {},
     "output_type": "execute_result"
    }
   ],
   "source": [
    "param = GA_params(10, 0.3, 0.3, 0.1)"
   ]
  },
  {
   "cell_type": "code",
   "execution_count": null,
   "id": "d3006a4e",
   "metadata": {
    "scrolled": true
   },
   "outputs": [
    {
     "name": "stdout",
     "output_type": "stream",
     "text": [
      "[0, 0, 0, 0, 0, 8, 9, 2, 10, 0, 0, 0]\n",
      "adding 6 at 1\n",
      "adding 4 at 2\n",
      "adding 11 at 3\n",
      "adding 1 at 4\n",
      "adding 3 at 5\n",
      "adding 7 at 10\n",
      "adding 12 at 11\n",
      "adding 5 at 12\n",
      "[0, 3, 8, 0, 0, 0, 0, 0, 0, 0, 0, 0]\n",
      "adding 11 at 1\n",
      "adding 10 at 4\n",
      "adding 7 at 5\n",
      "adding 4 at 6\n",
      "adding 2 at 7\n",
      "adding 1 at 8\n",
      "adding 9 at 9\n",
      "adding 5 at 10\n",
      "adding 6 at 11\n",
      "adding 12 at 12\n"
     ]
    }
   ],
   "source": [
    "G_best, y_best = run_ga(vars, D, 50, param)"
   ]
  },
  {
   "cell_type": "code",
   "execution_count": null,
   "id": "2fc9bbd0",
   "metadata": {},
   "outputs": [],
   "source": [
    "G_best"
   ]
  },
  {
   "cell_type": "code",
   "execution_count": null,
   "id": "65e192b5",
   "metadata": {},
   "outputs": [],
   "source": [
    "method = K2Search(G_best,vars,D)"
   ]
  },
  {
   "cell_type": "code",
   "execution_count": null,
   "id": "1442a87e",
   "metadata": {},
   "outputs": [],
   "source": [
    "G_best, BS_best = fit(method, vars, D)"
   ]
  },
  {
   "cell_type": "code",
   "execution_count": null,
   "id": "84754869",
   "metadata": {},
   "outputs": [],
   "source": [
    "df = CSV.File(infile) |> DataFrame\n",
    "column_names = names(df)\n",
    "num_columns = length(column_names)\n",
    "idx2names = Dict(i => column_names[i] for i in 1:num_columns)\n"
   ]
  },
  {
   "cell_type": "code",
   "execution_count": null,
   "id": "fc491b21",
   "metadata": {},
   "outputs": [],
   "source": [
    "function write_gph(dag::DiGraph, idx2names, filename)\n",
    "    open(filename, \"w\") do io\n",
    "        for edge in edges(dag)\n",
    "            @printf(io, \"%s,%s\\n\", idx2names[src(edge)], idx2names[dst(edge)])\n",
    "        end\n",
    "    end\n",
    "end"
   ]
  },
  {
   "cell_type": "code",
   "execution_count": null,
   "id": "be46abe6",
   "metadata": {},
   "outputs": [],
   "source": [
    "write_gph(G_best, idx2names, \"opt_graph2.gph\")"
   ]
  },
  {
   "cell_type": "code",
   "execution_count": null,
   "id": "209ac4dc",
   "metadata": {},
   "outputs": [],
   "source": [
    "using Graphs  # for DiGraph and add_edge!\n",
    "using TikzGraphs   # for TikZ plot output\n",
    "using TikzPictures # to save TikZ as PDF"
   ]
  },
  {
   "cell_type": "code",
   "execution_count": null,
   "id": "68b15ff5",
   "metadata": {},
   "outputs": [],
   "source": [
    "p = plot(G_best, [column_names[i] for i in 1:num_columns]) # create TikZ plot with labels\n",
    "save(PDF(\"graph2.pdf\"), p) # save TikZ as PDF"
   ]
  },
  {
   "cell_type": "code",
   "execution_count": null,
   "id": "4afb46c1",
   "metadata": {},
   "outputs": [],
   "source": [
    "G_best"
   ]
  },
  {
   "cell_type": "code",
   "execution_count": null,
   "id": "bb7da072",
   "metadata": {},
   "outputs": [],
   "source": []
  },
  {
   "cell_type": "code",
   "execution_count": null,
   "id": "b93faef2",
   "metadata": {},
   "outputs": [],
   "source": []
  }
 ],
 "metadata": {
  "kernelspec": {
   "display_name": "Julia 1.9.3",
   "language": "julia",
   "name": "julia-1.9"
  },
  "language_info": {
   "file_extension": ".jl",
   "mimetype": "application/julia",
   "name": "julia",
   "version": "1.9.3"
  }
 },
 "nbformat": 4,
 "nbformat_minor": 5
}
