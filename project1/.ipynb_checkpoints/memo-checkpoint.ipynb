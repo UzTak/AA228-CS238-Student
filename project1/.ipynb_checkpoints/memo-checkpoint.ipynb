{
 "cells": [
  {
   "cell_type": "code",
   "execution_count": 11,
   "id": "d3a007bd",
   "metadata": {
    "scrolled": true
   },
   "outputs": [
    {
     "data": {
      "text/plain": [
       "bayesian_score"
      ]
     },
     "execution_count": 11,
     "metadata": {},
     "output_type": "execute_result"
    }
   ],
   "source": [
    "using Graphs\n",
    "using Printf\n",
    "using DataFrames\n",
    "using CSV\n",
    "using LinearAlgebra\n",
    "include(\"functions.jl\")"
   ]
  },
  {
   "cell_type": "code",
   "execution_count": null,
   "id": "dd1e99a1",
   "metadata": {},
   "outputs": [],
   "source": []
  },
  {
   "cell_type": "code",
   "execution_count": 12,
   "id": "d1e502d7",
   "metadata": {},
   "outputs": [],
   "source": [
    "infile = \"data/small.csv\"\n",
    "df = CSV.File(infile);"
   ]
  },
  {
   "cell_type": "code",
   "execution_count": 13,
   "id": "431f4494",
   "metadata": {},
   "outputs": [
    {
     "data": {
      "text/plain": [
       "-7.207859871432474"
      ]
     },
     "execution_count": 13,
     "metadata": {},
     "output_type": "execute_result"
    }
   ],
   "source": [
    "G = SimpleDiGraph(3) \n",
    "add_edge!(G, 1, 2) \n",
    "add_edge!(G, 3, 2) \n",
    "vars = [Variable(:A,2), Variable(:B,2), Variable(:C,2)] \n",
    "D = [1 2 2 1; 1 2 2 1; 2 2 2 2] \n",
    "M = statistics(vars, G, D)\n",
    "\n",
    "p = bayesian_score(vars, G, D) \n"
   ]
  },
  {
   "cell_type": "code",
   "execution_count": null,
   "id": "e4784c91",
   "metadata": {},
   "outputs": [],
   "source": []
  },
  {
   "cell_type": "code",
   "execution_count": null,
   "id": "4beefa55",
   "metadata": {},
   "outputs": [],
   "source": []
  },
  {
   "cell_type": "code",
   "execution_count": null,
   "id": "f49e422b",
   "metadata": {},
   "outputs": [],
   "source": []
  },
  {
   "cell_type": "code",
   "execution_count": null,
   "id": "2963723f",
   "metadata": {},
   "outputs": [],
   "source": []
  },
  {
   "cell_type": "code",
   "execution_count": null,
   "id": "e9ba042f",
   "metadata": {},
   "outputs": [],
   "source": []
  }
 ],
 "metadata": {
  "kernelspec": {
   "display_name": "Julia 1.9.3",
   "language": "julia",
   "name": "julia-1.9"
  },
  "language_info": {
   "file_extension": ".jl",
   "mimetype": "application/julia",
   "name": "julia",
   "version": "1.9.3"
  }
 },
 "nbformat": 4,
 "nbformat_minor": 5
}
