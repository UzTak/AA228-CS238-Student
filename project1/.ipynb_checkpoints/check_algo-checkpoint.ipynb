{
 "cells": [
  {
   "cell_type": "code",
   "execution_count": 12,
   "id": "2be68dc8",
   "metadata": {},
   "outputs": [
    {
     "data": {
      "text/plain": [
       "run_ga (generic function with 1 method)"
      ]
     },
     "execution_count": 12,
     "metadata": {},
     "output_type": "execute_result"
    }
   ],
   "source": [
    "using Graphs\n",
    "using Printf\n",
    "using DataFrames\n",
    "using CSV\n",
    "using LinearAlgebra\n",
    "using Random \n",
    "using TikzGraphs   # for TikZ plot output\n",
    "using TikzPictures # to save TikZ as PDF\n",
    "tikzDeleteIntermediate(false)\n",
    "\n",
    "include(\"functions.jl\")\n",
    "include(\"evolve.jl\")"
   ]
  },
  {
   "cell_type": "code",
   "execution_count": 16,
   "id": "ce4cee6e",
   "metadata": {},
   "outputs": [
    {
     "data": {
      "text/plain": [
       "true"
      ]
     },
     "execution_count": 16,
     "metadata": {},
     "output_type": "execute_result"
    }
   ],
   "source": [
    "infile = \"example/example.csv\";\n",
    "vars, G, D, P = init_data(infile)\n",
    "g = DiGraph(6) # create a directed graph\n",
    "add_edge!(g, 1, 2) # add edge from node 1 to node 2\n",
    "add_edge!(g, 3, 4) \n",
    "add_edge!(g, 5, 6) \n",
    "add_edge!(g, 1, 4) \n",
    "add_edge!(g, 5, 4) \n",
    "\n",
    "# p = plot(g, [\"First\", \"Second\"]) # create TikZ plot with labels\n",
    "# save(PDF(\"graph.pdf\"), p) # save TikZ as PDF"
   ]
  },
  {
   "cell_type": "code",
   "execution_count": 17,
   "id": "c914a64b",
   "metadata": {},
   "outputs": [
    {
     "data": {
      "text/plain": [
       "-132.57689402451837"
      ]
     },
     "execution_count": 17,
     "metadata": {},
     "output_type": "execute_result"
    }
   ],
   "source": [
    "bs = bayesian_score(vars, g, D) "
   ]
  },
  {
   "cell_type": "code",
   "execution_count": 15,
   "id": "0b337dba",
   "metadata": {},
   "outputs": [
    {
     "data": {
      "text/plain": [
       "6×20 adjoint(::Matrix{Int64}) with eltype Int64:\n",
       " 3  1  3  1  2  1  1  3  1  3  2  2  2  2  1  2  1  3  3  1\n",
       " 3  3  1  3  3  3  3  3  3  1  3  3  2  3  1  2  2  1  1  3\n",
       " 2  2  1  1  3  1  3  2  1  1  3  2  3  3  2  1  1  1  1  1\n",
       " 3  3  2  2  2  1  1  3  3  3  3  3  1  3  3  3  3  3  3  2\n",
       " 1  2  3  3  2  1  2  1  2  3  2  3  1  2  3  2  2  1  3  3\n",
       " 3  3  1  2  1  3  3  3  1  3  3  3  3  3  2  3  3  2  3  1"
      ]
     },
     "execution_count": 15,
     "metadata": {},
     "output_type": "execute_result"
    }
   ],
   "source": [
    "D"
   ]
  },
  {
   "cell_type": "code",
   "execution_count": null,
   "id": "e825fedb",
   "metadata": {},
   "outputs": [],
   "source": []
  },
  {
   "cell_type": "code",
   "execution_count": null,
   "id": "3c81bbda",
   "metadata": {},
   "outputs": [],
   "source": []
  }
 ],
 "metadata": {
  "kernelspec": {
   "display_name": "Julia 1.9.3",
   "language": "julia",
   "name": "julia-1.9"
  },
  "language_info": {
   "file_extension": ".jl",
   "mimetype": "application/julia",
   "name": "julia",
   "version": "1.9.3"
  }
 },
 "nbformat": 4,
 "nbformat_minor": 5
}
