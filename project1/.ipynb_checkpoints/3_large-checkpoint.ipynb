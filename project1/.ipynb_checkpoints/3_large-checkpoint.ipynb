{
 "cells": [
  {
   "cell_type": "code",
   "execution_count": 2,
   "id": "2394de03",
   "metadata": {},
   "outputs": [
    {
     "data": {
      "text/plain": [
       "run_ga (generic function with 1 method)"
      ]
     },
     "execution_count": 2,
     "metadata": {},
     "output_type": "execute_result"
    }
   ],
   "source": [
    "using Graphs\n",
    "using Printf\n",
    "using DataFrames\n",
    "using CSV\n",
    "using LinearAlgebra\n",
    "using Random \n",
    "include(\"functions.jl\")\n",
    "include(\"evolve.jl\")"
   ]
  },
  {
   "cell_type": "code",
   "execution_count": 3,
   "id": "084c006f",
   "metadata": {},
   "outputs": [],
   "source": [
    "infile = \"data/large.csv\";"
   ]
  },
  {
   "cell_type": "code",
   "execution_count": 4,
   "id": "4c4a67e6",
   "metadata": {},
   "outputs": [],
   "source": [
    "vars, G, D, P = init_data(infile);"
   ]
  },
  {
   "cell_type": "code",
   "execution_count": 6,
   "id": "7e85587a",
   "metadata": {},
   "outputs": [
    {
     "name": "stdout",
     "output_type": "stream",
     "text": [
      "elapsed time: 4.909383332729339 mins\n",
      "elapsed time: 10.102233334382374 mins\n",
      "elapsed time: 16.541383334000905 mins\n",
      "elapsed time: 23.373566667238872 mins\n",
      "elapsed time: 29.675983333587645 mins\n",
      "elapsed time: 36.00264999866486 mins\n",
      "Exiting the loop after 30 minutes.\n"
     ]
    }
   ],
   "source": [
    "N = 30 \n",
    "G_best = SimpleDiGraph(length(vars))\n",
    "y_best = -Inf \n",
    "\n",
    "start_time = time()  # Record the start time in seconds\n",
    "\n",
    "while true \n",
    "   \n",
    "    pop0 = randperm(length(vars))\n",
    "    k2_base = K2Search(pop0)\n",
    "    G,y = fit(k2_base, vars, D)\n",
    "    \n",
    "    if y > y_best \n",
    "        G_best = G\n",
    "        y_best = y\n",
    "    end \n",
    "    \n",
    "    current_time = time()  # Get the current time in seconds\n",
    "    elapsed_minutes = (current_time - start_time) / 60  # Calculate elapsed minutes\n",
    "    \n",
    "    println(\"elapsed time: $elapsed_minutes mins\")\n",
    "    \n",
    "    if elapsed_minutes > N\n",
    "        println(\"Exiting the loop after $N minutes.\")\n",
    "        break\n",
    "    end\n",
    "end\n"
   ]
  },
  {
   "cell_type": "code",
   "execution_count": 7,
   "id": "66d2c62c",
   "metadata": {},
   "outputs": [
    {
     "ename": "LoadError",
     "evalue": "UndefVarError: `y_` not defined",
     "output_type": "error",
     "traceback": [
      "UndefVarError: `y_` not defined",
      ""
     ]
    }
   ],
   "source": [
    "y_"
   ]
  },
  {
   "cell_type": "code",
   "execution_count": null,
   "id": "cb148954",
   "metadata": {},
   "outputs": [],
   "source": []
  },
  {
   "cell_type": "code",
   "execution_count": null,
   "id": "49ba809f",
   "metadata": {},
   "outputs": [],
   "source": []
  },
  {
   "cell_type": "code",
   "execution_count": null,
   "id": "a26f5b97",
   "metadata": {},
   "outputs": [],
   "source": []
  }
 ],
 "metadata": {
  "kernelspec": {
   "display_name": "Julia 1.9.3",
   "language": "julia",
   "name": "julia-1.9"
  },
  "language_info": {
   "file_extension": ".jl",
   "mimetype": "application/julia",
   "name": "julia",
   "version": "1.9.3"
  }
 },
 "nbformat": 4,
 "nbformat_minor": 5
}
