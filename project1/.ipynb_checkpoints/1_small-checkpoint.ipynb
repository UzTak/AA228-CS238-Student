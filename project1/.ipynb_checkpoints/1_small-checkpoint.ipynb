{
 "cells": [
  {
   "cell_type": "code",
   "execution_count": null,
   "id": "d3a007bd",
   "metadata": {
    "scrolled": true
   },
   "outputs": [],
   "source": [
    "using Graphs\n",
    "using Printf\n",
    "using DataFrames\n",
    "using CSV\n",
    "using LinearAlgebra\n",
    "\n",
    "include(\"functions.jl\")\n"
   ]
  },
  {
   "cell_type": "code",
   "execution_count": null,
   "id": "d1e502d7",
   "metadata": {},
   "outputs": [],
   "source": [
    "infile = \"data/small.csv\""
   ]
  },
  {
   "cell_type": "code",
   "execution_count": null,
   "id": "f49e422b",
   "metadata": {},
   "outputs": [],
   "source": [
    "function init_data(fname)\n",
    "    df = CSV.File(fname) |> DataFrame\n",
    "    data_mat = Matrix(df);\n",
    "    column_names = names(df)\n",
    "    num_instance = [maximum(data_mat[:, i]) - minimum(data_mat[:, i]) + 1 for i in 1:size(data_mat, 2)]\n",
    "    vars = [Variable(Symbol(column_names[i]), num_instance[i]) for i in 1:length(column_names)]\n",
    "    G = SimpleDiGraph(length(column_names)) \n",
    "    D = data_mat'\n",
    "    p = bayesian_score(vars, G, data_mat')   # feed transposed data!!!!\n",
    "    return vars, G, D, p \n",
    "end"
   ]
  },
  {
   "cell_type": "code",
   "execution_count": null,
   "id": "e9ba042f",
   "metadata": {},
   "outputs": [],
   "source": [
    "vars, G, D, P = init_data(infile)"
   ]
  },
  {
   "cell_type": "code",
   "execution_count": null,
   "id": "34d5394d",
   "metadata": {},
   "outputs": [],
   "source": [
    "struct K2Search \n",
    "    ordering::Vector{Int}    # variable ordering \n",
    "end\n",
    "\n",
    "\n",
    "function fit(method::K2Search, vars, D)\n",
    "    G = SimpleDiGraph(length(vars))\n",
    "    y = 0\n",
    "    for (k,i) in enumerate(method.ordering[2:end])\n",
    "#         println(k,i)\n",
    "        y = bayesian_score(vars, G, D)\n",
    "        while true \n",
    "            y_best, j_best = -Inf, 0 \n",
    "            for j in method.ordering[1:k]\n",
    "                if !has_edge(G, j, i)\n",
    "                    add_edge!(G, j, i)\n",
    "                    y_new = bayesian_score(vars, G, D)\n",
    "                    if y_new > y_best \n",
    "                        y_best, j_best = y_new, j \n",
    "                    end \n",
    "                    rem_edge!(G, j, i)\n",
    "                end\n",
    "            end \n",
    "            # select and add the best edge \n",
    "            if y_best > y \n",
    "                y = y_best \n",
    "                add_edge!(G, j_best, i)\n",
    "            else \n",
    "                break\n",
    "            end\n",
    "        end \n",
    "    end\n",
    "    return G, y\n",
    "end \n"
   ]
  },
  {
   "cell_type": "code",
   "execution_count": null,
   "id": "55995a3c",
   "metadata": {},
   "outputs": [],
   "source": [
    "# Function to generate permutations\n",
    "function permutations(arr)\n",
    "    n = length(arr)\n",
    "    if n == 1\n",
    "        return [arr]\n",
    "    else\n",
    "        perms = []\n",
    "        for i = 1:n\n",
    "            first_elem = arr[i]\n",
    "            rest = [arr[j] for j in 1:n if j != i]\n",
    "            subperms = permutations(rest)\n",
    "            for p in subperms\n",
    "                push!(perms, [first_elem; p])\n",
    "            end\n",
    "        end\n",
    "        return perms\n",
    "    end\n",
    "end"
   ]
  },
  {
   "cell_type": "code",
   "execution_count": null,
   "id": "b03685f0",
   "metadata": {},
   "outputs": [],
   "source": [
    "method = K2Search([1,2,3,4,5,6,7,8])"
   ]
  },
  {
   "cell_type": "code",
   "execution_count": null,
   "id": "7fb81f61",
   "metadata": {},
   "outputs": [],
   "source": [
    "G_, BS_best = fit(method, vars, D)"
   ]
  },
  {
   "cell_type": "code",
   "execution_count": null,
   "id": "265728e2",
   "metadata": {},
   "outputs": [],
   "source": [
    "using ProgressMeter\n",
    "\n",
    "elements = 1:8\n",
    "# permutations = collect(permutations(elements))\n",
    "perm = permutations(elements)\n",
    "\n",
    "# Print the permutations\n",
    "G  = SimpleDiGraph(length(vars))\n",
    "bs = -Inf\n",
    "\n",
    "@showprogress dt=1 desc=\"Computing...\" for p in perm\n",
    "    method = K2Search(p)\n",
    "    G_new, bs_new = fit(method, vars, D)\n",
    "    \n",
    "    if bs_new > bs \n",
    "        bs = bs_new \n",
    "        G = G_new\n",
    "    end \n",
    "end"
   ]
  },
  {
   "cell_type": "code",
   "execution_count": null,
   "id": "0b384362",
   "metadata": {},
   "outputs": [],
   "source": [
    "bs"
   ]
  },
  {
   "cell_type": "code",
   "execution_count": null,
   "id": "b20a4903",
   "metadata": {},
   "outputs": [],
   "source": [
    "function write_gph(dag::DiGraph, idx2names, filename)\n",
    "    open(filename, \"w\") do io\n",
    "        for edge in edges(dag)\n",
    "            @printf(io, \"%s,%s\\n\", idx2names[src(edge)], idx2names[dst(edge)])\n",
    "        end\n",
    "    end\n",
    "end"
   ]
  },
  {
   "cell_type": "code",
   "execution_count": null,
   "id": "ac6e2f54",
   "metadata": {},
   "outputs": [],
   "source": [
    "column_names = names(df)"
   ]
  },
  {
   "cell_type": "code",
   "execution_count": null,
   "id": "15563f11",
   "metadata": {},
   "outputs": [],
   "source": [
    "df = CSV.File(infile) |> DataFrame\n",
    "column_names = names(df)\n",
    "num_columns = length(column_names)\n",
    "idx2names = Dict(i => column_names[i] for i in 1:num_columns)\n"
   ]
  },
  {
   "cell_type": "code",
   "execution_count": null,
   "id": "81d74fe9",
   "metadata": {},
   "outputs": [],
   "source": [
    "write_gph(G, idx2names, \"opt_graph1.gph\")"
   ]
  },
  {
   "cell_type": "code",
   "execution_count": null,
   "id": "2d41377a",
   "metadata": {},
   "outputs": [],
   "source": [
    "using Graphs  # for DiGraph and add_edge!\n",
    "using TikzGraphs   # for TikZ plot output\n",
    "using TikzPictures # to save TikZ as PDF"
   ]
  },
  {
   "cell_type": "code",
   "execution_count": null,
   "id": "802ba0d0",
   "metadata": {},
   "outputs": [],
   "source": [
    "p = plot(G_best, [column_names[i] for i in 1:num_columns]) # create TikZ plot with labels\n",
    "save(PDF(\"graph1.pdf\"), p) # save TikZ as PDF"
   ]
  }
 ],
 "metadata": {
  "kernelspec": {
   "display_name": "Julia 1.9.3",
   "language": "julia",
   "name": "julia-1.9"
  },
  "language_info": {
   "file_extension": ".jl",
   "mimetype": "application/julia",
   "name": "julia",
   "version": "1.9.3"
  }
 },
 "nbformat": 4,
 "nbformat_minor": 5
}
