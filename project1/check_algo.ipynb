{
 "cells": [
  {
   "cell_type": "code",
   "execution_count": null,
   "id": "7625d34d",
   "metadata": {},
   "outputs": [],
   "source": [
    "using Graphs\n",
    "using Printf\n",
    "using DataFrames\n",
    "using CSV\n",
    "using LinearAlgebra\n",
    "using Random \n",
    "using TikzGraphs   # for TikZ plot output\n",
    "using TikzPictures # to save TikZ as PDF\n",
    "tikzDeleteIntermediate(false)\n",
    "\n",
    "include(\"functions.jl\")\n",
    "include(\"evolve.jl\")"
   ]
  },
  {
   "cell_type": "code",
   "execution_count": null,
   "id": "ce4cee6e",
   "metadata": {},
   "outputs": [],
   "source": [
    "infile = \"example/example.csv\";\n",
    "vars, G, D, P = init_data(infile)\n",
    "g = DiGraph(6) # create a directed graph\n",
    "add_edge!(g, 1, 2) # add edge from node 1 to node 2\n",
    "add_edge!(g, 3, 4) \n",
    "add_edge!(g, 5, 6) \n",
    "add_edge!(g, 1, 4) \n",
    "add_edge!(g, 5, 4) \n",
    "\n",
    "# p = plot(g, [\"First\", \"Second\"]) # create TikZ plot with labels\n",
    "# save(PDF(\"graph.pdf\"), p) # save TikZ as PDF"
   ]
  },
  {
   "cell_type": "code",
   "execution_count": null,
   "id": "c914a64b",
   "metadata": {},
   "outputs": [],
   "source": [
    "bs = bayesian_score(vars, g, D) "
   ]
  },
  {
   "cell_type": "code",
   "execution_count": null,
   "id": "a8396c6d",
   "metadata": {},
   "outputs": [],
   "source": [
    "D"
   ]
  },
  {
   "cell_type": "code",
   "execution_count": null,
   "id": "ae095052",
   "metadata": {},
   "outputs": [],
   "source": []
  },
  {
   "cell_type": "code",
   "execution_count": null,
   "id": "8717af4a",
   "metadata": {},
   "outputs": [],
   "source": []
  }
 ],
 "metadata": {
  "kernelspec": {
   "display_name": "Julia 1.9.3",
   "language": "julia",
   "name": "julia-1.9"
  },
  "language_info": {
   "file_extension": ".jl",
   "mimetype": "application/julia",
   "name": "julia",
   "version": "1.9.3"
  }
 },
 "nbformat": 4,
 "nbformat_minor": 5
}
