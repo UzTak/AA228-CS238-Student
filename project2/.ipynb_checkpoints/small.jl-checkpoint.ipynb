{
 "cells": [
  {
   "cell_type": "code",
   "execution_count": null,
   "id": "9b35ed57",
   "metadata": {},
   "outputs": [],
   "source": [
    "using Printf\n",
    "using DataFrames\n",
    "using CSV\n",
    "using LinearAlgebra\n",
    "# using DataStructures\n",
    "\n",
    "include(\"RLalgo.jl\")"
   ]
  },
  {
   "cell_type": "markdown",
   "id": "5b98b676",
   "metadata": {},
   "source": [
    "### initialization of database"
   ]
  },
  {
   "cell_type": "code",
   "execution_count": null,
   "id": "f1eb8886",
   "metadata": {},
   "outputs": [],
   "source": [
    "infile = \"data/small.csv\"\n",
    "df = CSV.File(infile) |> DataFrame\n",
    "# data_mat = Matrix(df);\n",
    "\n",
    "x = [mod(df.s[j], 10)!=0 ? mod(df.s[j], 10) : 10 for j in 1:size(df,1)] \n",
    "y = [mod(df.s[j], 10)!=0 ? df.s[j] ÷ 10 + 1 : df.s[j] ÷ 10  for j in 1:size(df,1)] \n",
    "\n",
    "df = insertcols!(df, 2, :s_i => [x[i] for i in 1:size(df,1)])\n",
    "df = insertcols!(df, 3, :s_j => [y[j] for j in 1:size(df,1)]);\n",
    "\n",
    "xp = [mod(df.sp[j], 10)!=0 ? mod(df.sp[j], 10) : 10 for j in 1:size(df,1)] \n",
    "yp = [mod(df.sp[j], 10)!=0 ? df.sp[j] ÷ 10 + 1 : df.sp[j] ÷ 10  for j in 1:size(df,1)] \n",
    "\n",
    "df = insertcols!(df, 7, :sp_i => [xp[i] for i in 1:size(df,1)])\n",
    "df = insertcols!(df, 8, :sp_j => [yp[j] for j in 1:size(df,1)])"
   ]
  },
  {
   "cell_type": "markdown",
   "id": "1f5e8a3f",
   "metadata": {},
   "source": [
    "### Gradient Q-learning (not deep, w/o experience replay)"
   ]
  },
  {
   "cell_type": "code",
   "execution_count": null,
   "id": "4604c4d1",
   "metadata": {},
   "outputs": [],
   "source": [
    "S = [[[x,y] for x in 1:10] for y in 1:10]   # FIXME: need to reshape this \n",
    "# S = [i for i in 1:100]\n",
    "A = [1,2,3,4]\n",
    "γ = 0.95\n",
    "T = NaN\n",
    "R = NaN\n",
    "TR = NaN\n",
    "\n",
    "prob = MDP(γ,S,A,T,R,TR)"
   ]
  },
  {
   "cell_type": "code",
   "execution_count": null,
   "id": "ca45aacf",
   "metadata": {},
   "outputs": [],
   "source": [
    "β(s,a) = [s[1],s[2], s[1]+s[2], s[1]^2, s[2]^2, s[1]*s[2], a, a^2, 1]   # basis funciton \n",
    "Q(θ,s,a) = dot(θ,β(s,a)) \n",
    "∇Q(θ,s,a) = β(s,a) \n",
    "θ = [0.1 for i in 1:9] # initial parameter vector\n",
    "\n",
    "α = 0.5 # learning rate \n",
    "model = GradientQLearning(prob.A, prob.γ, Q, ∇Q, θ, α)"
   ]
  },
  {
   "cell_type": "code",
   "execution_count": null,
   "id": "49b40128",
   "metadata": {},
   "outputs": [],
   "source": [
    "train_offline(prob, model, df, 100) "
   ]
  },
  {
   "cell_type": "code",
   "execution_count": 1,
   "id": "8b74a261",
   "metadata": {},
   "outputs": [
    {
     "ename": "LoadError",
     "evalue": "UndefVarError: `A` not defined",
     "output_type": "error",
     "traceback": [
      "UndefVarError: `A` not defined",
      "",
      "Stacktrace:",
      " [1] (::var\"#3#6\")(s::Vector{Int64})",
      "   @ Main .\\none:0",
      " [2] iterate",
      "   @ .\\generator.jl:47 [inlined]",
      " [3] collect(itr::Base.Generator{Vector{Vector{Int64}}, var\"#3#6\"})",
      "   @ Base .\\array.jl:782",
      " [4] top-level scope",
      "   @ In[1]:1"
     ]
    }
   ],
   "source": [
    "a_opt = [findmax([model.Q(model.θ, s, a) for a in A])[2] for s in [[1,x] for x in 1:10]]"
   ]
  },
  {
   "cell_type": "code",
   "execution_count": null,
   "id": "de8a4bce",
   "metadata": {},
   "outputs": [],
   "source": [
    "a_opt = [findmax([model.Q(model.θ, s, a) for a in A])[2] for s in S]"
   ]
  },
  {
   "cell_type": "code",
   "execution_count": null,
   "id": "ac881b37",
   "metadata": {},
   "outputs": [],
   "source": []
  },
  {
   "cell_type": "code",
   "execution_count": null,
   "id": "2e3071e8",
   "metadata": {},
   "outputs": [],
   "source": []
  },
  {
   "cell_type": "code",
   "execution_count": null,
   "id": "a5e56585",
   "metadata": {},
   "outputs": [],
   "source": []
  },
  {
   "cell_type": "code",
   "execution_count": null,
   "id": "70d31bff",
   "metadata": {},
   "outputs": [],
   "source": [
    "ε = 0.1 # probability of random action \n",
    "π = EpsilonGreedyExploration(ε) \n",
    "k = 20 # number of steps to simulate \n",
    "s = 0.0 # initial state \n",
    "simulate(𝒫, model, π, k, s)"
   ]
  },
  {
   "cell_type": "code",
   "execution_count": null,
   "id": "17cfb6d0",
   "metadata": {},
   "outputs": [],
   "source": []
  },
  {
   "cell_type": "code",
   "execution_count": null,
   "id": "e55ddd96",
   "metadata": {},
   "outputs": [],
   "source": [
    "\n",
    "capacity = 100 # maximum size of the replay buffer \n",
    "ExperienceTuple = Tuple{Vector,Float64,Float64,Vector} \n",
    "M = CircularBuffer{ExperienceTuple}(capacity) # replay buffer \n",
    "m_grad = 20 # batch size \n",
    "model = ReplayGradientQLearning(𝒫.𝒜, 𝒫.γ, Q, ∇Q, θ, α, M, m, m_grad)\n"
   ]
  },
  {
   "cell_type": "code",
   "execution_count": null,
   "id": "903da961",
   "metadata": {},
   "outputs": [],
   "source": []
  },
  {
   "cell_type": "code",
   "execution_count": null,
   "id": "34160cac",
   "metadata": {},
   "outputs": [],
   "source": []
  },
  {
   "cell_type": "code",
   "execution_count": null,
   "id": "d0cac58c",
   "metadata": {},
   "outputs": [],
   "source": []
  }
 ],
 "metadata": {
  "kernelspec": {
   "display_name": "Julia 1.9.3",
   "language": "julia",
   "name": "julia-1.9"
  },
  "language_info": {
   "file_extension": ".jl",
   "mimetype": "application/julia",
   "name": "julia",
   "version": "1.9.3"
  }
 },
 "nbformat": 4,
 "nbformat_minor": 5
}
