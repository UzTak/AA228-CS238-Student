{
 "cells": [
  {
   "cell_type": "markdown",
   "id": "de5018d4",
   "metadata": {},
   "source": [
    "### Figured that Value iteration is model-based approach (need a full knowledge of transition model). You cannot use for the model-free batch learning... (11/01/2023)"
   ]
  },
  {
   "cell_type": "code",
   "execution_count": null,
   "id": "d3436a78",
   "metadata": {},
   "outputs": [],
   "source": [
    "using Printf\n",
    "using DataFrames\n",
    "using CSV\n",
    "using LinearAlgebra"
   ]
  },
  {
   "cell_type": "code",
   "execution_count": null,
   "id": "1e6c07e1",
   "metadata": {},
   "outputs": [],
   "source": [
    "infile = \"data/small.csv\"\n",
    "df = CSV.File(infile) |> DataFrame\n",
    "# data_mat = Matrix(df);\n",
    "\n",
    "x = [mod(df.s[j], 10)!=0 ? mod(df.s[j], 10) : 10 for j in 1:size(df,1)] \n",
    "y = [mod(df.s[j], 10)!=0 ? df.s[j] ÷ 10 + 1 : df.s[j] ÷ 10  for j in 1:size(df,1)] \n",
    "\n",
    "df = insertcols!(df, 2, :s_i => [x[i] for i in 1:size(df,1)])\n",
    "df = insertcols!(df, 3, :s_j => [y[j] for j in 1:size(df,1)])\n"
   ]
  },
  {
   "cell_type": "code",
   "execution_count": null,
   "id": "e65bdf09",
   "metadata": {},
   "outputs": [],
   "source": [
    "struct AsynchValueIteration\n",
    "    k_max \n",
    "end \n",
    "\n",
    "struct MDP \n",
    "    γ \n",
    "    S\n",
    "    A \n",
    "    T \n",
    "    R \n",
    "    TR \n",
    "end "
   ]
  },
  {
   "cell_type": "code",
   "execution_count": null,
   "id": "cece0015",
   "metadata": {},
   "outputs": [],
   "source": [
    "function lookahead(P::MDP, U, s, a)\n",
    "    S,T,R,γ = P.S, P.T, P.R, P.γ\n",
    "    return R(s,a) + γ * sum(T(s,a,s_) for s_ in S)\n",
    "end\n",
    "\n",
    "# Bellman backup \n",
    "function backup(P::MDP, U, s)\n",
    "    return maximum(lookahead(P,U,s,a) for a in P.A)\n",
    "end "
   ]
  },
  {
   "cell_type": "code",
   "execution_count": null,
   "id": "817aeae5",
   "metadata": {},
   "outputs": [],
   "source": []
  },
  {
   "cell_type": "code",
   "execution_count": null,
   "id": "d1d2154d",
   "metadata": {},
   "outputs": [],
   "source": [
    "struct ValueFunctionPolicy\n",
    "    P  # problem\n",
    "    U  # utility function \n",
    "end\n",
    "\n",
    "function greedy(P::MDP, U, s)\n",
    "    u, a = findmax(a->lookahead(P,U,s,a), P.A)\n",
    "    return (a=a, u=u)\n",
    "end\n",
    "\n",
    "(π::ValueFunctionPolicy)(s) = greedy(π.P, π.U, s).a"
   ]
  },
  {
   "cell_type": "code",
   "execution_count": null,
   "id": "dd00e673",
   "metadata": {},
   "outputs": [],
   "source": [
    "function solve(M::AsynchValueIteration, P::MDP)\n",
    "    U = [0.0 for s in P.S]\n",
    "    for k = 1:M.k_max\n",
    "        for (i,s) in enumerate(P.S)\n",
    "            U[i] = backup(P, U, s)\n",
    "        end \n",
    "    end\n",
    "    return ValueFunctionPolicy(P,U)\n",
    "end"
   ]
  },
  {
   "cell_type": "code",
   "execution_count": 3,
   "id": "ced65685",
   "metadata": {},
   "outputs": [
    {
     "data": {
      "text/plain": [
       "10-element Vector{Vector{Vector{Int64}}}:\n",
       " [[1, 1], [2, 1], [3, 1], [4, 1], [5, 1], [6, 1], [7, 1], [8, 1], [9, 1], [10, 1]]\n",
       " [[1, 2], [2, 2], [3, 2], [4, 2], [5, 2], [6, 2], [7, 2], [8, 2], [9, 2], [10, 2]]\n",
       " [[1, 3], [2, 3], [3, 3], [4, 3], [5, 3], [6, 3], [7, 3], [8, 3], [9, 3], [10, 3]]\n",
       " [[1, 4], [2, 4], [3, 4], [4, 4], [5, 4], [6, 4], [7, 4], [8, 4], [9, 4], [10, 4]]\n",
       " [[1, 5], [2, 5], [3, 5], [4, 5], [5, 5], [6, 5], [7, 5], [8, 5], [9, 5], [10, 5]]\n",
       " [[1, 6], [2, 6], [3, 6], [4, 6], [5, 6], [6, 6], [7, 6], [8, 6], [9, 6], [10, 6]]\n",
       " [[1, 7], [2, 7], [3, 7], [4, 7], [5, 7], [6, 7], [7, 7], [8, 7], [9, 7], [10, 7]]\n",
       " [[1, 8], [2, 8], [3, 8], [4, 8], [5, 8], [6, 8], [7, 8], [8, 8], [9, 8], [10, 8]]\n",
       " [[1, 9], [2, 9], [3, 9], [4, 9], [5, 9], [6, 9], [7, 9], [8, 9], [9, 9], [10, 9]]\n",
       " [[1, 10], [2, 10], [3, 10], [4, 10], [5, 10], [6, 10], [7, 10], [8, 10], [9, 10], [10, 10]]"
      ]
     },
     "execution_count": 3,
     "metadata": {},
     "output_type": "execute_result"
    }
   ],
   "source": [
    "S = [[[x,y] for x in 1:10] for y in 1:10] \n",
    "A = [1,2,3,4]\n"
   ]
  },
  {
   "cell_type": "code",
   "execution_count": null,
   "id": "e217bc9e",
   "metadata": {},
   "outputs": [],
   "source": [
    "rl   = AsynchValueIteration(100)\n",
    "prob = MDP()"
   ]
  }
 ],
 "metadata": {
  "kernelspec": {
   "display_name": "Julia 1.9.3",
   "language": "julia",
   "name": "julia-1.9"
  },
  "language_info": {
   "file_extension": ".jl",
   "mimetype": "application/julia",
   "name": "julia",
   "version": "1.9.3"
  }
 },
 "nbformat": 4,
 "nbformat_minor": 5
}
