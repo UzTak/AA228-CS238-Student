{
 "cells": [
  {
   "cell_type": "code",
   "execution_count": 13,
   "id": "20f31695",
   "metadata": {},
   "outputs": [
    {
     "data": {
      "text/plain": [
       "pack_state (generic function with 1 method)"
      ]
     },
     "execution_count": 13,
     "metadata": {},
     "output_type": "execute_result"
    }
   ],
   "source": [
    "using Printf\n",
    "using DataFrames\n",
    "using CSV\n",
    "using LinearAlgebra\n",
    "using ProgressMeter\n",
    "# using DataStructures\n",
    "\n",
    "include(\"RLalgo.jl\")"
   ]
  },
  {
   "cell_type": "code",
   "execution_count": null,
   "id": "cf7754b4",
   "metadata": {},
   "outputs": [],
   "source": []
  },
  {
   "cell_type": "code",
   "execution_count": 14,
   "id": "4ee59a37",
   "metadata": {},
   "outputs": [
    {
     "data": {
      "text/html": [
       "<div><div style = \"float: left;\"><span>100000×4 DataFrame</span></div><div style = \"float: right;\"><span style = \"font-style: italic;\">99975 rows omitted</span></div><div style = \"clear: both;\"></div></div><div class = \"data-frame\" style = \"overflow-x: scroll;\"><table class = \"data-frame\" style = \"margin-bottom: 6px;\"><thead><tr class = \"header\"><th class = \"rowNumber\" style = \"font-weight: bold; text-align: right;\">Row</th><th style = \"text-align: left;\">s</th><th style = \"text-align: left;\">a</th><th style = \"text-align: left;\">r</th><th style = \"text-align: left;\">sp</th></tr><tr class = \"subheader headerLastRow\"><th class = \"rowNumber\" style = \"font-weight: bold; text-align: right;\"></th><th title = \"Int64\" style = \"text-align: left;\">Int64</th><th title = \"Int64\" style = \"text-align: left;\">Int64</th><th title = \"Int64\" style = \"text-align: left;\">Int64</th><th title = \"Int64\" style = \"text-align: left;\">Int64</th></tr></thead><tbody><tr><td class = \"rowNumber\" style = \"font-weight: bold; text-align: right;\">1</td><td style = \"text-align: right;\">291311</td><td style = \"text-align: right;\">3</td><td style = \"text-align: right;\">0</td><td style = \"text-align: right;\">291312</td></tr><tr><td class = \"rowNumber\" style = \"font-weight: bold; text-align: right;\">2</td><td style = \"text-align: right;\">291312</td><td style = \"text-align: right;\">9</td><td style = \"text-align: right;\">0</td><td style = \"text-align: right;\">291312</td></tr><tr><td class = \"rowNumber\" style = \"font-weight: bold; text-align: right;\">3</td><td style = \"text-align: right;\">291312</td><td style = \"text-align: right;\">1</td><td style = \"text-align: right;\">5</td><td style = \"text-align: right;\">291212</td></tr><tr><td class = \"rowNumber\" style = \"font-weight: bold; text-align: right;\">4</td><td style = \"text-align: right;\">291212</td><td style = \"text-align: right;\">7</td><td style = \"text-align: right;\">0</td><td style = \"text-align: right;\">291212</td></tr><tr><td class = \"rowNumber\" style = \"font-weight: bold; text-align: right;\">5</td><td style = \"text-align: right;\">291212</td><td style = \"text-align: right;\">6</td><td style = \"text-align: right;\">0</td><td style = \"text-align: right;\">291212</td></tr><tr><td class = \"rowNumber\" style = \"font-weight: bold; text-align: right;\">6</td><td style = \"text-align: right;\">291212</td><td style = \"text-align: right;\">9</td><td style = \"text-align: right;\">0</td><td style = \"text-align: right;\">291212</td></tr><tr><td class = \"rowNumber\" style = \"font-weight: bold; text-align: right;\">7</td><td style = \"text-align: right;\">291212</td><td style = \"text-align: right;\">9</td><td style = \"text-align: right;\">0</td><td style = \"text-align: right;\">291212</td></tr><tr><td class = \"rowNumber\" style = \"font-weight: bold; text-align: right;\">8</td><td style = \"text-align: right;\">291212</td><td style = \"text-align: right;\">2</td><td style = \"text-align: right;\">0</td><td style = \"text-align: right;\">291213</td></tr><tr><td class = \"rowNumber\" style = \"font-weight: bold; text-align: right;\">9</td><td style = \"text-align: right;\">291213</td><td style = \"text-align: right;\">4</td><td style = \"text-align: right;\">0</td><td style = \"text-align: right;\">291113</td></tr><tr><td class = \"rowNumber\" style = \"font-weight: bold; text-align: right;\">10</td><td style = \"text-align: right;\">291113</td><td style = \"text-align: right;\">8</td><td style = \"text-align: right;\">0</td><td style = \"text-align: right;\">291113</td></tr><tr><td class = \"rowNumber\" style = \"font-weight: bold; text-align: right;\">11</td><td style = \"text-align: right;\">291113</td><td style = \"text-align: right;\">4</td><td style = \"text-align: right;\">0</td><td style = \"text-align: right;\">291114</td></tr><tr><td class = \"rowNumber\" style = \"font-weight: bold; text-align: right;\">12</td><td style = \"text-align: right;\">291114</td><td style = \"text-align: right;\">8</td><td style = \"text-align: right;\">0</td><td style = \"text-align: right;\">291114</td></tr><tr><td class = \"rowNumber\" style = \"font-weight: bold; text-align: right;\">13</td><td style = \"text-align: right;\">291114</td><td style = \"text-align: right;\">4</td><td style = \"text-align: right;\">0</td><td style = \"text-align: right;\">291214</td></tr><tr><td style = \"text-align: right;\">&vellip;</td><td style = \"text-align: right;\">&vellip;</td><td style = \"text-align: right;\">&vellip;</td><td style = \"text-align: right;\">&vellip;</td><td style = \"text-align: right;\">&vellip;</td></tr><tr><td class = \"rowNumber\" style = \"font-weight: bold; text-align: right;\">99989</td><td style = \"text-align: right;\">291203</td><td style = \"text-align: right;\">7</td><td style = \"text-align: right;\">0</td><td style = \"text-align: right;\">291203</td></tr><tr><td class = \"rowNumber\" style = \"font-weight: bold; text-align: right;\">99990</td><td style = \"text-align: right;\">291203</td><td style = \"text-align: right;\">2</td><td style = \"text-align: right;\">0</td><td style = \"text-align: right;\">291202</td></tr><tr><td class = \"rowNumber\" style = \"font-weight: bold; text-align: right;\">99991</td><td style = \"text-align: right;\">291202</td><td style = \"text-align: right;\">4</td><td style = \"text-align: right;\">0</td><td style = \"text-align: right;\">291302</td></tr><tr><td class = \"rowNumber\" style = \"font-weight: bold; text-align: right;\">99992</td><td style = \"text-align: right;\">291302</td><td style = \"text-align: right;\">3</td><td style = \"text-align: right;\">0</td><td style = \"text-align: right;\">291202</td></tr><tr><td class = \"rowNumber\" style = \"font-weight: bold; text-align: right;\">99993</td><td style = \"text-align: right;\">291202</td><td style = \"text-align: right;\">1</td><td style = \"text-align: right;\">0</td><td style = \"text-align: right;\">291203</td></tr><tr><td class = \"rowNumber\" style = \"font-weight: bold; text-align: right;\">99994</td><td style = \"text-align: right;\">291203</td><td style = \"text-align: right;\">4</td><td style = \"text-align: right;\">0</td><td style = \"text-align: right;\">291303</td></tr><tr><td class = \"rowNumber\" style = \"font-weight: bold; text-align: right;\">99995</td><td style = \"text-align: right;\">291303</td><td style = \"text-align: right;\">1</td><td style = \"text-align: right;\">0</td><td style = \"text-align: right;\">291304</td></tr><tr><td class = \"rowNumber\" style = \"font-weight: bold; text-align: right;\">99996</td><td style = \"text-align: right;\">291304</td><td style = \"text-align: right;\">3</td><td style = \"text-align: right;\">0</td><td style = \"text-align: right;\">291204</td></tr><tr><td class = \"rowNumber\" style = \"font-weight: bold; text-align: right;\">99997</td><td style = \"text-align: right;\">291204</td><td style = \"text-align: right;\">2</td><td style = \"text-align: right;\">0</td><td style = \"text-align: right;\">291304</td></tr><tr><td class = \"rowNumber\" style = \"font-weight: bold; text-align: right;\">99998</td><td style = \"text-align: right;\">291304</td><td style = \"text-align: right;\">2</td><td style = \"text-align: right;\">0</td><td style = \"text-align: right;\">291303</td></tr><tr><td class = \"rowNumber\" style = \"font-weight: bold; text-align: right;\">99999</td><td style = \"text-align: right;\">291303</td><td style = \"text-align: right;\">3</td><td style = \"text-align: right;\">0</td><td style = \"text-align: right;\">291203</td></tr><tr><td class = \"rowNumber\" style = \"font-weight: bold; text-align: right;\">100000</td><td style = \"text-align: right;\">291203</td><td style = \"text-align: right;\">3</td><td style = \"text-align: right;\">0</td><td style = \"text-align: right;\">291103</td></tr></tbody></table></div>"
      ],
      "text/latex": [
       "\\begin{tabular}{r|cccc}\n",
       "\t& s & a & r & sp\\\\\n",
       "\t\\hline\n",
       "\t& Int64 & Int64 & Int64 & Int64\\\\\n",
       "\t\\hline\n",
       "\t1 & 291311 & 3 & 0 & 291312 \\\\\n",
       "\t2 & 291312 & 9 & 0 & 291312 \\\\\n",
       "\t3 & 291312 & 1 & 5 & 291212 \\\\\n",
       "\t4 & 291212 & 7 & 0 & 291212 \\\\\n",
       "\t5 & 291212 & 6 & 0 & 291212 \\\\\n",
       "\t6 & 291212 & 9 & 0 & 291212 \\\\\n",
       "\t7 & 291212 & 9 & 0 & 291212 \\\\\n",
       "\t8 & 291212 & 2 & 0 & 291213 \\\\\n",
       "\t9 & 291213 & 4 & 0 & 291113 \\\\\n",
       "\t10 & 291113 & 8 & 0 & 291113 \\\\\n",
       "\t11 & 291113 & 4 & 0 & 291114 \\\\\n",
       "\t12 & 291114 & 8 & 0 & 291114 \\\\\n",
       "\t13 & 291114 & 4 & 0 & 291214 \\\\\n",
       "\t14 & 291214 & 9 & 0 & 291214 \\\\\n",
       "\t15 & 291214 & 2 & 0 & 291213 \\\\\n",
       "\t16 & 291213 & 2 & 5 & 291212 \\\\\n",
       "\t17 & 291212 & 1 & 0 & 291213 \\\\\n",
       "\t18 & 291213 & 4 & 5 & 291212 \\\\\n",
       "\t19 & 291212 & 1 & 0 & 291213 \\\\\n",
       "\t20 & 291213 & 2 & 5 & 291212 \\\\\n",
       "\t21 & 291212 & 7 & 0 & 291212 \\\\\n",
       "\t22 & 291212 & 5 & 0 & 291212 \\\\\n",
       "\t23 & 291212 & 2 & 0 & 291211 \\\\\n",
       "\t24 & 291211 & 3 & 0 & 291111 \\\\\n",
       "\t25 & 291111 & 8 & 0 & 291111 \\\\\n",
       "\t26 & 291111 & 3 & 0 & 291112 \\\\\n",
       "\t27 & 291112 & 1 & 0 & 291113 \\\\\n",
       "\t28 & 291113 & 5 & 0 & 291113 \\\\\n",
       "\t29 & 291113 & 6 & 0 & 291113 \\\\\n",
       "\t30 & 291113 & 2 & 0 & 291112 \\\\\n",
       "\t$\\dots$ & $\\dots$ & $\\dots$ & $\\dots$ & $\\dots$ \\\\\n",
       "\\end{tabular}\n"
      ],
      "text/plain": [
       "\u001b[1m100000×4 DataFrame\u001b[0m\n",
       "\u001b[1m    Row \u001b[0m│\u001b[1m s      \u001b[0m\u001b[1m a     \u001b[0m\u001b[1m r     \u001b[0m\u001b[1m sp     \u001b[0m\n",
       "        │\u001b[90m Int64  \u001b[0m\u001b[90m Int64 \u001b[0m\u001b[90m Int64 \u001b[0m\u001b[90m Int64  \u001b[0m\n",
       "────────┼──────────────────────────────\n",
       "      1 │ 291311      3      0  291312\n",
       "      2 │ 291312      9      0  291312\n",
       "      3 │ 291312      1      5  291212\n",
       "      4 │ 291212      7      0  291212\n",
       "      5 │ 291212      6      0  291212\n",
       "      6 │ 291212      9      0  291212\n",
       "      7 │ 291212      9      0  291212\n",
       "      8 │ 291212      2      0  291213\n",
       "      9 │ 291213      4      0  291113\n",
       "     10 │ 291113      8      0  291113\n",
       "     11 │ 291113      4      0  291114\n",
       "   ⋮    │   ⋮       ⋮      ⋮      ⋮\n",
       "  99991 │ 291202      4      0  291302\n",
       "  99992 │ 291302      3      0  291202\n",
       "  99993 │ 291202      1      0  291203\n",
       "  99994 │ 291203      4      0  291303\n",
       "  99995 │ 291303      1      0  291304\n",
       "  99996 │ 291304      3      0  291204\n",
       "  99997 │ 291204      2      0  291304\n",
       "  99998 │ 291304      2      0  291303\n",
       "  99999 │ 291303      3      0  291203\n",
       " 100000 │ 291203      3      0  291103\n",
       "\u001b[36m                     99979 rows omitted\u001b[0m"
      ]
     },
     "execution_count": 14,
     "metadata": {},
     "output_type": "execute_result"
    }
   ],
   "source": [
    "infile = \"data/large.csv\"\n",
    "df = CSV.File(infile) |> DataFrame\n",
    "# data_mat = Matrix(df);\n",
    "\n",
    "# df = insertcols!(df, 2, :pos => [extract_state(df.s[i])[1] for i in 1:size(df,1)])\n",
    "# df = insertcols!(df, 3, :vel => [extract_state(df.s[i])[2] for i in 1:size(df,1)])\n",
    "\n",
    "# df = insertcols!(df, 7, :pos_ => [extract_state(df.sp[i])[1] for i in 1:size(df,1)])\n",
    "# df = insertcols!(df, 8, :vel_ => [extract_state(df.sp[i])[2] for i in 1:size(df,1)])"
   ]
  },
  {
   "cell_type": "code",
   "execution_count": 15,
   "id": "8e0e2c69",
   "metadata": {},
   "outputs": [
    {
     "data": {
      "text/plain": [
       "MDP(0.95, [1, 2, 3, 4, 5, 6, 7, 8, 9, 10  …  312011, 312012, 312013, 312014, 312015, 312016, 312017, 312018, 312019, 312020], [1, 2, 3, 4, 5, 6, 7, 8, 9], NaN, NaN, NaN)"
      ]
     },
     "execution_count": 15,
     "metadata": {},
     "output_type": "execute_result"
    }
   ],
   "source": [
    "# S = [[pos,vel] for pos in 1:500, vel in 1:100]   # FIXME: need to reshape this \n",
    "S = [i for i in 1:312020 ]\n",
    "A = collect(1:9)\n",
    "γ = 0.95\n",
    "T = NaN\n",
    "R = NaN\n",
    "TR = NaN\n",
    "\n",
    "prob = MDP(γ,S,A,T,R,TR)"
   ]
  },
  {
   "cell_type": "code",
   "execution_count": 16,
   "id": "299627c7",
   "metadata": {},
   "outputs": [
    {
     "data": {
      "text/plain": [
       "QLearning([1, 2, 3, 4, 5, 6, 7, 8, 9, 10  …  312011, 312012, 312013, 312014, 312015, 312016, 312017, 312018, 312019, 312020], [1, 2, 3, 4, 5, 6, 7, 8, 9], 0.95, [0.0 0.0 … 0.0 0.0; 0.0 0.0 … 0.0 0.0; … ; 0.0 0.0 … 0.0 0.0; 0.0 0.0 … 0.0 0.0], 0.5)"
      ]
     },
     "execution_count": 16,
     "metadata": {},
     "output_type": "execute_result"
    }
   ],
   "source": [
    "α = 0.01\n",
    "Q = zeros((length(S), length(A)))\n",
    "\n",
    "model = QLearning(S,A,γ,Q,α)"
   ]
  },
  {
   "cell_type": "code",
   "execution_count": null,
   "id": "c3bbe729",
   "metadata": {},
   "outputs": [],
   "source": []
  },
  {
   "cell_type": "code",
   "execution_count": 23,
   "id": "050c45ec",
   "metadata": {},
   "outputs": [
    {
     "name": "stdout",
     "output_type": "stream",
     "text": [
      "data size: 100000\n"
     ]
    },
    {
     "name": "stderr",
     "output_type": "stream",
     "text": [
      "\u001b[32mProgress: 100%|█████████████████████████████████████████| Time: 0:00:00\u001b[39m\n"
     ]
    },
    {
     "name": "stdout",
     "output_type": "stream",
     "text": [
      "data size: 100000\n"
     ]
    },
    {
     "name": "stderr",
     "output_type": "stream",
     "text": [
      "\u001b[32mProgress: 100%|█████████████████████████████████████████| Time: 0:00:00\u001b[39m\n"
     ]
    },
    {
     "name": "stdout",
     "output_type": "stream",
     "text": [
      "data size: 100000"
     ]
    },
    {
     "name": "stderr",
     "output_type": "stream",
     "text": [
      "\r",
      "\u001b[32mProgress:  45%|███████████████████                      |  ETA: 0:00:00\u001b[39m"
     ]
    },
    {
     "name": "stdout",
     "output_type": "stream",
     "text": [
      "\n"
     ]
    },
    {
     "name": "stderr",
     "output_type": "stream",
     "text": [
      "\r",
      "\u001b[32mProgress: 100%|█████████████████████████████████████████| Time: 0:00:00\u001b[39m\n"
     ]
    },
    {
     "name": "stdout",
     "output_type": "stream",
     "text": [
      "data size: 100000\n"
     ]
    },
    {
     "name": "stderr",
     "output_type": "stream",
     "text": [
      "\u001b[32mProgress: 100%|█████████████████████████████████████████| Time: 0:00:00\u001b[39m\n",
      "\u001b[32mProgress:  45%|███████████████████                      |  ETA: 0:00:00\u001b[39m"
     ]
    },
    {
     "name": "stdout",
     "output_type": "stream",
     "text": [
      "data size: 100000\n"
     ]
    },
    {
     "name": "stderr",
     "output_type": "stream",
     "text": [
      "\u001b[32mProgress: 100%|█████████████████████████████████████████| Time: 0:00:00\u001b[39m\n"
     ]
    },
    {
     "name": "stdout",
     "output_type": "stream",
     "text": [
      "data size: 100000\n"
     ]
    },
    {
     "name": "stderr",
     "output_type": "stream",
     "text": [
      "\u001b[32mProgress: 100%|█████████████████████████████████████████| Time: 0:00:00\u001b[39m\n"
     ]
    },
    {
     "name": "stdout",
     "output_type": "stream",
     "text": [
      "data size: 100000\n"
     ]
    },
    {
     "name": "stderr",
     "output_type": "stream",
     "text": [
      "\u001b[32mProgress: 100%|█████████████████████████████████████████| Time: 0:00:00\u001b[39m\n"
     ]
    },
    {
     "name": "stdout",
     "output_type": "stream",
     "text": [
      "data size: 100000\n"
     ]
    },
    {
     "name": "stderr",
     "output_type": "stream",
     "text": [
      "\u001b[32mProgress: 100%|█████████████████████████████████████████| Time: 0:00:00\u001b[39m\n"
     ]
    },
    {
     "name": "stdout",
     "output_type": "stream",
     "text": [
      "data size: 100000"
     ]
    },
    {
     "name": "stderr",
     "output_type": "stream",
     "text": [
      "\u001b[32mProgress: 100%|█████████████████████████████████████████| Time: 0:00:00\u001b[39m\n"
     ]
    },
    {
     "name": "stdout",
     "output_type": "stream",
     "text": [
      "\n",
      "data size: 100000\n"
     ]
    },
    {
     "name": "stderr",
     "output_type": "stream",
     "text": [
      "\u001b[32mProgress: 100%|█████████████████████████████████████████| Time: 0:00:00\u001b[39m\n"
     ]
    }
   ],
   "source": [
    "train_offline_simple(prob, model, df,10) "
   ]
  },
  {
   "cell_type": "code",
   "execution_count": 24,
   "id": "978e0055",
   "metadata": {},
   "outputs": [],
   "source": [
    "# a_opt = [findmax([model.Q(model.θ, s, a) for a in A])[2] for s in [[pos,vel] for pos in 1:500, vel in 1:100]]"
   ]
  },
  {
   "cell_type": "code",
   "execution_count": 25,
   "id": "6cf8d4b5",
   "metadata": {},
   "outputs": [],
   "source": [
    "# model.θ"
   ]
  },
  {
   "cell_type": "code",
   "execution_count": null,
   "id": "f4815108",
   "metadata": {},
   "outputs": [],
   "source": []
  },
  {
   "cell_type": "code",
   "execution_count": 26,
   "id": "d5926d39",
   "metadata": {},
   "outputs": [
    {
     "data": {
      "text/plain": [
       "312020-element Vector{Int64}:\n",
       " 1\n",
       " 1\n",
       " 1\n",
       " 1\n",
       " 1\n",
       " 1\n",
       " 1\n",
       " 1\n",
       " 1\n",
       " 1\n",
       " 1\n",
       " 1\n",
       " 1\n",
       " ⋮\n",
       " 1\n",
       " 1\n",
       " 1\n",
       " 1\n",
       " 1\n",
       " 1\n",
       " 1\n",
       " 1\n",
       " 1\n",
       " 1\n",
       " 1\n",
       " 1"
      ]
     },
     "execution_count": 26,
     "metadata": {},
     "output_type": "execute_result"
    }
   ],
   "source": [
    "a_opt = [findmax(model.Q[x, :])[2] for x in 1:312020]"
   ]
  },
  {
   "cell_type": "code",
   "execution_count": 27,
   "id": "4edc36a4",
   "metadata": {},
   "outputs": [],
   "source": [
    "file = open(\"large.policy\", \"w\")\n",
    "\n",
    "# Write each element of the vector to the file on a new line\n",
    "for element in a_opt\n",
    "    println(file, element)\n",
    "end\n",
    "\n",
    "# Close the file\n",
    "close(file)"
   ]
  },
  {
   "cell_type": "code",
   "execution_count": 28,
   "id": "653e7d6f",
   "metadata": {},
   "outputs": [
    {
     "data": {
      "text/plain": [
       "312020×9 Matrix{Float64}:\n",
       " 0.0  0.0  0.0  0.0  0.0  0.0  0.0  0.0  0.0\n",
       " 0.0  0.0  0.0  0.0  0.0  0.0  0.0  0.0  0.0\n",
       " 0.0  0.0  0.0  0.0  0.0  0.0  0.0  0.0  0.0\n",
       " 0.0  0.0  0.0  0.0  0.0  0.0  0.0  0.0  0.0\n",
       " 0.0  0.0  0.0  0.0  0.0  0.0  0.0  0.0  0.0\n",
       " 0.0  0.0  0.0  0.0  0.0  0.0  0.0  0.0  0.0\n",
       " 0.0  0.0  0.0  0.0  0.0  0.0  0.0  0.0  0.0\n",
       " 0.0  0.0  0.0  0.0  0.0  0.0  0.0  0.0  0.0\n",
       " 0.0  0.0  0.0  0.0  0.0  0.0  0.0  0.0  0.0\n",
       " 0.0  0.0  0.0  0.0  0.0  0.0  0.0  0.0  0.0\n",
       " 0.0  0.0  0.0  0.0  0.0  0.0  0.0  0.0  0.0\n",
       " 0.0  0.0  0.0  0.0  0.0  0.0  0.0  0.0  0.0\n",
       " 0.0  0.0  0.0  0.0  0.0  0.0  0.0  0.0  0.0\n",
       " ⋮                        ⋮              \n",
       " 0.0  0.0  0.0  0.0  0.0  0.0  0.0  0.0  0.0\n",
       " 0.0  0.0  0.0  0.0  0.0  0.0  0.0  0.0  0.0\n",
       " 0.0  0.0  0.0  0.0  0.0  0.0  0.0  0.0  0.0\n",
       " 0.0  0.0  0.0  0.0  0.0  0.0  0.0  0.0  0.0\n",
       " 0.0  0.0  0.0  0.0  0.0  0.0  0.0  0.0  0.0\n",
       " 0.0  0.0  0.0  0.0  0.0  0.0  0.0  0.0  0.0\n",
       " 0.0  0.0  0.0  0.0  0.0  0.0  0.0  0.0  0.0\n",
       " 0.0  0.0  0.0  0.0  0.0  0.0  0.0  0.0  0.0\n",
       " 0.0  0.0  0.0  0.0  0.0  0.0  0.0  0.0  0.0\n",
       " 0.0  0.0  0.0  0.0  0.0  0.0  0.0  0.0  0.0\n",
       " 0.0  0.0  0.0  0.0  0.0  0.0  0.0  0.0  0.0\n",
       " 0.0  0.0  0.0  0.0  0.0  0.0  0.0  0.0  0.0"
      ]
     },
     "execution_count": 28,
     "metadata": {},
     "output_type": "execute_result"
    }
   ],
   "source": [
    "model.Q"
   ]
  },
  {
   "cell_type": "code",
   "execution_count": null,
   "id": "223da38b",
   "metadata": {},
   "outputs": [],
   "source": []
  },
  {
   "cell_type": "code",
   "execution_count": null,
   "id": "a9b72a48",
   "metadata": {},
   "outputs": [],
   "source": []
  }
 ],
 "metadata": {
  "kernelspec": {
   "display_name": "Julia 1.9.3",
   "language": "julia",
   "name": "julia-1.9"
  },
  "language_info": {
   "file_extension": ".jl",
   "mimetype": "application/julia",
   "name": "julia",
   "version": "1.9.3"
  }
 },
 "nbformat": 4,
 "nbformat_minor": 5
}
