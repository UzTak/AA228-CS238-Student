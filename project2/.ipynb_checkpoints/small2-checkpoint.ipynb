{
 "cells": [
  {
   "cell_type": "code",
   "execution_count": 1,
   "id": "9b35ed57",
   "metadata": {},
   "outputs": [
    {
     "data": {
      "text/plain": [
       "pack_state (generic function with 1 method)"
      ]
     },
     "execution_count": 1,
     "metadata": {},
     "output_type": "execute_result"
    }
   ],
   "source": [
    "using Printf\n",
    "using DataFrames\n",
    "using CSV\n",
    "using LinearAlgebra\n",
    "# using DataStructures\n",
    "\n",
    "include(\"RLalgo.jl\")"
   ]
  },
  {
   "cell_type": "markdown",
   "id": "5b98b676",
   "metadata": {},
   "source": [
    "### initialization of database"
   ]
  },
  {
   "cell_type": "code",
   "execution_count": 2,
   "id": "890181bb",
   "metadata": {},
   "outputs": [
    {
     "data": {
      "text/plain": [
       "10×10 Matrix{Int64}:\n",
       "  1  11  21  31  41  51  61  71  81   91\n",
       "  2  12  22  32  42  52  62  72  82   92\n",
       "  3  13  23  33  43  53  63  73  83   93\n",
       "  4  14  24  34  44  54  64  74  84   94\n",
       "  5  15  25  35  45  55  65  75  85   95\n",
       "  6  16  26  36  46  56  66  76  86   96\n",
       "  7  17  27  37  47  57  67  77  87   97\n",
       "  8  18  28  38  48  58  68  78  88   98\n",
       "  9  19  29  39  49  59  69  79  89   99\n",
       " 10  20  30  40  50  60  70  80  90  100"
      ]
     },
     "execution_count": 2,
     "metadata": {},
     "output_type": "execute_result"
    }
   ],
   "source": [
    "A = reshape(collect(1:100),(10,10))"
   ]
  },
  {
   "cell_type": "code",
   "execution_count": 3,
   "id": "f1eb8886",
   "metadata": {},
   "outputs": [
    {
     "data": {
      "text/html": [
       "<div><div style = \"float: left;\"><span>50000×8 DataFrame</span></div><div style = \"float: right;\"><span style = \"font-style: italic;\">49975 rows omitted</span></div><div style = \"clear: both;\"></div></div><div class = \"data-frame\" style = \"overflow-x: scroll;\"><table class = \"data-frame\" style = \"margin-bottom: 6px;\"><thead><tr class = \"header\"><th class = \"rowNumber\" style = \"font-weight: bold; text-align: right;\">Row</th><th style = \"text-align: left;\">s</th><th style = \"text-align: left;\">s_i</th><th style = \"text-align: left;\">s_j</th><th style = \"text-align: left;\">a</th><th style = \"text-align: left;\">r</th><th style = \"text-align: left;\">sp</th><th style = \"text-align: left;\">sp_i</th><th style = \"text-align: left;\">sp_j</th></tr><tr class = \"subheader headerLastRow\"><th class = \"rowNumber\" style = \"font-weight: bold; text-align: right;\"></th><th title = \"Int64\" style = \"text-align: left;\">Int64</th><th title = \"Int64\" style = \"text-align: left;\">Int64</th><th title = \"Int64\" style = \"text-align: left;\">Int64</th><th title = \"Int64\" style = \"text-align: left;\">Int64</th><th title = \"Int64\" style = \"text-align: left;\">Int64</th><th title = \"Int64\" style = \"text-align: left;\">Int64</th><th title = \"Int64\" style = \"text-align: left;\">Int64</th><th title = \"Int64\" style = \"text-align: left;\">Int64</th></tr></thead><tbody><tr><td class = \"rowNumber\" style = \"font-weight: bold; text-align: right;\">1</td><td style = \"text-align: right;\">85</td><td style = \"text-align: right;\">5</td><td style = \"text-align: right;\">9</td><td style = \"text-align: right;\">3</td><td style = \"text-align: right;\">0</td><td style = \"text-align: right;\">86</td><td style = \"text-align: right;\">6</td><td style = \"text-align: right;\">9</td></tr><tr><td class = \"rowNumber\" style = \"font-weight: bold; text-align: right;\">2</td><td style = \"text-align: right;\">86</td><td style = \"text-align: right;\">6</td><td style = \"text-align: right;\">9</td><td style = \"text-align: right;\">2</td><td style = \"text-align: right;\">0</td><td style = \"text-align: right;\">87</td><td style = \"text-align: right;\">7</td><td style = \"text-align: right;\">9</td></tr><tr><td class = \"rowNumber\" style = \"font-weight: bold; text-align: right;\">3</td><td style = \"text-align: right;\">87</td><td style = \"text-align: right;\">7</td><td style = \"text-align: right;\">9</td><td style = \"text-align: right;\">3</td><td style = \"text-align: right;\">0</td><td style = \"text-align: right;\">97</td><td style = \"text-align: right;\">7</td><td style = \"text-align: right;\">10</td></tr><tr><td class = \"rowNumber\" style = \"font-weight: bold; text-align: right;\">4</td><td style = \"text-align: right;\">97</td><td style = \"text-align: right;\">7</td><td style = \"text-align: right;\">10</td><td style = \"text-align: right;\">2</td><td style = \"text-align: right;\">0</td><td style = \"text-align: right;\">87</td><td style = \"text-align: right;\">7</td><td style = \"text-align: right;\">9</td></tr><tr><td class = \"rowNumber\" style = \"font-weight: bold; text-align: right;\">5</td><td style = \"text-align: right;\">87</td><td style = \"text-align: right;\">7</td><td style = \"text-align: right;\">9</td><td style = \"text-align: right;\">1</td><td style = \"text-align: right;\">0</td><td style = \"text-align: right;\">86</td><td style = \"text-align: right;\">6</td><td style = \"text-align: right;\">9</td></tr><tr><td class = \"rowNumber\" style = \"font-weight: bold; text-align: right;\">6</td><td style = \"text-align: right;\">86</td><td style = \"text-align: right;\">6</td><td style = \"text-align: right;\">9</td><td style = \"text-align: right;\">3</td><td style = \"text-align: right;\">0</td><td style = \"text-align: right;\">76</td><td style = \"text-align: right;\">6</td><td style = \"text-align: right;\">8</td></tr><tr><td class = \"rowNumber\" style = \"font-weight: bold; text-align: right;\">7</td><td style = \"text-align: right;\">76</td><td style = \"text-align: right;\">6</td><td style = \"text-align: right;\">8</td><td style = \"text-align: right;\">4</td><td style = \"text-align: right;\">0</td><td style = \"text-align: right;\">66</td><td style = \"text-align: right;\">6</td><td style = \"text-align: right;\">7</td></tr><tr><td class = \"rowNumber\" style = \"font-weight: bold; text-align: right;\">8</td><td style = \"text-align: right;\">66</td><td style = \"text-align: right;\">6</td><td style = \"text-align: right;\">7</td><td style = \"text-align: right;\">1</td><td style = \"text-align: right;\">0</td><td style = \"text-align: right;\">65</td><td style = \"text-align: right;\">5</td><td style = \"text-align: right;\">7</td></tr><tr><td class = \"rowNumber\" style = \"font-weight: bold; text-align: right;\">9</td><td style = \"text-align: right;\">65</td><td style = \"text-align: right;\">5</td><td style = \"text-align: right;\">7</td><td style = \"text-align: right;\">2</td><td style = \"text-align: right;\">0</td><td style = \"text-align: right;\">66</td><td style = \"text-align: right;\">6</td><td style = \"text-align: right;\">7</td></tr><tr><td class = \"rowNumber\" style = \"font-weight: bold; text-align: right;\">10</td><td style = \"text-align: right;\">66</td><td style = \"text-align: right;\">6</td><td style = \"text-align: right;\">7</td><td style = \"text-align: right;\">3</td><td style = \"text-align: right;\">0</td><td style = \"text-align: right;\">76</td><td style = \"text-align: right;\">6</td><td style = \"text-align: right;\">8</td></tr><tr><td class = \"rowNumber\" style = \"font-weight: bold; text-align: right;\">11</td><td style = \"text-align: right;\">76</td><td style = \"text-align: right;\">6</td><td style = \"text-align: right;\">8</td><td style = \"text-align: right;\">2</td><td style = \"text-align: right;\">0</td><td style = \"text-align: right;\">66</td><td style = \"text-align: right;\">6</td><td style = \"text-align: right;\">7</td></tr><tr><td class = \"rowNumber\" style = \"font-weight: bold; text-align: right;\">12</td><td style = \"text-align: right;\">66</td><td style = \"text-align: right;\">6</td><td style = \"text-align: right;\">7</td><td style = \"text-align: right;\">4</td><td style = \"text-align: right;\">0</td><td style = \"text-align: right;\">56</td><td style = \"text-align: right;\">6</td><td style = \"text-align: right;\">6</td></tr><tr><td class = \"rowNumber\" style = \"font-weight: bold; text-align: right;\">13</td><td style = \"text-align: right;\">56</td><td style = \"text-align: right;\">6</td><td style = \"text-align: right;\">6</td><td style = \"text-align: right;\">4</td><td style = \"text-align: right;\">0</td><td style = \"text-align: right;\">46</td><td style = \"text-align: right;\">6</td><td style = \"text-align: right;\">5</td></tr><tr><td style = \"text-align: right;\">&vellip;</td><td style = \"text-align: right;\">&vellip;</td><td style = \"text-align: right;\">&vellip;</td><td style = \"text-align: right;\">&vellip;</td><td style = \"text-align: right;\">&vellip;</td><td style = \"text-align: right;\">&vellip;</td><td style = \"text-align: right;\">&vellip;</td><td style = \"text-align: right;\">&vellip;</td><td style = \"text-align: right;\">&vellip;</td></tr><tr><td class = \"rowNumber\" style = \"font-weight: bold; text-align: right;\">49989</td><td style = \"text-align: right;\">98</td><td style = \"text-align: right;\">8</td><td style = \"text-align: right;\">10</td><td style = \"text-align: right;\">4</td><td style = \"text-align: right;\">0</td><td style = \"text-align: right;\">88</td><td style = \"text-align: right;\">8</td><td style = \"text-align: right;\">9</td></tr><tr><td class = \"rowNumber\" style = \"font-weight: bold; text-align: right;\">49990</td><td style = \"text-align: right;\">88</td><td style = \"text-align: right;\">8</td><td style = \"text-align: right;\">9</td><td style = \"text-align: right;\">1</td><td style = \"text-align: right;\">0</td><td style = \"text-align: right;\">89</td><td style = \"text-align: right;\">9</td><td style = \"text-align: right;\">9</td></tr><tr><td class = \"rowNumber\" style = \"font-weight: bold; text-align: right;\">49991</td><td style = \"text-align: right;\">89</td><td style = \"text-align: right;\">9</td><td style = \"text-align: right;\">9</td><td style = \"text-align: right;\">1</td><td style = \"text-align: right;\">0</td><td style = \"text-align: right;\">79</td><td style = \"text-align: right;\">9</td><td style = \"text-align: right;\">8</td></tr><tr><td class = \"rowNumber\" style = \"font-weight: bold; text-align: right;\">49992</td><td style = \"text-align: right;\">79</td><td style = \"text-align: right;\">9</td><td style = \"text-align: right;\">8</td><td style = \"text-align: right;\">2</td><td style = \"text-align: right;\">0</td><td style = \"text-align: right;\">80</td><td style = \"text-align: right;\">10</td><td style = \"text-align: right;\">8</td></tr><tr><td class = \"rowNumber\" style = \"font-weight: bold; text-align: right;\">49993</td><td style = \"text-align: right;\">80</td><td style = \"text-align: right;\">10</td><td style = \"text-align: right;\">8</td><td style = \"text-align: right;\">3</td><td style = \"text-align: right;\">0</td><td style = \"text-align: right;\">79</td><td style = \"text-align: right;\">9</td><td style = \"text-align: right;\">8</td></tr><tr><td class = \"rowNumber\" style = \"font-weight: bold; text-align: right;\">49994</td><td style = \"text-align: right;\">79</td><td style = \"text-align: right;\">9</td><td style = \"text-align: right;\">8</td><td style = \"text-align: right;\">1</td><td style = \"text-align: right;\">0</td><td style = \"text-align: right;\">78</td><td style = \"text-align: right;\">8</td><td style = \"text-align: right;\">8</td></tr><tr><td class = \"rowNumber\" style = \"font-weight: bold; text-align: right;\">49995</td><td style = \"text-align: right;\">78</td><td style = \"text-align: right;\">8</td><td style = \"text-align: right;\">8</td><td style = \"text-align: right;\">3</td><td style = \"text-align: right;\">0</td><td style = \"text-align: right;\">77</td><td style = \"text-align: right;\">7</td><td style = \"text-align: right;\">8</td></tr><tr><td class = \"rowNumber\" style = \"font-weight: bold; text-align: right;\">49996</td><td style = \"text-align: right;\">77</td><td style = \"text-align: right;\">7</td><td style = \"text-align: right;\">8</td><td style = \"text-align: right;\">2</td><td style = \"text-align: right;\">0</td><td style = \"text-align: right;\">78</td><td style = \"text-align: right;\">8</td><td style = \"text-align: right;\">8</td></tr><tr><td class = \"rowNumber\" style = \"font-weight: bold; text-align: right;\">49997</td><td style = \"text-align: right;\">78</td><td style = \"text-align: right;\">8</td><td style = \"text-align: right;\">8</td><td style = \"text-align: right;\">1</td><td style = \"text-align: right;\">0</td><td style = \"text-align: right;\">77</td><td style = \"text-align: right;\">7</td><td style = \"text-align: right;\">8</td></tr><tr><td class = \"rowNumber\" style = \"font-weight: bold; text-align: right;\">49998</td><td style = \"text-align: right;\">77</td><td style = \"text-align: right;\">7</td><td style = \"text-align: right;\">8</td><td style = \"text-align: right;\">4</td><td style = \"text-align: right;\">0</td><td style = \"text-align: right;\">67</td><td style = \"text-align: right;\">7</td><td style = \"text-align: right;\">7</td></tr><tr><td class = \"rowNumber\" style = \"font-weight: bold; text-align: right;\">49999</td><td style = \"text-align: right;\">67</td><td style = \"text-align: right;\">7</td><td style = \"text-align: right;\">7</td><td style = \"text-align: right;\">1</td><td style = \"text-align: right;\">0</td><td style = \"text-align: right;\">66</td><td style = \"text-align: right;\">6</td><td style = \"text-align: right;\">7</td></tr><tr><td class = \"rowNumber\" style = \"font-weight: bold; text-align: right;\">50000</td><td style = \"text-align: right;\">66</td><td style = \"text-align: right;\">6</td><td style = \"text-align: right;\">7</td><td style = \"text-align: right;\">3</td><td style = \"text-align: right;\">0</td><td style = \"text-align: right;\">76</td><td style = \"text-align: right;\">6</td><td style = \"text-align: right;\">8</td></tr></tbody></table></div>"
      ],
      "text/latex": [
       "\\begin{tabular}{r|cccccccc}\n",
       "\t& s & s\\_i & s\\_j & a & r & sp & sp\\_i & sp\\_j\\\\\n",
       "\t\\hline\n",
       "\t& Int64 & Int64 & Int64 & Int64 & Int64 & Int64 & Int64 & Int64\\\\\n",
       "\t\\hline\n",
       "\t1 & 85 & 5 & 9 & 3 & 0 & 86 & 6 & 9 \\\\\n",
       "\t2 & 86 & 6 & 9 & 2 & 0 & 87 & 7 & 9 \\\\\n",
       "\t3 & 87 & 7 & 9 & 3 & 0 & 97 & 7 & 10 \\\\\n",
       "\t4 & 97 & 7 & 10 & 2 & 0 & 87 & 7 & 9 \\\\\n",
       "\t5 & 87 & 7 & 9 & 1 & 0 & 86 & 6 & 9 \\\\\n",
       "\t6 & 86 & 6 & 9 & 3 & 0 & 76 & 6 & 8 \\\\\n",
       "\t7 & 76 & 6 & 8 & 4 & 0 & 66 & 6 & 7 \\\\\n",
       "\t8 & 66 & 6 & 7 & 1 & 0 & 65 & 5 & 7 \\\\\n",
       "\t9 & 65 & 5 & 7 & 2 & 0 & 66 & 6 & 7 \\\\\n",
       "\t10 & 66 & 6 & 7 & 3 & 0 & 76 & 6 & 8 \\\\\n",
       "\t11 & 76 & 6 & 8 & 2 & 0 & 66 & 6 & 7 \\\\\n",
       "\t12 & 66 & 6 & 7 & 4 & 0 & 56 & 6 & 6 \\\\\n",
       "\t13 & 56 & 6 & 6 & 4 & 0 & 46 & 6 & 5 \\\\\n",
       "\t14 & 46 & 6 & 5 & 1 & 0 & 45 & 5 & 5 \\\\\n",
       "\t15 & 45 & 5 & 5 & 2 & 0 & 46 & 6 & 5 \\\\\n",
       "\t16 & 46 & 6 & 5 & 1 & 0 & 45 & 5 & 5 \\\\\n",
       "\t17 & 45 & 5 & 5 & 2 & 0 & 46 & 6 & 5 \\\\\n",
       "\t18 & 46 & 6 & 5 & 4 & 0 & 45 & 5 & 5 \\\\\n",
       "\t19 & 45 & 5 & 5 & 3 & 0 & 55 & 5 & 6 \\\\\n",
       "\t20 & 55 & 5 & 6 & 4 & 0 & 56 & 6 & 6 \\\\\n",
       "\t21 & 56 & 6 & 6 & 4 & 0 & 55 & 5 & 6 \\\\\n",
       "\t22 & 55 & 5 & 6 & 1 & 0 & 56 & 6 & 6 \\\\\n",
       "\t23 & 56 & 6 & 6 & 4 & 0 & 66 & 6 & 7 \\\\\n",
       "\t24 & 66 & 6 & 7 & 3 & 0 & 76 & 6 & 8 \\\\\n",
       "\t25 & 76 & 6 & 8 & 2 & 0 & 77 & 7 & 8 \\\\\n",
       "\t26 & 77 & 7 & 8 & 4 & 0 & 76 & 6 & 8 \\\\\n",
       "\t27 & 76 & 6 & 8 & 1 & 0 & 77 & 7 & 8 \\\\\n",
       "\t28 & 77 & 7 & 8 & 4 & 0 & 76 & 6 & 8 \\\\\n",
       "\t29 & 76 & 6 & 8 & 4 & 0 & 66 & 6 & 7 \\\\\n",
       "\t30 & 66 & 6 & 7 & 4 & 0 & 56 & 6 & 6 \\\\\n",
       "\t$\\dots$ & $\\dots$ & $\\dots$ & $\\dots$ & $\\dots$ & $\\dots$ & $\\dots$ & $\\dots$ & $\\dots$ \\\\\n",
       "\\end{tabular}\n"
      ],
      "text/plain": [
       "\u001b[1m50000×8 DataFrame\u001b[0m\n",
       "\u001b[1m   Row \u001b[0m│\u001b[1m s     \u001b[0m\u001b[1m s_i   \u001b[0m\u001b[1m s_j   \u001b[0m\u001b[1m a     \u001b[0m\u001b[1m r     \u001b[0m\u001b[1m sp    \u001b[0m\u001b[1m sp_i  \u001b[0m\u001b[1m sp_j  \u001b[0m\n",
       "       │\u001b[90m Int64 \u001b[0m\u001b[90m Int64 \u001b[0m\u001b[90m Int64 \u001b[0m\u001b[90m Int64 \u001b[0m\u001b[90m Int64 \u001b[0m\u001b[90m Int64 \u001b[0m\u001b[90m Int64 \u001b[0m\u001b[90m Int64 \u001b[0m\n",
       "───────┼────────────────────────────────────────────────────────\n",
       "     1 │    85      5      9      3      0     86      6      9\n",
       "     2 │    86      6      9      2      0     87      7      9\n",
       "     3 │    87      7      9      3      0     97      7     10\n",
       "     4 │    97      7     10      2      0     87      7      9\n",
       "     5 │    87      7      9      1      0     86      6      9\n",
       "     6 │    86      6      9      3      0     76      6      8\n",
       "     7 │    76      6      8      4      0     66      6      7\n",
       "     8 │    66      6      7      1      0     65      5      7\n",
       "     9 │    65      5      7      2      0     66      6      7\n",
       "    10 │    66      6      7      3      0     76      6      8\n",
       "    11 │    76      6      8      2      0     66      6      7\n",
       "   ⋮   │   ⋮      ⋮      ⋮      ⋮      ⋮      ⋮      ⋮      ⋮\n",
       " 49991 │    89      9      9      1      0     79      9      8\n",
       " 49992 │    79      9      8      2      0     80     10      8\n",
       " 49993 │    80     10      8      3      0     79      9      8\n",
       " 49994 │    79      9      8      1      0     78      8      8\n",
       " 49995 │    78      8      8      3      0     77      7      8\n",
       " 49996 │    77      7      8      2      0     78      8      8\n",
       " 49997 │    78      8      8      1      0     77      7      8\n",
       " 49998 │    77      7      8      4      0     67      7      7\n",
       " 49999 │    67      7      7      1      0     66      6      7\n",
       " 50000 │    66      6      7      3      0     76      6      8\n",
       "\u001b[36m                                              49979 rows omitted\u001b[0m"
      ]
     },
     "execution_count": 3,
     "metadata": {},
     "output_type": "execute_result"
    }
   ],
   "source": [
    "infile = \"data/small.csv\"\n",
    "df = CSV.File(infile) |> DataFrame\n",
    "# data_mat = Matrix(df);\n",
    "\n",
    "x = [mod(df.s[j], 10)!=0 ? mod(df.s[j], 10) : 10 for j in 1:size(df,1)] \n",
    "y = [mod(df.s[j], 10)!=0 ? df.s[j] ÷ 10 + 1 : df.s[j] ÷ 10  for j in 1:size(df,1)] \n",
    "\n",
    "df = insertcols!(df, 2, :s_i => [x[i] for i in 1:size(df,1)])\n",
    "df = insertcols!(df, 3, :s_j => [y[j] for j in 1:size(df,1)])\n",
    "\n",
    "xp = [mod(df.sp[j], 10)!=0 ? mod(df.sp[j], 10) : 10 for j in 1:size(df,1)] \n",
    "yp = [mod(df.sp[j], 10)!=0 ? df.sp[j] ÷ 10 + 1 : df.sp[j] ÷ 10  for j in 1:size(df,1)] \n",
    "\n",
    "df = insertcols!(df, 7, :sp_i => [xp[i] for i in 1:size(df,1)])\n",
    "df = insertcols!(df, 8, :sp_j => [yp[j] for j in 1:size(df,1)])"
   ]
  },
  {
   "cell_type": "code",
   "execution_count": 4,
   "id": "657c3947",
   "metadata": {},
   "outputs": [
    {
     "data": {
      "text/plain": [
       "10"
      ]
     },
     "execution_count": 4,
     "metadata": {},
     "output_type": "execute_result"
    }
   ],
   "source": [
    "idx = findall(df.r .> 0)\n",
    "k   = rand([2,19,5,6,10])"
   ]
  },
  {
   "cell_type": "markdown",
   "id": "1f5e8a3f",
   "metadata": {},
   "source": [
    "### Gradient Q-learning (not deep, w/o experience replay)"
   ]
  },
  {
   "cell_type": "code",
   "execution_count": 5,
   "id": "4604c4d1",
   "metadata": {},
   "outputs": [
    {
     "data": {
      "text/plain": [
       "MDP(0.95, [1, 2, 3, 4, 5, 6, 7, 8, 9, 10  …  91, 92, 93, 94, 95, 96, 97, 98, 99, 100], [1, 2, 3, 4], NaN, NaN, NaN)"
      ]
     },
     "execution_count": 5,
     "metadata": {},
     "output_type": "execute_result"
    }
   ],
   "source": [
    "# S = [[x,y] for x in 1:10, y in 1:10]   # FIXME: need to reshape this \n",
    "S = [i for i in 1:100]\n",
    "A = [1,2,3,4]\n",
    "γ = 0.95\n",
    "T = NaN\n",
    "R = NaN\n",
    "TR = NaN\n",
    "\n",
    "prob = MDP(γ,S,A,T,R,TR)"
   ]
  },
  {
   "cell_type": "code",
   "execution_count": 6,
   "id": "ca45aacf",
   "metadata": {},
   "outputs": [
    {
     "data": {
      "text/plain": [
       "SarsaLambda([1, 2, 3, 4, 5, 6, 7, 8, 9, 10  …  91, 92, 93, 94, 95, 96, 97, 98, 99, 100], [1, 2, 3, 4], 0.95, [0.0 0.0 0.0 0.0; 0.0 0.0 0.0 0.0; … ; 0.0 0.0 0.0 0.0; 0.0 0.0 0.0 0.0], [0.0 0.0 0.0 0.0; 0.0 0.0 0.0 0.0; … ; 0.0 0.0 0.0 0.0; 0.0 0.0 0.0 0.0], 0.5, 0.9, nothing)"
      ]
     },
     "execution_count": 6,
     "metadata": {},
     "output_type": "execute_result"
    }
   ],
   "source": [
    "α = 0.5 # learning rate \n",
    "Q = zeros((length(S), length(A)))\n",
    "N = zeros((length(S), length(A)))\n",
    "model = SarsaLambda(S, A, γ, Q, N, α, 0.99, nothing)"
   ]
  },
  {
   "cell_type": "code",
   "execution_count": 7,
   "id": "49b40128",
   "metadata": {},
   "outputs": [],
   "source": [
    "train_offline(prob, model, df, 1e6)"
   ]
  },
  {
   "cell_type": "code",
   "execution_count": 29,
   "id": "5cbfd452",
   "metadata": {
    "scrolled": false
   },
   "outputs": [
    {
     "data": {
      "text/plain": [
       "100×4 Matrix{Float64}:\n",
       " 0.911615  0.844495   0.897917  0.960065\n",
       " 0.859474  0.994003   0.870511  0.95927\n",
       " 0.983386  1.67677    0.872321  1.17135\n",
       " 1.93056   6.92699    3.49316   1.86597\n",
       " 9.0034    3.15063    2.39925   3.49515\n",
       " 2.49314   2.90701    4.19951   3.87671\n",
       " 3.2575    4.72762   15.9033    8.04563\n",
       " 5.03377   3.33238    3.5345    3.17158\n",
       " 3.22592   2.87667    3.29735   2.22127\n",
       " 2.9573    2.70889    2.48065   2.86824\n",
       " 0.993548  1.27698    0.870038  0.943073\n",
       " 0.895505  1.62467    1.71975   0.775533\n",
       " 1.47563   5.11633    1.62095   1.01729\n",
       " ⋮                              \n",
       " 1.03561   1.11031    0.827323  1.06439\n",
       " 0.864282  0.854279   0.925336  0.813059\n",
       " 4.43586   3.30255    2.8142    1.68264\n",
       " 2.20963   2.9631     1.70278   2.82759\n",
       " 2.68856   3.07944    1.91795   2.59893\n",
       " 2.18365   2.28366    2.04682   1.40266\n",
       " 0.935633  1.17189    1.35341   1.32271\n",
       " 0.881991  1.07763    0.810712  0.940565\n",
       " 0.937076  0.80904    0.855485  0.820364\n",
       " 0.757782  0.973041   0.763696  0.873289\n",
       " 0.84356   0.929284   0.897499  0.9468\n",
       " 0.892786  0.789992   0.82357   0.971601"
      ]
     },
     "execution_count": 29,
     "metadata": {},
     "output_type": "execute_result"
    }
   ],
   "source": [
    "display(\"text/plain\", model.Q) "
   ]
  },
  {
   "cell_type": "code",
   "execution_count": null,
   "id": "d6869160",
   "metadata": {},
   "outputs": [],
   "source": []
  },
  {
   "cell_type": "code",
   "execution_count": 40,
   "id": "6c8ab495",
   "metadata": {},
   "outputs": [
    {
     "data": {
      "text/plain": [
       "10×10 Matrix{Int64}:\n",
       "  1  11  21  31  41  51  61  71  81   91\n",
       "  2  12  22  32  42  52  62  72  82   92\n",
       "  3  13  23  33  43  53  63  73  83   93\n",
       "  4  14  24  34  44  54  64  74  84   94\n",
       "  5  15  25  35  45  55  65  75  85   95\n",
       "  6  16  26  36  46  56  66  76  86   96\n",
       "  7  17  27  37  47  57  67  77  87   97\n",
       "  8  18  28  38  48  58  68  78  88   98\n",
       "  9  19  29  39  49  59  69  79  89   99\n",
       " 10  20  30  40  50  60  70  80  90  100"
      ]
     },
     "execution_count": 40,
     "metadata": {},
     "output_type": "execute_result"
    }
   ],
   "source": [
    "A = reshape(collect(1:100),(10,10))"
   ]
  },
  {
   "cell_type": "code",
   "execution_count": 41,
   "id": "8b74a261",
   "metadata": {},
   "outputs": [
    {
     "data": {
      "text/plain": [
       "10×10 Matrix{Int64}:\n",
       " 1  2  3  2  2  2  1  3  4  4\n",
       " 3  2  4  4  4  3  3  3  4  3\n",
       " 2  4  2  1  2  4  1  3  1  3\n",
       " 3  1  1  3  3  2  1  4  3  1\n",
       " 2  2  2  2  2  4  4  4  1  1\n",
       " 3  2  3  3  4  2  4  4  4  1\n",
       " 1  2  2  4  4  4  2  3  1  4\n",
       " 4  3  2  1  2  4  1  2  2  1\n",
       " 2  3  2  1  2  2  3  1  4  4\n",
       " 2  1  3  1  2  4  4  1  3  2"
      ]
     },
     "execution_count": 41,
     "metadata": {},
     "output_type": "execute_result"
    }
   ],
   "source": [
    "a_opt = [findmax(model.Q[x, :])[2] for x in 1:100]\n",
    "a_opt2 = reshape(a_opt, (10,10))"
   ]
  },
  {
   "cell_type": "code",
   "execution_count": 42,
   "id": "64cbf1c7",
   "metadata": {},
   "outputs": [],
   "source": [
    "file = open(\"small.policy\", \"w\")\n",
    "\n",
    "# Write each element of the vector to the file on a new line\n",
    "for element in a_opt\n",
    "    println(file, element)\n",
    "end\n",
    "\n",
    "# Close the file\n",
    "close(file)"
   ]
  },
  {
   "cell_type": "code",
   "execution_count": null,
   "id": "eeb4f317",
   "metadata": {},
   "outputs": [],
   "source": [
    "train_offline(prob, model, df, 10000) "
   ]
  },
  {
   "cell_type": "code",
   "execution_count": null,
   "id": "de8a4bce",
   "metadata": {},
   "outputs": [],
   "source": []
  },
  {
   "cell_type": "code",
   "execution_count": null,
   "id": "ac881b37",
   "metadata": {},
   "outputs": [],
   "source": []
  }
 ],
 "metadata": {
  "kernelspec": {
   "display_name": "Julia 1.9.3",
   "language": "julia",
   "name": "julia-1.9"
  },
  "language_info": {
   "file_extension": ".jl",
   "mimetype": "application/julia",
   "name": "julia",
   "version": "1.9.3"
  }
 },
 "nbformat": 4,
 "nbformat_minor": 5
}
