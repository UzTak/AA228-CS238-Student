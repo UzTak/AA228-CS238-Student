{
 "cells": [
  {
   "cell_type": "code",
   "execution_count": 1,
   "id": "9b35ed57",
   "metadata": {},
   "outputs": [
    {
     "data": {
      "text/plain": [
       "pack_state (generic function with 1 method)"
      ]
     },
     "execution_count": 1,
     "metadata": {},
     "output_type": "execute_result"
    }
   ],
   "source": [
    "using Printf\n",
    "using DataFrames\n",
    "using CSV\n",
    "using LinearAlgebra\n",
    "using DataStructures \n",
    "using ProgressMeter\n",
    "\n",
    "include(\"RLalgo.jl\")"
   ]
  },
  {
   "cell_type": "markdown",
   "id": "5b98b676",
   "metadata": {},
   "source": [
    "### initialization of database"
   ]
  },
  {
   "cell_type": "code",
   "execution_count": 2,
   "id": "890181bb",
   "metadata": {},
   "outputs": [
    {
     "data": {
      "text/plain": [
       "10×10 Matrix{Int64}:\n",
       "  1  11  21  31  41  51  61  71  81   91\n",
       "  2  12  22  32  42  52  62  72  82   92\n",
       "  3  13  23  33  43  53  63  73  83   93\n",
       "  4  14  24  34  44  54  64  74  84   94\n",
       "  5  15  25  35  45  55  65  75  85   95\n",
       "  6  16  26  36  46  56  66  76  86   96\n",
       "  7  17  27  37  47  57  67  77  87   97\n",
       "  8  18  28  38  48  58  68  78  88   98\n",
       "  9  19  29  39  49  59  69  79  89   99\n",
       " 10  20  30  40  50  60  70  80  90  100"
      ]
     },
     "execution_count": 2,
     "metadata": {},
     "output_type": "execute_result"
    }
   ],
   "source": [
    "A = reshape(collect(1:100),(10,10))"
   ]
  },
  {
   "cell_type": "code",
   "execution_count": 3,
   "id": "f1eb8886",
   "metadata": {},
   "outputs": [
    {
     "data": {
      "text/html": [
       "<div><div style = \"float: left;\"><span>50000×4 DataFrame</span></div><div style = \"float: right;\"><span style = \"font-style: italic;\">49975 rows omitted</span></div><div style = \"clear: both;\"></div></div><div class = \"data-frame\" style = \"overflow-x: scroll;\"><table class = \"data-frame\" style = \"margin-bottom: 6px;\"><thead><tr class = \"header\"><th class = \"rowNumber\" style = \"font-weight: bold; text-align: right;\">Row</th><th style = \"text-align: left;\">s</th><th style = \"text-align: left;\">a</th><th style = \"text-align: left;\">r</th><th style = \"text-align: left;\">sp</th></tr><tr class = \"subheader headerLastRow\"><th class = \"rowNumber\" style = \"font-weight: bold; text-align: right;\"></th><th title = \"Int64\" style = \"text-align: left;\">Int64</th><th title = \"Int64\" style = \"text-align: left;\">Int64</th><th title = \"Int64\" style = \"text-align: left;\">Int64</th><th title = \"Int64\" style = \"text-align: left;\">Int64</th></tr></thead><tbody><tr><td class = \"rowNumber\" style = \"font-weight: bold; text-align: right;\">1</td><td style = \"text-align: right;\">85</td><td style = \"text-align: right;\">3</td><td style = \"text-align: right;\">0</td><td style = \"text-align: right;\">86</td></tr><tr><td class = \"rowNumber\" style = \"font-weight: bold; text-align: right;\">2</td><td style = \"text-align: right;\">86</td><td style = \"text-align: right;\">2</td><td style = \"text-align: right;\">0</td><td style = \"text-align: right;\">87</td></tr><tr><td class = \"rowNumber\" style = \"font-weight: bold; text-align: right;\">3</td><td style = \"text-align: right;\">87</td><td style = \"text-align: right;\">3</td><td style = \"text-align: right;\">0</td><td style = \"text-align: right;\">97</td></tr><tr><td class = \"rowNumber\" style = \"font-weight: bold; text-align: right;\">4</td><td style = \"text-align: right;\">97</td><td style = \"text-align: right;\">2</td><td style = \"text-align: right;\">0</td><td style = \"text-align: right;\">87</td></tr><tr><td class = \"rowNumber\" style = \"font-weight: bold; text-align: right;\">5</td><td style = \"text-align: right;\">87</td><td style = \"text-align: right;\">1</td><td style = \"text-align: right;\">0</td><td style = \"text-align: right;\">86</td></tr><tr><td class = \"rowNumber\" style = \"font-weight: bold; text-align: right;\">6</td><td style = \"text-align: right;\">86</td><td style = \"text-align: right;\">3</td><td style = \"text-align: right;\">0</td><td style = \"text-align: right;\">76</td></tr><tr><td class = \"rowNumber\" style = \"font-weight: bold; text-align: right;\">7</td><td style = \"text-align: right;\">76</td><td style = \"text-align: right;\">4</td><td style = \"text-align: right;\">0</td><td style = \"text-align: right;\">66</td></tr><tr><td class = \"rowNumber\" style = \"font-weight: bold; text-align: right;\">8</td><td style = \"text-align: right;\">66</td><td style = \"text-align: right;\">1</td><td style = \"text-align: right;\">0</td><td style = \"text-align: right;\">65</td></tr><tr><td class = \"rowNumber\" style = \"font-weight: bold; text-align: right;\">9</td><td style = \"text-align: right;\">65</td><td style = \"text-align: right;\">2</td><td style = \"text-align: right;\">0</td><td style = \"text-align: right;\">66</td></tr><tr><td class = \"rowNumber\" style = \"font-weight: bold; text-align: right;\">10</td><td style = \"text-align: right;\">66</td><td style = \"text-align: right;\">3</td><td style = \"text-align: right;\">0</td><td style = \"text-align: right;\">76</td></tr><tr><td class = \"rowNumber\" style = \"font-weight: bold; text-align: right;\">11</td><td style = \"text-align: right;\">76</td><td style = \"text-align: right;\">2</td><td style = \"text-align: right;\">0</td><td style = \"text-align: right;\">66</td></tr><tr><td class = \"rowNumber\" style = \"font-weight: bold; text-align: right;\">12</td><td style = \"text-align: right;\">66</td><td style = \"text-align: right;\">4</td><td style = \"text-align: right;\">0</td><td style = \"text-align: right;\">56</td></tr><tr><td class = \"rowNumber\" style = \"font-weight: bold; text-align: right;\">13</td><td style = \"text-align: right;\">56</td><td style = \"text-align: right;\">4</td><td style = \"text-align: right;\">0</td><td style = \"text-align: right;\">46</td></tr><tr><td style = \"text-align: right;\">&vellip;</td><td style = \"text-align: right;\">&vellip;</td><td style = \"text-align: right;\">&vellip;</td><td style = \"text-align: right;\">&vellip;</td><td style = \"text-align: right;\">&vellip;</td></tr><tr><td class = \"rowNumber\" style = \"font-weight: bold; text-align: right;\">49989</td><td style = \"text-align: right;\">98</td><td style = \"text-align: right;\">4</td><td style = \"text-align: right;\">0</td><td style = \"text-align: right;\">88</td></tr><tr><td class = \"rowNumber\" style = \"font-weight: bold; text-align: right;\">49990</td><td style = \"text-align: right;\">88</td><td style = \"text-align: right;\">1</td><td style = \"text-align: right;\">0</td><td style = \"text-align: right;\">89</td></tr><tr><td class = \"rowNumber\" style = \"font-weight: bold; text-align: right;\">49991</td><td style = \"text-align: right;\">89</td><td style = \"text-align: right;\">1</td><td style = \"text-align: right;\">0</td><td style = \"text-align: right;\">79</td></tr><tr><td class = \"rowNumber\" style = \"font-weight: bold; text-align: right;\">49992</td><td style = \"text-align: right;\">79</td><td style = \"text-align: right;\">2</td><td style = \"text-align: right;\">0</td><td style = \"text-align: right;\">80</td></tr><tr><td class = \"rowNumber\" style = \"font-weight: bold; text-align: right;\">49993</td><td style = \"text-align: right;\">80</td><td style = \"text-align: right;\">3</td><td style = \"text-align: right;\">0</td><td style = \"text-align: right;\">79</td></tr><tr><td class = \"rowNumber\" style = \"font-weight: bold; text-align: right;\">49994</td><td style = \"text-align: right;\">79</td><td style = \"text-align: right;\">1</td><td style = \"text-align: right;\">0</td><td style = \"text-align: right;\">78</td></tr><tr><td class = \"rowNumber\" style = \"font-weight: bold; text-align: right;\">49995</td><td style = \"text-align: right;\">78</td><td style = \"text-align: right;\">3</td><td style = \"text-align: right;\">0</td><td style = \"text-align: right;\">77</td></tr><tr><td class = \"rowNumber\" style = \"font-weight: bold; text-align: right;\">49996</td><td style = \"text-align: right;\">77</td><td style = \"text-align: right;\">2</td><td style = \"text-align: right;\">0</td><td style = \"text-align: right;\">78</td></tr><tr><td class = \"rowNumber\" style = \"font-weight: bold; text-align: right;\">49997</td><td style = \"text-align: right;\">78</td><td style = \"text-align: right;\">1</td><td style = \"text-align: right;\">0</td><td style = \"text-align: right;\">77</td></tr><tr><td class = \"rowNumber\" style = \"font-weight: bold; text-align: right;\">49998</td><td style = \"text-align: right;\">77</td><td style = \"text-align: right;\">4</td><td style = \"text-align: right;\">0</td><td style = \"text-align: right;\">67</td></tr><tr><td class = \"rowNumber\" style = \"font-weight: bold; text-align: right;\">49999</td><td style = \"text-align: right;\">67</td><td style = \"text-align: right;\">1</td><td style = \"text-align: right;\">0</td><td style = \"text-align: right;\">66</td></tr><tr><td class = \"rowNumber\" style = \"font-weight: bold; text-align: right;\">50000</td><td style = \"text-align: right;\">66</td><td style = \"text-align: right;\">3</td><td style = \"text-align: right;\">0</td><td style = \"text-align: right;\">76</td></tr></tbody></table></div>"
      ],
      "text/latex": [
       "\\begin{tabular}{r|cccc}\n",
       "\t& s & a & r & sp\\\\\n",
       "\t\\hline\n",
       "\t& Int64 & Int64 & Int64 & Int64\\\\\n",
       "\t\\hline\n",
       "\t1 & 85 & 3 & 0 & 86 \\\\\n",
       "\t2 & 86 & 2 & 0 & 87 \\\\\n",
       "\t3 & 87 & 3 & 0 & 97 \\\\\n",
       "\t4 & 97 & 2 & 0 & 87 \\\\\n",
       "\t5 & 87 & 1 & 0 & 86 \\\\\n",
       "\t6 & 86 & 3 & 0 & 76 \\\\\n",
       "\t7 & 76 & 4 & 0 & 66 \\\\\n",
       "\t8 & 66 & 1 & 0 & 65 \\\\\n",
       "\t9 & 65 & 2 & 0 & 66 \\\\\n",
       "\t10 & 66 & 3 & 0 & 76 \\\\\n",
       "\t11 & 76 & 2 & 0 & 66 \\\\\n",
       "\t12 & 66 & 4 & 0 & 56 \\\\\n",
       "\t13 & 56 & 4 & 0 & 46 \\\\\n",
       "\t14 & 46 & 1 & 0 & 45 \\\\\n",
       "\t15 & 45 & 2 & 0 & 46 \\\\\n",
       "\t16 & 46 & 1 & 0 & 45 \\\\\n",
       "\t17 & 45 & 2 & 0 & 46 \\\\\n",
       "\t18 & 46 & 4 & 0 & 45 \\\\\n",
       "\t19 & 45 & 3 & 0 & 55 \\\\\n",
       "\t20 & 55 & 4 & 0 & 56 \\\\\n",
       "\t21 & 56 & 4 & 0 & 55 \\\\\n",
       "\t22 & 55 & 1 & 0 & 56 \\\\\n",
       "\t23 & 56 & 4 & 0 & 66 \\\\\n",
       "\t24 & 66 & 3 & 0 & 76 \\\\\n",
       "\t25 & 76 & 2 & 0 & 77 \\\\\n",
       "\t26 & 77 & 4 & 0 & 76 \\\\\n",
       "\t27 & 76 & 1 & 0 & 77 \\\\\n",
       "\t28 & 77 & 4 & 0 & 76 \\\\\n",
       "\t29 & 76 & 4 & 0 & 66 \\\\\n",
       "\t30 & 66 & 4 & 0 & 56 \\\\\n",
       "\t$\\dots$ & $\\dots$ & $\\dots$ & $\\dots$ & $\\dots$ \\\\\n",
       "\\end{tabular}\n"
      ],
      "text/plain": [
       "\u001b[1m50000×4 DataFrame\u001b[0m\n",
       "\u001b[1m   Row \u001b[0m│\u001b[1m s     \u001b[0m\u001b[1m a     \u001b[0m\u001b[1m r     \u001b[0m\u001b[1m sp    \u001b[0m\n",
       "       │\u001b[90m Int64 \u001b[0m\u001b[90m Int64 \u001b[0m\u001b[90m Int64 \u001b[0m\u001b[90m Int64 \u001b[0m\n",
       "───────┼────────────────────────────\n",
       "     1 │    85      3      0     86\n",
       "     2 │    86      2      0     87\n",
       "     3 │    87      3      0     97\n",
       "     4 │    97      2      0     87\n",
       "     5 │    87      1      0     86\n",
       "     6 │    86      3      0     76\n",
       "     7 │    76      4      0     66\n",
       "     8 │    66      1      0     65\n",
       "     9 │    65      2      0     66\n",
       "    10 │    66      3      0     76\n",
       "    11 │    76      2      0     66\n",
       "   ⋮   │   ⋮      ⋮      ⋮      ⋮\n",
       " 49991 │    89      1      0     79\n",
       " 49992 │    79      2      0     80\n",
       " 49993 │    80      3      0     79\n",
       " 49994 │    79      1      0     78\n",
       " 49995 │    78      3      0     77\n",
       " 49996 │    77      2      0     78\n",
       " 49997 │    78      1      0     77\n",
       " 49998 │    77      4      0     67\n",
       " 49999 │    67      1      0     66\n",
       " 50000 │    66      3      0     76\n",
       "\u001b[36m                  49979 rows omitted\u001b[0m"
      ]
     },
     "execution_count": 3,
     "metadata": {},
     "output_type": "execute_result"
    }
   ],
   "source": [
    "infile = \"data/small.csv\"\n",
    "df = CSV.File(infile) |> DataFrame\n",
    "# data_mat = Matrix(df);\n",
    "\n",
    "# x = [mod(df.s[j], 10)!=0 ? mod(df.s[j], 10) : 10 for j in 1:size(df,1)] \n",
    "# y = [mod(df.s[j], 10)!=0 ? df.s[j] ÷ 10 + 1 : df.s[j] ÷ 10  for j in 1:size(df,1)] \n",
    "\n",
    "# df = insertcols!(df, 2, :s_i => [x[i] for i in 1:size(df,1)])\n",
    "# df = insertcols!(df, 3, :s_j => [y[j] for j in 1:size(df,1)])\n",
    "\n",
    "# xp = [mod(df.sp[j], 10)!=0 ? mod(df.sp[j], 10) : 10 for j in 1:size(df,1)] \n",
    "# yp = [mod(df.sp[j], 10)!=0 ? df.sp[j] ÷ 10 + 1 : df.sp[j] ÷ 10  for j in 1:size(df,1)] \n",
    "\n",
    "# df = insertcols!(df, 7, :sp_i => [xp[i] for i in 1:size(df,1)])\n",
    "# df = insertcols!(df, 8, :sp_j => [yp[j] for j in 1:size(df,1)])"
   ]
  },
  {
   "cell_type": "code",
   "execution_count": 4,
   "id": "657c3947",
   "metadata": {},
   "outputs": [
    {
     "data": {
      "text/plain": [
       "2"
      ]
     },
     "execution_count": 4,
     "metadata": {},
     "output_type": "execute_result"
    }
   ],
   "source": [
    "idx = findall(df.r .> 0)\n",
    "k   = rand([2,19,5,6,10])"
   ]
  },
  {
   "cell_type": "markdown",
   "id": "1f5e8a3f",
   "metadata": {},
   "source": [
    "### Gradient Q-learning (not deep, w/o experience replay)"
   ]
  },
  {
   "cell_type": "code",
   "execution_count": 5,
   "id": "4604c4d1",
   "metadata": {},
   "outputs": [
    {
     "data": {
      "text/plain": [
       "MDP(0.95, [1, 2, 3, 4, 5, 6, 7, 8, 9, 10  …  91, 92, 93, 94, 95, 96, 97, 98, 99, 100], [1, 2, 3, 4], NaN, NaN, NaN)"
      ]
     },
     "execution_count": 5,
     "metadata": {},
     "output_type": "execute_result"
    }
   ],
   "source": [
    "# S = [[x,y] for x in 1:10, y in 1:10]   # FIXME: need to reshape this \n",
    "S = [i for i in 1:100]\n",
    "A = [1,2,3,4]\n",
    "γ = 0.95\n",
    "T = NaN\n",
    "R = NaN\n",
    "TR = NaN\n",
    "\n",
    "α = 0.1\n",
    "Q = zeros((length(S), length(A)))\n",
    "N = zeros((length(S), length(A)))\n",
    "prob = MDP(γ,S,A,T,R,TR)"
   ]
  },
  {
   "cell_type": "code",
   "execution_count": 6,
   "id": "b1c2e6ff",
   "metadata": {},
   "outputs": [
    {
     "data": {
      "text/plain": [
       "QLearning([1, 2, 3, 4, 5, 6, 7, 8, 9, 10  …  91, 92, 93, 94, 95, 96, 97, 98, 99, 100], [1, 2, 3, 4], 0.95, [0.0 0.0 0.0 0.0; 0.0 0.0 0.0 0.0; … ; 0.0 0.0 0.0 0.0; 0.0 0.0 0.0 0.0], 0.3)"
      ]
     },
     "execution_count": 6,
     "metadata": {},
     "output_type": "execute_result"
    }
   ],
   "source": [
    "model = QLearning(S,A,γ,Q,α)"
   ]
  },
  {
   "cell_type": "code",
   "execution_count": null,
   "id": "95549020",
   "metadata": {},
   "outputs": [],
   "source": []
  },
  {
   "cell_type": "code",
   "execution_count": 7,
   "id": "49b40128",
   "metadata": {},
   "outputs": [
    {
     "name": "stdout",
     "output_type": "stream",
     "text": [
      "data size: 50000\n"
     ]
    },
    {
     "name": "stderr",
     "output_type": "stream",
     "text": [
      "\u001b[32mProgress: 100%|█████████████████████████████████████████| Time: 0:00:00\u001b[39m\n"
     ]
    }
   ],
   "source": [
    "train_offline_simple(prob, model, df, 1)"
   ]
  },
  {
   "cell_type": "code",
   "execution_count": 8,
   "id": "5cbfd452",
   "metadata": {
    "scrolled": false
   },
   "outputs": [
    {
     "data": {
      "text/plain": [
       "100×4 Matrix{Float64}:\n",
       "  91.3177   93.7545   92.3303   91.799\n",
       "  93.1379   93.4962   91.7167   93.2249\n",
       "  98.6831  104.04    107.755   100.874\n",
       " 106.341   111.041   112.313   104.407\n",
       " 111.792   110.163   116.771   113.509\n",
       " 119.778   115.111   118.488   114.537\n",
       " 116.43    115.315   114.905   114.463\n",
       " 120.678   113.146   125.854   111.4\n",
       " 114.615   109.264   112.59    109.253\n",
       " 108.589   106.06    110.887   108.157\n",
       "  95.2666   97.3905   99.5232   97.5715\n",
       "  95.8342  107.865    95.0979   94.609\n",
       " 104.156   112.239   107.545   110.412\n",
       "   ⋮                           \n",
       " 104.202    99.1294   95.223   104.284\n",
       " 101.086    98.0816   95.8903  103.022\n",
       "  86.6266   87.8164   86.2089   87.4977\n",
       "  88.9988   89.0544   84.2662   87.5357\n",
       "  88.0172   89.6227   86.9862   89.9115\n",
       "  90.5789   92.9743   91.9923   91.5329\n",
       "  92.1594   94.707    91.9846   96.4175\n",
       "  94.7571   94.7338   90.2093   97.4551\n",
       "  94.0791   96.1328   95.6326   96.7441\n",
       "  99.2645   94.5161   98.4326  101.549\n",
       "  98.3984   96.4676   92.278    97.3672\n",
       "  94.9276   91.3167   89.2386   92.5706"
      ]
     },
     "metadata": {},
     "output_type": "display_data"
    }
   ],
   "source": [
    "display(\"text/plain\", model.Q) "
   ]
  },
  {
   "cell_type": "code",
   "execution_count": null,
   "id": "d6869160",
   "metadata": {},
   "outputs": [],
   "source": []
  },
  {
   "cell_type": "code",
   "execution_count": 9,
   "id": "6c8ab495",
   "metadata": {},
   "outputs": [
    {
     "data": {
      "text/plain": [
       "10×10 Matrix{Int64}:\n",
       "  1  11  21  31  41  51  61  71  81   91\n",
       "  2  12  22  32  42  52  62  72  82   92\n",
       "  3  13  23  33  43  53  63  73  83   93\n",
       "  4  14  24  34  44  54  64  74  84   94\n",
       "  5  15  25  35  45  55  65  75  85   95\n",
       "  6  16  26  36  46  56  66  76  86   96\n",
       "  7  17  27  37  47  57  67  77  87   97\n",
       "  8  18  28  38  48  58  68  78  88   98\n",
       "  9  19  29  39  49  59  69  79  89   99\n",
       " 10  20  30  40  50  60  70  80  90  100"
      ]
     },
     "execution_count": 9,
     "metadata": {},
     "output_type": "execute_result"
    }
   ],
   "source": [
    "A = reshape(collect(1:100),(10,10))"
   ]
  },
  {
   "cell_type": "code",
   "execution_count": 10,
   "id": "8b74a261",
   "metadata": {},
   "outputs": [
    {
     "data": {
      "text/plain": [
       "100-element Vector{Int64}:\n",
       " 2\n",
       " 2\n",
       " 3\n",
       " 3\n",
       " 3\n",
       " 1\n",
       " 1\n",
       " 3\n",
       " 1\n",
       " 3\n",
       " 3\n",
       " 2\n",
       " 2\n",
       " ⋮\n",
       " 4\n",
       " 4\n",
       " 2\n",
       " 2\n",
       " 4\n",
       " 2\n",
       " 4\n",
       " 4\n",
       " 4\n",
       " 4\n",
       " 1\n",
       " 1"
      ]
     },
     "execution_count": 10,
     "metadata": {},
     "output_type": "execute_result"
    }
   ],
   "source": [
    "a_opt = [findmax(model.Q[x, :])[2] for x in 1:100]\n",
    "# a_opt2 = reshape(a_opt, (10,10))"
   ]
  },
  {
   "cell_type": "code",
   "execution_count": 11,
   "id": "64cbf1c7",
   "metadata": {},
   "outputs": [],
   "source": [
    "file = open(\"small.policy\", \"w\")\n",
    "\n",
    "# Write each element of the vector to the file on a new line\n",
    "for element in a_opt\n",
    "    println(file, element)\n",
    "end\n",
    "\n",
    "# Close the file\n",
    "close(file)"
   ]
  },
  {
   "cell_type": "code",
   "execution_count": null,
   "id": "eeb4f317",
   "metadata": {},
   "outputs": [],
   "source": []
  },
  {
   "cell_type": "code",
   "execution_count": null,
   "id": "de8a4bce",
   "metadata": {},
   "outputs": [],
   "source": []
  },
  {
   "cell_type": "code",
   "execution_count": null,
   "id": "ac881b37",
   "metadata": {},
   "outputs": [],
   "source": []
  }
 ],
 "metadata": {
  "kernelspec": {
   "display_name": "Julia 1.9.3",
   "language": "julia",
   "name": "julia-1.9"
  },
  "language_info": {
   "file_extension": ".jl",
   "mimetype": "application/julia",
   "name": "julia",
   "version": "1.9.3"
  }
 },
 "nbformat": 4,
 "nbformat_minor": 5
}
