{
 "cells": [
  {
   "cell_type": "code",
   "execution_count": 1,
   "id": "20f31695",
   "metadata": {},
   "outputs": [
    {
     "data": {
      "text/plain": [
       "pack_state (generic function with 1 method)"
      ]
     },
     "execution_count": 1,
     "metadata": {},
     "output_type": "execute_result"
    }
   ],
   "source": [
    "using Printf\n",
    "using DataFrames\n",
    "using CSV\n",
    "using LinearAlgebra\n",
    "# using DataStructures\n",
    "\n",
    "include(\"RLalgo.jl\")"
   ]
  },
  {
   "cell_type": "code",
   "execution_count": null,
   "id": "cf7754b4",
   "metadata": {},
   "outputs": [],
   "source": []
  },
  {
   "cell_type": "code",
   "execution_count": 2,
   "id": "4ee59a37",
   "metadata": {},
   "outputs": [
    {
     "data": {
      "text/html": [
       "<div><div style = \"float: left;\"><span>100000×4 DataFrame</span></div><div style = \"float: right;\"><span style = \"font-style: italic;\">99975 rows omitted</span></div><div style = \"clear: both;\"></div></div><div class = \"data-frame\" style = \"overflow-x: scroll;\"><table class = \"data-frame\" style = \"margin-bottom: 6px;\"><thead><tr class = \"header\"><th class = \"rowNumber\" style = \"font-weight: bold; text-align: right;\">Row</th><th style = \"text-align: left;\">s</th><th style = \"text-align: left;\">a</th><th style = \"text-align: left;\">r</th><th style = \"text-align: left;\">sp</th></tr><tr class = \"subheader headerLastRow\"><th class = \"rowNumber\" style = \"font-weight: bold; text-align: right;\"></th><th title = \"Int64\" style = \"text-align: left;\">Int64</th><th title = \"Int64\" style = \"text-align: left;\">Int64</th><th title = \"Int64\" style = \"text-align: left;\">Int64</th><th title = \"Int64\" style = \"text-align: left;\">Int64</th></tr></thead><tbody><tr><td class = \"rowNumber\" style = \"font-weight: bold; text-align: right;\">1</td><td style = \"text-align: right;\">25203</td><td style = \"text-align: right;\">1</td><td style = \"text-align: right;\">-225</td><td style = \"text-align: right;\">24703</td></tr><tr><td class = \"rowNumber\" style = \"font-weight: bold; text-align: right;\">2</td><td style = \"text-align: right;\">24703</td><td style = \"text-align: right;\">3</td><td style = \"text-align: right;\">-25</td><td style = \"text-align: right;\">24703</td></tr><tr><td class = \"rowNumber\" style = \"font-weight: bold; text-align: right;\">3</td><td style = \"text-align: right;\">24703</td><td style = \"text-align: right;\">1</td><td style = \"text-align: right;\">-225</td><td style = \"text-align: right;\">24202</td></tr><tr><td class = \"rowNumber\" style = \"font-weight: bold; text-align: right;\">4</td><td style = \"text-align: right;\">24202</td><td style = \"text-align: right;\">1</td><td style = \"text-align: right;\">-225</td><td style = \"text-align: right;\">24202</td></tr><tr><td class = \"rowNumber\" style = \"font-weight: bold; text-align: right;\">5</td><td style = \"text-align: right;\">24202</td><td style = \"text-align: right;\">2</td><td style = \"text-align: right;\">-100</td><td style = \"text-align: right;\">23701</td></tr><tr><td class = \"rowNumber\" style = \"font-weight: bold; text-align: right;\">6</td><td style = \"text-align: right;\">23701</td><td style = \"text-align: right;\">3</td><td style = \"text-align: right;\">-25</td><td style = \"text-align: right;\">23700</td></tr><tr><td class = \"rowNumber\" style = \"font-weight: bold; text-align: right;\">7</td><td style = \"text-align: right;\">23700</td><td style = \"text-align: right;\">1</td><td style = \"text-align: right;\">-225</td><td style = \"text-align: right;\">23699</td></tr><tr><td class = \"rowNumber\" style = \"font-weight: bold; text-align: right;\">8</td><td style = \"text-align: right;\">23699</td><td style = \"text-align: right;\">3</td><td style = \"text-align: right;\">-25</td><td style = \"text-align: right;\">23198</td></tr><tr><td class = \"rowNumber\" style = \"font-weight: bold; text-align: right;\">9</td><td style = \"text-align: right;\">23198</td><td style = \"text-align: right;\">4</td><td style = \"text-align: right;\">0</td><td style = \"text-align: right;\">23697</td></tr><tr><td class = \"rowNumber\" style = \"font-weight: bold; text-align: right;\">10</td><td style = \"text-align: right;\">23697</td><td style = \"text-align: right;\">3</td><td style = \"text-align: right;\">-25</td><td style = \"text-align: right;\">23196</td></tr><tr><td class = \"rowNumber\" style = \"font-weight: bold; text-align: right;\">11</td><td style = \"text-align: right;\">23196</td><td style = \"text-align: right;\">6</td><td style = \"text-align: right;\">-100</td><td style = \"text-align: right;\">23695</td></tr><tr><td class = \"rowNumber\" style = \"font-weight: bold; text-align: right;\">12</td><td style = \"text-align: right;\">23695</td><td style = \"text-align: right;\">1</td><td style = \"text-align: right;\">-225</td><td style = \"text-align: right;\">23694</td></tr><tr><td class = \"rowNumber\" style = \"font-weight: bold; text-align: right;\">13</td><td style = \"text-align: right;\">23694</td><td style = \"text-align: right;\">3</td><td style = \"text-align: right;\">-25</td><td style = \"text-align: right;\">23693</td></tr><tr><td style = \"text-align: right;\">&vellip;</td><td style = \"text-align: right;\">&vellip;</td><td style = \"text-align: right;\">&vellip;</td><td style = \"text-align: right;\">&vellip;</td><td style = \"text-align: right;\">&vellip;</td></tr><tr><td class = \"rowNumber\" style = \"font-weight: bold; text-align: right;\">99989</td><td style = \"text-align: right;\">43129</td><td style = \"text-align: right;\">6</td><td style = \"text-align: right;\">-100</td><td style = \"text-align: right;\">44143</td></tr><tr><td class = \"rowNumber\" style = \"font-weight: bold; text-align: right;\">99990</td><td style = \"text-align: right;\">44143</td><td style = \"text-align: right;\">6</td><td style = \"text-align: right;\">-100</td><td style = \"text-align: right;\">45157</td></tr><tr><td class = \"rowNumber\" style = \"font-weight: bold; text-align: right;\">99991</td><td style = \"text-align: right;\">45157</td><td style = \"text-align: right;\">4</td><td style = \"text-align: right;\">0</td><td style = \"text-align: right;\">45171</td></tr><tr><td class = \"rowNumber\" style = \"font-weight: bold; text-align: right;\">99992</td><td style = \"text-align: right;\">45171</td><td style = \"text-align: right;\">6</td><td style = \"text-align: right;\">-100</td><td style = \"text-align: right;\">46186</td></tr><tr><td class = \"rowNumber\" style = \"font-weight: bold; text-align: right;\">99993</td><td style = \"text-align: right;\">46186</td><td style = \"text-align: right;\">6</td><td style = \"text-align: right;\">-100</td><td style = \"text-align: right;\">46701</td></tr><tr><td class = \"rowNumber\" style = \"font-weight: bold; text-align: right;\">99994</td><td style = \"text-align: right;\">46701</td><td style = \"text-align: right;\">5</td><td style = \"text-align: right;\">-25</td><td style = \"text-align: right;\">46717</td></tr><tr><td class = \"rowNumber\" style = \"font-weight: bold; text-align: right;\">99995</td><td style = \"text-align: right;\">46717</td><td style = \"text-align: right;\">5</td><td style = \"text-align: right;\">-25</td><td style = \"text-align: right;\">46732</td></tr><tr><td class = \"rowNumber\" style = \"font-weight: bold; text-align: right;\">99996</td><td style = \"text-align: right;\">46732</td><td style = \"text-align: right;\">4</td><td style = \"text-align: right;\">0</td><td style = \"text-align: right;\">46747</td></tr><tr><td class = \"rowNumber\" style = \"font-weight: bold; text-align: right;\">99997</td><td style = \"text-align: right;\">46747</td><td style = \"text-align: right;\">5</td><td style = \"text-align: right;\">-25</td><td style = \"text-align: right;\">46263</td></tr><tr><td class = \"rowNumber\" style = \"font-weight: bold; text-align: right;\">99998</td><td style = \"text-align: right;\">46263</td><td style = \"text-align: right;\">5</td><td style = \"text-align: right;\">-25</td><td style = \"text-align: right;\">45777</td></tr><tr><td class = \"rowNumber\" style = \"font-weight: bold; text-align: right;\">99999</td><td style = \"text-align: right;\">45777</td><td style = \"text-align: right;\">3</td><td style = \"text-align: right;\">-25</td><td style = \"text-align: right;\">45291</td></tr><tr><td class = \"rowNumber\" style = \"font-weight: bold; text-align: right;\">100000</td><td style = \"text-align: right;\">25343</td><td style = \"text-align: right;\">1</td><td style = \"text-align: right;\">-225</td><td style = \"text-align: right;\">24720</td></tr></tbody></table></div>"
      ],
      "text/latex": [
       "\\begin{tabular}{r|cccc}\n",
       "\t& s & a & r & sp\\\\\n",
       "\t\\hline\n",
       "\t& Int64 & Int64 & Int64 & Int64\\\\\n",
       "\t\\hline\n",
       "\t1 & 25203 & 1 & -225 & 24703 \\\\\n",
       "\t2 & 24703 & 3 & -25 & 24703 \\\\\n",
       "\t3 & 24703 & 1 & -225 & 24202 \\\\\n",
       "\t4 & 24202 & 1 & -225 & 24202 \\\\\n",
       "\t5 & 24202 & 2 & -100 & 23701 \\\\\n",
       "\t6 & 23701 & 3 & -25 & 23700 \\\\\n",
       "\t7 & 23700 & 1 & -225 & 23699 \\\\\n",
       "\t8 & 23699 & 3 & -25 & 23198 \\\\\n",
       "\t9 & 23198 & 4 & 0 & 23697 \\\\\n",
       "\t10 & 23697 & 3 & -25 & 23196 \\\\\n",
       "\t11 & 23196 & 6 & -100 & 23695 \\\\\n",
       "\t12 & 23695 & 1 & -225 & 23694 \\\\\n",
       "\t13 & 23694 & 3 & -25 & 23693 \\\\\n",
       "\t14 & 23693 & 3 & -25 & 23692 \\\\\n",
       "\t15 & 23692 & 2 & -100 & 23191 \\\\\n",
       "\t16 & 23191 & 5 & -25 & 23690 \\\\\n",
       "\t17 & 23690 & 2 & -100 & 23689 \\\\\n",
       "\t18 & 23689 & 4 & 0 & 23688 \\\\\n",
       "\t19 & 23688 & 4 & 0 & 23687 \\\\\n",
       "\t20 & 23687 & 3 & -25 & 23687 \\\\\n",
       "\t21 & 23687 & 4 & 0 & 24186 \\\\\n",
       "\t22 & 24186 & 5 & -25 & 24186 \\\\\n",
       "\t23 & 24186 & 4 & 0 & 24685 \\\\\n",
       "\t24 & 24685 & 2 & -100 & 24685 \\\\\n",
       "\t25 & 24685 & 7 & -225 & 25185 \\\\\n",
       "\t26 & 25185 & 1 & -225 & 24685 \\\\\n",
       "\t27 & 24685 & 6 & -100 & 25685 \\\\\n",
       "\t28 & 25685 & 2 & -100 & 25186 \\\\\n",
       "\t29 & 25186 & 7 & -225 & 25686 \\\\\n",
       "\t30 & 25686 & 2 & -100 & 25687 \\\\\n",
       "\t$\\dots$ & $\\dots$ & $\\dots$ & $\\dots$ & $\\dots$ \\\\\n",
       "\\end{tabular}\n"
      ],
      "text/plain": [
       "\u001b[1m100000×4 DataFrame\u001b[0m\n",
       "\u001b[1m    Row \u001b[0m│\u001b[1m s     \u001b[0m\u001b[1m a     \u001b[0m\u001b[1m r     \u001b[0m\u001b[1m sp    \u001b[0m\n",
       "        │\u001b[90m Int64 \u001b[0m\u001b[90m Int64 \u001b[0m\u001b[90m Int64 \u001b[0m\u001b[90m Int64 \u001b[0m\n",
       "────────┼────────────────────────────\n",
       "      1 │ 25203      1   -225  24703\n",
       "      2 │ 24703      3    -25  24703\n",
       "      3 │ 24703      1   -225  24202\n",
       "      4 │ 24202      1   -225  24202\n",
       "      5 │ 24202      2   -100  23701\n",
       "      6 │ 23701      3    -25  23700\n",
       "      7 │ 23700      1   -225  23699\n",
       "      8 │ 23699      3    -25  23198\n",
       "      9 │ 23198      4      0  23697\n",
       "     10 │ 23697      3    -25  23196\n",
       "     11 │ 23196      6   -100  23695\n",
       "   ⋮    │   ⋮      ⋮      ⋮      ⋮\n",
       "  99991 │ 45157      4      0  45171\n",
       "  99992 │ 45171      6   -100  46186\n",
       "  99993 │ 46186      6   -100  46701\n",
       "  99994 │ 46701      5    -25  46717\n",
       "  99995 │ 46717      5    -25  46732\n",
       "  99996 │ 46732      4      0  46747\n",
       "  99997 │ 46747      5    -25  46263\n",
       "  99998 │ 46263      5    -25  45777\n",
       "  99999 │ 45777      3    -25  45291\n",
       " 100000 │ 25343      1   -225  24720\n",
       "\u001b[36m                   99979 rows omitted\u001b[0m"
      ]
     },
     "execution_count": 2,
     "metadata": {},
     "output_type": "execute_result"
    }
   ],
   "source": [
    "infile = \"data/medium.csv\"\n",
    "df = CSV.File(infile) |> DataFrame\n",
    "# data_mat = Matrix(df);\n",
    "\n",
    "# df = insertcols!(df, 2, :pos => [extract_state(df.s[i])[1] for i in 1:size(df,1)])\n",
    "# df = insertcols!(df, 3, :vel => [extract_state(df.s[i])[2] for i in 1:size(df,1)])\n",
    "\n",
    "# df = insertcols!(df, 7, :pos_ => [extract_state(df.sp[i])[1] for i in 1:size(df,1)])\n",
    "# df = insertcols!(df, 8, :vel_ => [extract_state(df.sp[i])[2] for i in 1:size(df,1)])"
   ]
  },
  {
   "cell_type": "code",
   "execution_count": 3,
   "id": "8e0e2c69",
   "metadata": {},
   "outputs": [
    {
     "data": {
      "text/plain": [
       "MDP(1, [1, 2, 3, 4, 5, 6, 7, 8, 9, 10  …  49991, 49992, 49993, 49994, 49995, 49996, 49997, 49998, 49999, 50000], [1, 2, 3, 4, 5, 6, 7], NaN, NaN, NaN)"
      ]
     },
     "execution_count": 3,
     "metadata": {},
     "output_type": "execute_result"
    }
   ],
   "source": [
    "# S = [[pos,vel] for pos in 1:500, vel in 1:100]   # FIXME: need to reshape this \n",
    "S = [i for i in 1:50000]\n",
    "A = collect(1:7)\n",
    "γ = 1\n",
    "T = NaN\n",
    "R = NaN\n",
    "TR = NaN\n",
    "\n",
    "prob = MDP(γ,S,A,T,R,TR)"
   ]
  },
  {
   "cell_type": "code",
   "execution_count": 4,
   "id": "1b03bb83",
   "metadata": {},
   "outputs": [
    {
     "data": {
      "text/plain": [
       "QLearning([1, 2, 3, 4, 5, 6, 7, 8, 9, 10  …  49991, 49992, 49993, 49994, 49995, 49996, 49997, 49998, 49999, 50000], [1, 2, 3, 4, 5, 6, 7], 1, [0.0 0.0 … 0.0 0.0; 0.0 0.0 … 0.0 0.0; … ; 0.0 0.0 … 0.0 0.0; 0.0 0.0 … 0.0 0.0], 0.5)"
      ]
     },
     "execution_count": 4,
     "metadata": {},
     "output_type": "execute_result"
    }
   ],
   "source": [
    "α = 0.5\n",
    "Q = zeros((length(S), length(A)))\n",
    "\n",
    "model = QLearning(S,A,γ,Q,α)"
   ]
  },
  {
   "cell_type": "code",
   "execution_count": null,
   "id": "8cb689d7",
   "metadata": {},
   "outputs": [],
   "source": []
  },
  {
   "cell_type": "code",
   "execution_count": 5,
   "id": "050c45ec",
   "metadata": {},
   "outputs": [
    {
     "name": "stderr",
     "output_type": "stream",
     "text": [
      "\u001b[32mProgress: 100%|█████████████████████████████████████████| Time: 0:00:01\u001b[39m\n"
     ]
    }
   ],
   "source": [
    "train_offline_simple(prob, model, df,3) "
   ]
  },
  {
   "cell_type": "code",
   "execution_count": 6,
   "id": "978e0055",
   "metadata": {},
   "outputs": [],
   "source": [
    "# a_opt = [findmax([model.Q(model.θ, s, a) for a in A])[2] for s in [[pos,vel] for pos in 1:500, vel in 1:100]]"
   ]
  },
  {
   "cell_type": "code",
   "execution_count": 7,
   "id": "6cf8d4b5",
   "metadata": {},
   "outputs": [],
   "source": [
    "# model.θ"
   ]
  },
  {
   "cell_type": "code",
   "execution_count": null,
   "id": "f4815108",
   "metadata": {},
   "outputs": [],
   "source": []
  },
  {
   "cell_type": "code",
   "execution_count": 8,
   "id": "d5926d39",
   "metadata": {},
   "outputs": [
    {
     "data": {
      "text/plain": [
       "50000-element Vector{Int64}:\n",
       " 1\n",
       " 1\n",
       " 1\n",
       " 1\n",
       " 1\n",
       " 1\n",
       " 1\n",
       " 1\n",
       " 1\n",
       " 1\n",
       " 1\n",
       " 1\n",
       " 1\n",
       " ⋮\n",
       " 1\n",
       " 1\n",
       " 1\n",
       " 1\n",
       " 1\n",
       " 1\n",
       " 1\n",
       " 1\n",
       " 1\n",
       " 1\n",
       " 1\n",
       " 1"
      ]
     },
     "execution_count": 8,
     "metadata": {},
     "output_type": "execute_result"
    }
   ],
   "source": [
    "a_opt = [findmax(model.Q[x, :])[2] for x in 1:50000]"
   ]
  },
  {
   "cell_type": "code",
   "execution_count": 9,
   "id": "4edc36a4",
   "metadata": {},
   "outputs": [],
   "source": [
    "file = open(\"medium.policy\", \"w\")\n",
    "\n",
    "# Write each element of the vector to the file on a new line\n",
    "for element in a_opt\n",
    "    println(file, element)\n",
    "end\n",
    "\n",
    "# Close the file\n",
    "close(file)"
   ]
  },
  {
   "cell_type": "code",
   "execution_count": null,
   "id": "7fd9860b",
   "metadata": {},
   "outputs": [],
   "source": []
  }
 ],
 "metadata": {
  "kernelspec": {
   "display_name": "Julia 1.9.3",
   "language": "julia",
   "name": "julia-1.9"
  },
  "language_info": {
   "file_extension": ".jl",
   "mimetype": "application/julia",
   "name": "julia",
   "version": "1.9.3"
  }
 },
 "nbformat": 4,
 "nbformat_minor": 5
}
