{
 "cells": [
  {
   "cell_type": "code",
   "execution_count": 1,
   "id": "15f1b512",
   "metadata": {},
   "outputs": [],
   "source": [
    "mutable struct IncrementalEstimate\n",
    "    μ  # mean estimate \n",
    "    α  # learning rate (function) \n",
    "    m  # num of updates \n",
    "end "
   ]
  },
  {
   "cell_type": "code",
   "execution_count": 2,
   "id": "eb1b22ce",
   "metadata": {},
   "outputs": [
    {
     "data": {
      "text/plain": [
       "update! (generic function with 1 method)"
      ]
     },
     "execution_count": 2,
     "metadata": {},
     "output_type": "execute_result"
    }
   ],
   "source": [
    "function update!(model::IncrementalEstimate, x)\n",
    "    model.m += 1 \n",
    "    model.μ += model.α(model.m) * (x - model.μ) \n",
    "    return model \n",
    "end "
   ]
  },
  {
   "cell_type": "code",
   "execution_count": 3,
   "id": "60b827b0",
   "metadata": {},
   "outputs": [],
   "source": []
  },
  {
   "cell_type": "code",
   "execution_count": 6,
   "id": "7d2a17b6",
   "metadata": {},
   "outputs": [
    {
     "data": {
      "text/plain": [
       "update! (generic function with 2 methods)"
      ]
     },
     "execution_count": 6,
     "metadata": {},
     "output_type": "execute_result"
    }
   ],
   "source": [
    "mutable struct QLearning\n",
    "    S \n",
    "    A\n",
    "    γ\n",
    "    Q\n",
    "    α\n",
    "end \n",
    "\n",
    "lookahead(model::QLearning, s,a) = model.Q[s,a]\n",
    "\n",
    "function update!(model::QLearning, s,a,r,s_)\n",
    "    γ, Q, α = model.γ, model.Q, model.α\n",
    "    Q[s,a] += α*(r + maximum(Q[s_, :]) - Q[s,a])  # update of Q-function\n",
    "    return model \n",
    "end "
   ]
  },
  {
   "cell_type": "code",
   "execution_count": 10,
   "id": "315b39f5",
   "metadata": {},
   "outputs": [
    {
     "data": {
      "text/plain": [
       "update! (generic function with 3 methods)"
      ]
     },
     "execution_count": 10,
     "metadata": {},
     "output_type": "execute_result"
    }
   ],
   "source": [
    "mutable struct Sarsa\n",
    "    S\n",
    "    A\n",
    "    γ\n",
    "    Q\n",
    "    α\n",
    "    l  # most recent experience tuble(s,a,r)\n",
    "end\n",
    "\n",
    "lookahead(model::Sarsa, s,a) = model.Q[s,a]\n",
    "\n",
    "function update!(model::Sarsa, s,a,r,s_)\n",
    "    if model.l != nothing \n",
    "        γ, Q, α, l = model.γ, model.Q, model.α, model.l \n",
    "        model.Q[l.s, l.a] += α * (l.r + γ*Q[s,a] - Q[l.s - l.a]) \n",
    "    end \n",
    "    model.l = (s=s, a=a, r=r) \n",
    "end "
   ]
  },
  {
   "cell_type": "code",
   "execution_count": null,
   "id": "4bb104ec",
   "metadata": {},
   "outputs": [],
   "source": []
  }
 ],
 "metadata": {
  "kernelspec": {
   "display_name": "Julia 1.9.3",
   "language": "julia",
   "name": "julia-1.9"
  },
  "language_info": {
   "file_extension": ".jl",
   "mimetype": "application/julia",
   "name": "julia",
   "version": "1.9.3"
  }
 },
 "nbformat": 4,
 "nbformat_minor": 5
}
