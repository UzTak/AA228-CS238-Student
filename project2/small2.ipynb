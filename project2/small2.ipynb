{
 "cells": [
  {
   "cell_type": "code",
   "execution_count": 2,
   "id": "9b35ed57",
   "metadata": {},
   "outputs": [
    {
     "data": {
      "text/plain": [
       "extract_state (generic function with 1 method)"
      ]
     },
     "execution_count": 2,
     "metadata": {},
     "output_type": "execute_result"
    }
   ],
   "source": [
    "using Printf\n",
    "using DataFrames\n",
    "using CSV\n",
    "using LinearAlgebra\n",
    "# using DataStructures\n",
    "\n",
    "include(\"RLalgo.jl\")"
   ]
  },
  {
   "cell_type": "markdown",
   "id": "5b98b676",
   "metadata": {},
   "source": [
    "### initialization of database"
   ]
  },
  {
   "cell_type": "code",
   "execution_count": 34,
   "id": "890181bb",
   "metadata": {},
   "outputs": [
    {
     "data": {
      "text/plain": [
       "10×10 Matrix{Int64}:\n",
       "  1  11  21  31  41  51  61  71  81   91\n",
       "  2  12  22  32  42  52  62  72  82   92\n",
       "  3  13  23  33  43  53  63  73  83   93\n",
       "  4  14  24  34  44  54  64  74  84   94\n",
       "  5  15  25  35  45  55  65  75  85   95\n",
       "  6  16  26  36  46  56  66  76  86   96\n",
       "  7  17  27  37  47  57  67  77  87   97\n",
       "  8  18  28  38  48  58  68  78  88   98\n",
       "  9  19  29  39  49  59  69  79  89   99\n",
       " 10  20  30  40  50  60  70  80  90  100"
      ]
     },
     "execution_count": 34,
     "metadata": {},
     "output_type": "execute_result"
    }
   ],
   "source": [
    "A = reshape(collect(1:100),(10,10))"
   ]
  },
  {
   "cell_type": "code",
   "execution_count": 1,
   "id": "f1eb8886",
   "metadata": {},
   "outputs": [
    {
     "ename": "LoadError",
     "evalue": "UndefVarError: `CSV` not defined",
     "output_type": "error",
     "traceback": [
      "UndefVarError: `CSV` not defined",
      "",
      "Stacktrace:",
      " [1] top-level scope",
      "   @ In[1]:2"
     ]
    }
   ],
   "source": [
    "infile = \"data/small.csv\"\n",
    "df = CSV.File(infile) |> DataFrame\n",
    "# data_mat = Matrix(df);\n",
    "\n",
    "x = [mod(df.s[j], 10)!=0 ? mod(df.s[j], 10) : 10 for j in 1:size(df,1)] \n",
    "y = [mod(df.s[j], 10)!=0 ? df.s[j] ÷ 10 + 1 : df.s[j] ÷ 10  for j in 1:size(df,1)] \n",
    "\n",
    "df = insertcols!(df, 2, :s_i => [x[i] for i in 1:size(df,1)])\n",
    "df = insertcols!(df, 3, :s_j => [y[j] for j in 1:size(df,1)])\n",
    "\n",
    "xp = [mod(df.sp[j], 10)!=0 ? mod(df.sp[j], 10) : 10 for j in 1:size(df,1)] \n",
    "yp = [mod(df.sp[j], 10)!=0 ? df.sp[j] ÷ 10 + 1 : df.sp[j] ÷ 10  for j in 1:size(df,1)] \n",
    "\n",
    "df = insertcols!(df, 7, :sp_i => [xp[i] for i in 1:size(df,1)])\n",
    "df = insertcols!(df, 8, :sp_j => [yp[j] for j in 1:size(df,1)])"
   ]
  },
  {
   "cell_type": "code",
   "execution_count": 36,
   "id": "657c3947",
   "metadata": {},
   "outputs": [
    {
     "data": {
      "text/plain": [
       "19"
      ]
     },
     "execution_count": 36,
     "metadata": {},
     "output_type": "execute_result"
    }
   ],
   "source": [
    "idx = findall(df.r .> 0)\n",
    "k   = rand([2,19,5,6,10])"
   ]
  },
  {
   "cell_type": "markdown",
   "id": "1f5e8a3f",
   "metadata": {},
   "source": [
    "### Gradient Q-learning (not deep, w/o experience replay)"
   ]
  },
  {
   "cell_type": "code",
   "execution_count": 37,
   "id": "4604c4d1",
   "metadata": {},
   "outputs": [
    {
     "data": {
      "text/plain": [
       "MDP(0.95, [1, 2, 3, 4, 5, 6, 7, 8, 9, 10  …  91, 92, 93, 94, 95, 96, 97, 98, 99, 100], [1, 2, 3, 4], NaN, NaN, NaN)"
      ]
     },
     "execution_count": 37,
     "metadata": {},
     "output_type": "execute_result"
    }
   ],
   "source": [
    "# S = [[x,y] for x in 1:10, y in 1:10]   # FIXME: need to reshape this \n",
    "S = [i for i in 1:100]\n",
    "A = [1,2,3,4]\n",
    "γ = 0.95\n",
    "T = NaN\n",
    "R = NaN\n",
    "TR = NaN\n",
    "\n",
    "prob = MDP(γ,S,A,T,R,TR)"
   ]
  },
  {
   "cell_type": "code",
   "execution_count": 38,
   "id": "ca45aacf",
   "metadata": {},
   "outputs": [
    {
     "data": {
      "text/plain": [
       "SarsaLambda([1, 2, 3, 4, 5, 6, 7, 8, 9, 10  …  91, 92, 93, 94, 95, 96, 97, 98, 99, 100], [1, 2, 3, 4], 0.95, [0.0 0.0 0.0 0.0; 0.0 0.0 0.0 0.0; … ; 0.0 0.0 0.0 0.0; 0.0 0.0 0.0 0.0], [0.0 0.0 0.0 0.0; 0.0 0.0 0.0 0.0; … ; 0.0 0.0 0.0 0.0; 0.0 0.0 0.0 0.0], 0.5, 0.9, nothing)"
      ]
     },
     "execution_count": 38,
     "metadata": {},
     "output_type": "execute_result"
    }
   ],
   "source": [
    "α = 0.5 # learning rate \n",
    "Q = zeros((length(S), length(A)))\n",
    "N = zeros((length(S), length(A)))\n",
    "model = SarsaLambda(S, A, γ, Q, N, α, 0.9, nothing)"
   ]
  },
  {
   "cell_type": "code",
   "execution_count": 39,
   "id": "49b40128",
   "metadata": {},
   "outputs": [],
   "source": [
    "train_offline(prob, model, df, 1e6)"
   ]
  },
  {
   "cell_type": "code",
   "execution_count": 29,
   "id": "5cbfd452",
   "metadata": {},
   "outputs": [
    {
     "data": {
      "text/plain": [
       "100×4 Matrix{Float64}:\n",
       " 0.911615  0.844495   0.897917  0.960065\n",
       " 0.859474  0.994003   0.870511  0.95927\n",
       " 0.983386  1.67677    0.872321  1.17135\n",
       " 1.93056   6.92699    3.49316   1.86597\n",
       " 9.0034    3.15063    2.39925   3.49515\n",
       " 2.49314   2.90701    4.19951   3.87671\n",
       " 3.2575    4.72762   15.9033    8.04563\n",
       " 5.03377   3.33238    3.5345    3.17158\n",
       " 3.22592   2.87667    3.29735   2.22127\n",
       " 2.9573    2.70889    2.48065   2.86824\n",
       " 0.993548  1.27698    0.870038  0.943073\n",
       " 0.895505  1.62467    1.71975   0.775533\n",
       " 1.47563   5.11633    1.62095   1.01729\n",
       " ⋮                              \n",
       " 1.03561   1.11031    0.827323  1.06439\n",
       " 0.864282  0.854279   0.925336  0.813059\n",
       " 4.43586   3.30255    2.8142    1.68264\n",
       " 2.20963   2.9631     1.70278   2.82759\n",
       " 2.68856   3.07944    1.91795   2.59893\n",
       " 2.18365   2.28366    2.04682   1.40266\n",
       " 0.935633  1.17189    1.35341   1.32271\n",
       " 0.881991  1.07763    0.810712  0.940565\n",
       " 0.937076  0.80904    0.855485  0.820364\n",
       " 0.757782  0.973041   0.763696  0.873289\n",
       " 0.84356   0.929284   0.897499  0.9468\n",
       " 0.892786  0.789992   0.82357   0.971601"
      ]
     },
     "execution_count": 29,
     "metadata": {},
     "output_type": "execute_result"
    }
   ],
   "source": [
    "model.Q"
   ]
  },
  {
   "cell_type": "code",
   "execution_count": null,
   "id": "d6869160",
   "metadata": {},
   "outputs": [],
   "source": []
  },
  {
   "cell_type": "code",
   "execution_count": 40,
   "id": "6c8ab495",
   "metadata": {},
   "outputs": [
    {
     "data": {
      "text/plain": [
       "10×10 Matrix{Int64}:\n",
       "  1  11  21  31  41  51  61  71  81   91\n",
       "  2  12  22  32  42  52  62  72  82   92\n",
       "  3  13  23  33  43  53  63  73  83   93\n",
       "  4  14  24  34  44  54  64  74  84   94\n",
       "  5  15  25  35  45  55  65  75  85   95\n",
       "  6  16  26  36  46  56  66  76  86   96\n",
       "  7  17  27  37  47  57  67  77  87   97\n",
       "  8  18  28  38  48  58  68  78  88   98\n",
       "  9  19  29  39  49  59  69  79  89   99\n",
       " 10  20  30  40  50  60  70  80  90  100"
      ]
     },
     "execution_count": 40,
     "metadata": {},
     "output_type": "execute_result"
    }
   ],
   "source": [
    "A = reshape(collect(1:100),(10,10))"
   ]
  },
  {
   "cell_type": "code",
   "execution_count": 41,
   "id": "8b74a261",
   "metadata": {},
   "outputs": [
    {
     "data": {
      "text/plain": [
       "10×10 Matrix{Int64}:\n",
       " 1  2  3  2  2  2  1  3  4  4\n",
       " 3  2  4  4  4  3  3  3  4  3\n",
       " 2  4  2  1  2  4  1  3  1  3\n",
       " 3  1  1  3  3  2  1  4  3  1\n",
       " 2  2  2  2  2  4  4  4  1  1\n",
       " 3  2  3  3  4  2  4  4  4  1\n",
       " 1  2  2  4  4  4  2  3  1  4\n",
       " 4  3  2  1  2  4  1  2  2  1\n",
       " 2  3  2  1  2  2  3  1  4  4\n",
       " 2  1  3  1  2  4  4  1  3  2"
      ]
     },
     "execution_count": 41,
     "metadata": {},
     "output_type": "execute_result"
    }
   ],
   "source": [
    "a_opt = [findmax(model.Q[x, :])[2] for x in 1:100]\n",
    "a_opt2 = reshape(a_opt, (10,10))"
   ]
  },
  {
   "cell_type": "code",
   "execution_count": 42,
   "id": "64cbf1c7",
   "metadata": {},
   "outputs": [],
   "source": [
    "file = open(\"small.policy\", \"w\")\n",
    "\n",
    "# Write each element of the vector to the file on a new line\n",
    "for element in a_opt\n",
    "    println(file, element)\n",
    "end\n",
    "\n",
    "# Close the file\n",
    "close(file)"
   ]
  },
  {
   "cell_type": "code",
   "execution_count": null,
   "id": "eeb4f317",
   "metadata": {},
   "outputs": [],
   "source": [
    "train_offline(prob, model, df, 10000) "
   ]
  },
  {
   "cell_type": "code",
   "execution_count": null,
   "id": "de8a4bce",
   "metadata": {},
   "outputs": [],
   "source": []
  },
  {
   "cell_type": "code",
   "execution_count": null,
   "id": "ac881b37",
   "metadata": {},
   "outputs": [],
   "source": []
  }
 ],
 "metadata": {
  "kernelspec": {
   "display_name": "Julia 1.9.3",
   "language": "julia",
   "name": "julia-1.9"
  },
  "language_info": {
   "file_extension": ".jl",
   "mimetype": "application/julia",
   "name": "julia",
   "version": "1.9.3"
  }
 },
 "nbformat": 4,
 "nbformat_minor": 5
}
