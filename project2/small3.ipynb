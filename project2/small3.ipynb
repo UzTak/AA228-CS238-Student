{
 "cells": [
  {
   "cell_type": "code",
   "execution_count": 24,
   "id": "9b35ed57",
   "metadata": {},
   "outputs": [
    {
     "data": {
      "text/plain": [
       "pack_state (generic function with 1 method)"
      ]
     },
     "execution_count": 24,
     "metadata": {},
     "output_type": "execute_result"
    }
   ],
   "source": [
    "using Printf\n",
    "using DataFrames\n",
    "using CSV\n",
    "using LinearAlgebra\n",
    "using DataStructures \n",
    "using ProgressMeter\n",
    "\n",
    "include(\"RLalgo.jl\")"
   ]
  },
  {
   "cell_type": "markdown",
   "id": "5b98b676",
   "metadata": {},
   "source": [
    "### initialization of database"
   ]
  },
  {
   "cell_type": "code",
   "execution_count": 25,
   "id": "890181bb",
   "metadata": {},
   "outputs": [
    {
     "data": {
      "text/plain": [
       "10×10 Matrix{Int64}:\n",
       "  1  11  21  31  41  51  61  71  81   91\n",
       "  2  12  22  32  42  52  62  72  82   92\n",
       "  3  13  23  33  43  53  63  73  83   93\n",
       "  4  14  24  34  44  54  64  74  84   94\n",
       "  5  15  25  35  45  55  65  75  85   95\n",
       "  6  16  26  36  46  56  66  76  86   96\n",
       "  7  17  27  37  47  57  67  77  87   97\n",
       "  8  18  28  38  48  58  68  78  88   98\n",
       "  9  19  29  39  49  59  69  79  89   99\n",
       " 10  20  30  40  50  60  70  80  90  100"
      ]
     },
     "execution_count": 25,
     "metadata": {},
     "output_type": "execute_result"
    }
   ],
   "source": [
    "A = reshape(collect(1:100),(10,10))"
   ]
  },
  {
   "cell_type": "code",
   "execution_count": 26,
   "id": "f1eb8886",
   "metadata": {},
   "outputs": [
    {
     "data": {
      "text/html": [
       "<div><div style = \"float: left;\"><span>50000×4 DataFrame</span></div><div style = \"float: right;\"><span style = \"font-style: italic;\">49975 rows omitted</span></div><div style = \"clear: both;\"></div></div><div class = \"data-frame\" style = \"overflow-x: scroll;\"><table class = \"data-frame\" style = \"margin-bottom: 6px;\"><thead><tr class = \"header\"><th class = \"rowNumber\" style = \"font-weight: bold; text-align: right;\">Row</th><th style = \"text-align: left;\">s</th><th style = \"text-align: left;\">a</th><th style = \"text-align: left;\">r</th><th style = \"text-align: left;\">sp</th></tr><tr class = \"subheader headerLastRow\"><th class = \"rowNumber\" style = \"font-weight: bold; text-align: right;\"></th><th title = \"Int64\" style = \"text-align: left;\">Int64</th><th title = \"Int64\" style = \"text-align: left;\">Int64</th><th title = \"Int64\" style = \"text-align: left;\">Int64</th><th title = \"Int64\" style = \"text-align: left;\">Int64</th></tr></thead><tbody><tr><td class = \"rowNumber\" style = \"font-weight: bold; text-align: right;\">1</td><td style = \"text-align: right;\">85</td><td style = \"text-align: right;\">3</td><td style = \"text-align: right;\">0</td><td style = \"text-align: right;\">86</td></tr><tr><td class = \"rowNumber\" style = \"font-weight: bold; text-align: right;\">2</td><td style = \"text-align: right;\">86</td><td style = \"text-align: right;\">2</td><td style = \"text-align: right;\">0</td><td style = \"text-align: right;\">87</td></tr><tr><td class = \"rowNumber\" style = \"font-weight: bold; text-align: right;\">3</td><td style = \"text-align: right;\">87</td><td style = \"text-align: right;\">3</td><td style = \"text-align: right;\">0</td><td style = \"text-align: right;\">97</td></tr><tr><td class = \"rowNumber\" style = \"font-weight: bold; text-align: right;\">4</td><td style = \"text-align: right;\">97</td><td style = \"text-align: right;\">2</td><td style = \"text-align: right;\">0</td><td style = \"text-align: right;\">87</td></tr><tr><td class = \"rowNumber\" style = \"font-weight: bold; text-align: right;\">5</td><td style = \"text-align: right;\">87</td><td style = \"text-align: right;\">1</td><td style = \"text-align: right;\">0</td><td style = \"text-align: right;\">86</td></tr><tr><td class = \"rowNumber\" style = \"font-weight: bold; text-align: right;\">6</td><td style = \"text-align: right;\">86</td><td style = \"text-align: right;\">3</td><td style = \"text-align: right;\">0</td><td style = \"text-align: right;\">76</td></tr><tr><td class = \"rowNumber\" style = \"font-weight: bold; text-align: right;\">7</td><td style = \"text-align: right;\">76</td><td style = \"text-align: right;\">4</td><td style = \"text-align: right;\">0</td><td style = \"text-align: right;\">66</td></tr><tr><td class = \"rowNumber\" style = \"font-weight: bold; text-align: right;\">8</td><td style = \"text-align: right;\">66</td><td style = \"text-align: right;\">1</td><td style = \"text-align: right;\">0</td><td style = \"text-align: right;\">65</td></tr><tr><td class = \"rowNumber\" style = \"font-weight: bold; text-align: right;\">9</td><td style = \"text-align: right;\">65</td><td style = \"text-align: right;\">2</td><td style = \"text-align: right;\">0</td><td style = \"text-align: right;\">66</td></tr><tr><td class = \"rowNumber\" style = \"font-weight: bold; text-align: right;\">10</td><td style = \"text-align: right;\">66</td><td style = \"text-align: right;\">3</td><td style = \"text-align: right;\">0</td><td style = \"text-align: right;\">76</td></tr><tr><td class = \"rowNumber\" style = \"font-weight: bold; text-align: right;\">11</td><td style = \"text-align: right;\">76</td><td style = \"text-align: right;\">2</td><td style = \"text-align: right;\">0</td><td style = \"text-align: right;\">66</td></tr><tr><td class = \"rowNumber\" style = \"font-weight: bold; text-align: right;\">12</td><td style = \"text-align: right;\">66</td><td style = \"text-align: right;\">4</td><td style = \"text-align: right;\">0</td><td style = \"text-align: right;\">56</td></tr><tr><td class = \"rowNumber\" style = \"font-weight: bold; text-align: right;\">13</td><td style = \"text-align: right;\">56</td><td style = \"text-align: right;\">4</td><td style = \"text-align: right;\">0</td><td style = \"text-align: right;\">46</td></tr><tr><td style = \"text-align: right;\">&vellip;</td><td style = \"text-align: right;\">&vellip;</td><td style = \"text-align: right;\">&vellip;</td><td style = \"text-align: right;\">&vellip;</td><td style = \"text-align: right;\">&vellip;</td></tr><tr><td class = \"rowNumber\" style = \"font-weight: bold; text-align: right;\">49989</td><td style = \"text-align: right;\">98</td><td style = \"text-align: right;\">4</td><td style = \"text-align: right;\">0</td><td style = \"text-align: right;\">88</td></tr><tr><td class = \"rowNumber\" style = \"font-weight: bold; text-align: right;\">49990</td><td style = \"text-align: right;\">88</td><td style = \"text-align: right;\">1</td><td style = \"text-align: right;\">0</td><td style = \"text-align: right;\">89</td></tr><tr><td class = \"rowNumber\" style = \"font-weight: bold; text-align: right;\">49991</td><td style = \"text-align: right;\">89</td><td style = \"text-align: right;\">1</td><td style = \"text-align: right;\">0</td><td style = \"text-align: right;\">79</td></tr><tr><td class = \"rowNumber\" style = \"font-weight: bold; text-align: right;\">49992</td><td style = \"text-align: right;\">79</td><td style = \"text-align: right;\">2</td><td style = \"text-align: right;\">0</td><td style = \"text-align: right;\">80</td></tr><tr><td class = \"rowNumber\" style = \"font-weight: bold; text-align: right;\">49993</td><td style = \"text-align: right;\">80</td><td style = \"text-align: right;\">3</td><td style = \"text-align: right;\">0</td><td style = \"text-align: right;\">79</td></tr><tr><td class = \"rowNumber\" style = \"font-weight: bold; text-align: right;\">49994</td><td style = \"text-align: right;\">79</td><td style = \"text-align: right;\">1</td><td style = \"text-align: right;\">0</td><td style = \"text-align: right;\">78</td></tr><tr><td class = \"rowNumber\" style = \"font-weight: bold; text-align: right;\">49995</td><td style = \"text-align: right;\">78</td><td style = \"text-align: right;\">3</td><td style = \"text-align: right;\">0</td><td style = \"text-align: right;\">77</td></tr><tr><td class = \"rowNumber\" style = \"font-weight: bold; text-align: right;\">49996</td><td style = \"text-align: right;\">77</td><td style = \"text-align: right;\">2</td><td style = \"text-align: right;\">0</td><td style = \"text-align: right;\">78</td></tr><tr><td class = \"rowNumber\" style = \"font-weight: bold; text-align: right;\">49997</td><td style = \"text-align: right;\">78</td><td style = \"text-align: right;\">1</td><td style = \"text-align: right;\">0</td><td style = \"text-align: right;\">77</td></tr><tr><td class = \"rowNumber\" style = \"font-weight: bold; text-align: right;\">49998</td><td style = \"text-align: right;\">77</td><td style = \"text-align: right;\">4</td><td style = \"text-align: right;\">0</td><td style = \"text-align: right;\">67</td></tr><tr><td class = \"rowNumber\" style = \"font-weight: bold; text-align: right;\">49999</td><td style = \"text-align: right;\">67</td><td style = \"text-align: right;\">1</td><td style = \"text-align: right;\">0</td><td style = \"text-align: right;\">66</td></tr><tr><td class = \"rowNumber\" style = \"font-weight: bold; text-align: right;\">50000</td><td style = \"text-align: right;\">66</td><td style = \"text-align: right;\">3</td><td style = \"text-align: right;\">0</td><td style = \"text-align: right;\">76</td></tr></tbody></table></div>"
      ],
      "text/latex": [
       "\\begin{tabular}{r|cccc}\n",
       "\t& s & a & r & sp\\\\\n",
       "\t\\hline\n",
       "\t& Int64 & Int64 & Int64 & Int64\\\\\n",
       "\t\\hline\n",
       "\t1 & 85 & 3 & 0 & 86 \\\\\n",
       "\t2 & 86 & 2 & 0 & 87 \\\\\n",
       "\t3 & 87 & 3 & 0 & 97 \\\\\n",
       "\t4 & 97 & 2 & 0 & 87 \\\\\n",
       "\t5 & 87 & 1 & 0 & 86 \\\\\n",
       "\t6 & 86 & 3 & 0 & 76 \\\\\n",
       "\t7 & 76 & 4 & 0 & 66 \\\\\n",
       "\t8 & 66 & 1 & 0 & 65 \\\\\n",
       "\t9 & 65 & 2 & 0 & 66 \\\\\n",
       "\t10 & 66 & 3 & 0 & 76 \\\\\n",
       "\t11 & 76 & 2 & 0 & 66 \\\\\n",
       "\t12 & 66 & 4 & 0 & 56 \\\\\n",
       "\t13 & 56 & 4 & 0 & 46 \\\\\n",
       "\t14 & 46 & 1 & 0 & 45 \\\\\n",
       "\t15 & 45 & 2 & 0 & 46 \\\\\n",
       "\t16 & 46 & 1 & 0 & 45 \\\\\n",
       "\t17 & 45 & 2 & 0 & 46 \\\\\n",
       "\t18 & 46 & 4 & 0 & 45 \\\\\n",
       "\t19 & 45 & 3 & 0 & 55 \\\\\n",
       "\t20 & 55 & 4 & 0 & 56 \\\\\n",
       "\t21 & 56 & 4 & 0 & 55 \\\\\n",
       "\t22 & 55 & 1 & 0 & 56 \\\\\n",
       "\t23 & 56 & 4 & 0 & 66 \\\\\n",
       "\t24 & 66 & 3 & 0 & 76 \\\\\n",
       "\t25 & 76 & 2 & 0 & 77 \\\\\n",
       "\t26 & 77 & 4 & 0 & 76 \\\\\n",
       "\t27 & 76 & 1 & 0 & 77 \\\\\n",
       "\t28 & 77 & 4 & 0 & 76 \\\\\n",
       "\t29 & 76 & 4 & 0 & 66 \\\\\n",
       "\t30 & 66 & 4 & 0 & 56 \\\\\n",
       "\t$\\dots$ & $\\dots$ & $\\dots$ & $\\dots$ & $\\dots$ \\\\\n",
       "\\end{tabular}\n"
      ],
      "text/plain": [
       "\u001b[1m50000×4 DataFrame\u001b[0m\n",
       "\u001b[1m   Row \u001b[0m│\u001b[1m s     \u001b[0m\u001b[1m a     \u001b[0m\u001b[1m r     \u001b[0m\u001b[1m sp    \u001b[0m\n",
       "       │\u001b[90m Int64 \u001b[0m\u001b[90m Int64 \u001b[0m\u001b[90m Int64 \u001b[0m\u001b[90m Int64 \u001b[0m\n",
       "───────┼────────────────────────────\n",
       "     1 │    85      3      0     86\n",
       "     2 │    86      2      0     87\n",
       "     3 │    87      3      0     97\n",
       "     4 │    97      2      0     87\n",
       "     5 │    87      1      0     86\n",
       "     6 │    86      3      0     76\n",
       "     7 │    76      4      0     66\n",
       "     8 │    66      1      0     65\n",
       "     9 │    65      2      0     66\n",
       "    10 │    66      3      0     76\n",
       "    11 │    76      2      0     66\n",
       "   ⋮   │   ⋮      ⋮      ⋮      ⋮\n",
       " 49991 │    89      1      0     79\n",
       " 49992 │    79      2      0     80\n",
       " 49993 │    80      3      0     79\n",
       " 49994 │    79      1      0     78\n",
       " 49995 │    78      3      0     77\n",
       " 49996 │    77      2      0     78\n",
       " 49997 │    78      1      0     77\n",
       " 49998 │    77      4      0     67\n",
       " 49999 │    67      1      0     66\n",
       " 50000 │    66      3      0     76\n",
       "\u001b[36m                  49979 rows omitted\u001b[0m"
      ]
     },
     "execution_count": 26,
     "metadata": {},
     "output_type": "execute_result"
    }
   ],
   "source": [
    "infile = \"data/small.csv\"\n",
    "df = CSV.File(infile) |> DataFrame\n",
    "# data_mat = Matrix(df);\n",
    "\n",
    "# x = [mod(df.s[j], 10)!=0 ? mod(df.s[j], 10) : 10 for j in 1:size(df,1)] \n",
    "# y = [mod(df.s[j], 10)!=0 ? df.s[j] ÷ 10 + 1 : df.s[j] ÷ 10  for j in 1:size(df,1)] \n",
    "\n",
    "# df = insertcols!(df, 2, :s_i => [x[i] for i in 1:size(df,1)])\n",
    "# df = insertcols!(df, 3, :s_j => [y[j] for j in 1:size(df,1)])\n",
    "\n",
    "# xp = [mod(df.sp[j], 10)!=0 ? mod(df.sp[j], 10) : 10 for j in 1:size(df,1)] \n",
    "# yp = [mod(df.sp[j], 10)!=0 ? df.sp[j] ÷ 10 + 1 : df.sp[j] ÷ 10  for j in 1:size(df,1)] \n",
    "\n",
    "# df = insertcols!(df, 7, :sp_i => [xp[i] for i in 1:size(df,1)])\n",
    "# df = insertcols!(df, 8, :sp_j => [yp[j] for j in 1:size(df,1)])"
   ]
  },
  {
   "cell_type": "code",
   "execution_count": 27,
   "id": "657c3947",
   "metadata": {},
   "outputs": [
    {
     "data": {
      "text/plain": [
       "19"
      ]
     },
     "execution_count": 27,
     "metadata": {},
     "output_type": "execute_result"
    }
   ],
   "source": [
    "idx = findall(df.r .> 0)\n",
    "k   = rand([2,19,5,6,10])"
   ]
  },
  {
   "cell_type": "markdown",
   "id": "1f5e8a3f",
   "metadata": {},
   "source": [
    "### Gradient Q-learning (not deep, w/o experience replay)"
   ]
  },
  {
   "cell_type": "code",
   "execution_count": 28,
   "id": "4604c4d1",
   "metadata": {},
   "outputs": [
    {
     "data": {
      "text/plain": [
       "MDP(0.95, [1, 2, 3, 4, 5, 6, 7, 8, 9, 10  …  91, 92, 93, 94, 95, 96, 97, 98, 99, 100], [1, 2, 3, 4], NaN, NaN, NaN)"
      ]
     },
     "execution_count": 28,
     "metadata": {},
     "output_type": "execute_result"
    }
   ],
   "source": [
    "# S = [[x,y] for x in 1:10, y in 1:10]   # FIXME: need to reshape this \n",
    "S = [i for i in 1:100]\n",
    "A = [1,2,3,4]\n",
    "γ = 0.95\n",
    "T = NaN\n",
    "R = NaN\n",
    "TR = NaN\n",
    "\n",
    "α = 0.05\n",
    "Q = zeros((length(S), length(A)))\n",
    "N = zeros((length(S), length(A)))\n",
    "prob = MDP(γ,S,A,T,R,TR)"
   ]
  },
  {
   "cell_type": "code",
   "execution_count": 29,
   "id": "b1c2e6ff",
   "metadata": {},
   "outputs": [
    {
     "data": {
      "text/plain": [
       "QLearning([1, 2, 3, 4, 5, 6, 7, 8, 9, 10  …  91, 92, 93, 94, 95, 96, 97, 98, 99, 100], [1, 2, 3, 4], 0.95, [0.0 0.0 0.0 0.0; 0.0 0.0 0.0 0.0; … ; 0.0 0.0 0.0 0.0; 0.0 0.0 0.0 0.0], 0.05)"
      ]
     },
     "execution_count": 29,
     "metadata": {},
     "output_type": "execute_result"
    }
   ],
   "source": [
    "model = QLearning(S,A,γ,Q,α)"
   ]
  },
  {
   "cell_type": "code",
   "execution_count": null,
   "id": "95549020",
   "metadata": {},
   "outputs": [],
   "source": []
  },
  {
   "cell_type": "code",
   "execution_count": 35,
   "id": "49b40128",
   "metadata": {},
   "outputs": [
    {
     "name": "stdout",
     "output_type": "stream",
     "text": [
      "data size: 50000\n",
      "  0.030614 seconds (847.99 k allocations: 16.754 MiB)\n"
     ]
    }
   ],
   "source": [
    "@time train_offline_simple(prob, model, df, 1)"
   ]
  },
  {
   "cell_type": "code",
   "execution_count": 31,
   "id": "5cbfd452",
   "metadata": {
    "scrolled": false
   },
   "outputs": [
    {
     "data": {
      "text/plain": [
       "100×4 Matrix{Float64}:\n",
       " 0.154771  0.278654  0.239608  0.164459\n",
       " 0.273725  0.399008  0.418518  0.251273\n",
       " 0.600643  0.994452  1.00351   0.560868\n",
       " 1.1107    1.85738   2.00993   1.18526\n",
       " 1.95401   2.47358   3.18484   2.17818\n",
       " 3.71498   4.12302   4.56231   3.15673\n",
       " 5.34712   5.41774   7.09655   5.41958\n",
       " 6.09717   3.23372   5.70245   3.41182\n",
       " 3.78218   2.27063   3.4092    2.16855\n",
       " 2.25264   1.47906   2.34337   1.69174\n",
       " 0.289651  0.543547  0.56603   0.326835\n",
       " 0.427921  0.99021   0.889068  0.401677\n",
       " 1.2057    2.04963   1.4798    1.26983\n",
       " ⋮                             \n",
       " 1.07157   0.54452   0.475539  1.1299\n",
       " 0.534949  0.341449  0.329837  0.642675\n",
       " 3.61518   4.397     3.77607   4.3425\n",
       " 4.63553   4.15585   4.73292   4.94717\n",
       " 3.99812   2.62384   3.39032   3.74438\n",
       " 2.4913    1.89872   1.87462   2.47631\n",
       " 1.44576   1.11254   1.11112   1.41319\n",
       " 1.0769    0.746249  0.615632  1.03643\n",
       " 0.678196  0.597754  0.459029  0.832629\n",
       " 0.577799  0.372764  0.409338  0.797802\n",
       " 0.444206  0.281472  0.196917  0.436348\n",
       " 0.285971  0.173983  0.129712  0.255363"
      ]
     },
     "metadata": {},
     "output_type": "display_data"
    }
   ],
   "source": [
    "display(\"text/plain\", model.Q) "
   ]
  },
  {
   "cell_type": "code",
   "execution_count": null,
   "id": "d6869160",
   "metadata": {},
   "outputs": [],
   "source": []
  },
  {
   "cell_type": "code",
   "execution_count": 32,
   "id": "6c8ab495",
   "metadata": {},
   "outputs": [
    {
     "data": {
      "text/plain": [
       "10×10 Matrix{Int64}:\n",
       "  1  11  21  31  41  51  61  71  81   91\n",
       "  2  12  22  32  42  52  62  72  82   92\n",
       "  3  13  23  33  43  53  63  73  83   93\n",
       "  4  14  24  34  44  54  64  74  84   94\n",
       "  5  15  25  35  45  55  65  75  85   95\n",
       "  6  16  26  36  46  56  66  76  86   96\n",
       "  7  17  27  37  47  57  67  77  87   97\n",
       "  8  18  28  38  48  58  68  78  88   98\n",
       "  9  19  29  39  49  59  69  79  89   99\n",
       " 10  20  30  40  50  60  70  80  90  100"
      ]
     },
     "execution_count": 32,
     "metadata": {},
     "output_type": "execute_result"
    }
   ],
   "source": [
    "A = reshape(collect(1:100),(10,10))"
   ]
  },
  {
   "cell_type": "code",
   "execution_count": 33,
   "id": "8b74a261",
   "metadata": {},
   "outputs": [
    {
     "data": {
      "text/plain": [
       "100-element Vector{Int64}:\n",
       " 2\n",
       " 3\n",
       " 3\n",
       " 3\n",
       " 3\n",
       " 3\n",
       " 3\n",
       " 1\n",
       " 1\n",
       " 3\n",
       " 3\n",
       " 2\n",
       " 2\n",
       " ⋮\n",
       " 4\n",
       " 4\n",
       " 2\n",
       " 4\n",
       " 1\n",
       " 1\n",
       " 1\n",
       " 1\n",
       " 4\n",
       " 4\n",
       " 1\n",
       " 1"
      ]
     },
     "execution_count": 33,
     "metadata": {},
     "output_type": "execute_result"
    }
   ],
   "source": [
    "a_opt = [findmax(model.Q[x, :])[2] for x in 1:100]\n",
    "# a_opt2 = reshape(a_opt, (10,10))"
   ]
  },
  {
   "cell_type": "code",
   "execution_count": 34,
   "id": "64cbf1c7",
   "metadata": {},
   "outputs": [],
   "source": [
    "file = open(\"small.policy\", \"w\")\n",
    "\n",
    "# Write each element of the vector to the file on a new line\n",
    "for element in a_opt\n",
    "    println(file, element)\n",
    "end\n",
    "\n",
    "# Close the file\n",
    "close(file)"
   ]
  },
  {
   "cell_type": "code",
   "execution_count": null,
   "id": "eeb4f317",
   "metadata": {},
   "outputs": [],
   "source": []
  },
  {
   "cell_type": "code",
   "execution_count": null,
   "id": "de8a4bce",
   "metadata": {},
   "outputs": [],
   "source": []
  },
  {
   "cell_type": "code",
   "execution_count": null,
   "id": "ac881b37",
   "metadata": {},
   "outputs": [],
   "source": []
  }
 ],
 "metadata": {
  "kernelspec": {
   "display_name": "Julia 1.9.3",
   "language": "julia",
   "name": "julia-1.9"
  },
  "language_info": {
   "file_extension": ".jl",
   "mimetype": "application/julia",
   "name": "julia",
   "version": "1.9.3"
  }
 },
 "nbformat": 4,
 "nbformat_minor": 5
}
