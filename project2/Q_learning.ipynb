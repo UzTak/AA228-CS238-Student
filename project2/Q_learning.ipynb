{
 "cells": [
  {
   "cell_type": "code",
   "execution_count": 1,
   "id": "00017f90",
   "metadata": {},
   "outputs": [],
   "source": [
    "using Printf\n",
    "using DataFrames\n",
    "using CSV\n",
    "using LinearAlgebra"
   ]
  },
  {
   "cell_type": "markdown",
   "id": "7f24b588",
   "metadata": {},
   "source": [
    "### functions "
   ]
  },
  {
   "cell_type": "code",
   "execution_count": 2,
   "id": "553053f0",
   "metadata": {},
   "outputs": [],
   "source": [
    "struct MDP \n",
    "    γ   # discount rate \n",
    "    S   # state space\n",
    "    A   # action space\n",
    "    T   # transition function\n",
    "    R   # reward function\n",
    "    TR  # transition function \n",
    "end "
   ]
  },
  {
   "cell_type": "code",
   "execution_count": 3,
   "id": "eb1b22ce",
   "metadata": {},
   "outputs": [
    {
     "data": {
      "text/plain": [
       "update! (generic function with 1 method)"
      ]
     },
     "execution_count": 3,
     "metadata": {},
     "output_type": "execute_result"
    }
   ],
   "source": [
    "mutable struct IncrementalEstimate\n",
    "    μ  # mean estimate \n",
    "    α  # learning rate (function) \n",
    "    m  # num of updates \n",
    "end \n",
    "\n",
    "function update!(model::IncrementalEstimate, x)\n",
    "    model.m += 1 \n",
    "    model.μ += model.α(model.m) * (x - model.μ) \n",
    "    return model \n",
    "end "
   ]
  },
  {
   "cell_type": "code",
   "execution_count": 20,
   "id": "35dddad9",
   "metadata": {},
   "outputs": [
    {
     "data": {
      "text/plain": [
       "sample_data (generic function with 1 method)"
      ]
     },
     "execution_count": 20,
     "metadata": {},
     "output_type": "execute_result"
    }
   ],
   "source": [
    "# for offline RL, sample a tuple (s,a,r,s_) to update a model\n",
    "function sample_data(df)\n",
    "    row = size(df,1)\n",
    "    i = rand(1:row)\n",
    "#     s, a, r, s_ = (df.s_i[i], df.s_j[i]), df.a[i], df.r[i], (df.sp_i[i], df.sp_j[i]) \n",
    "    s, a, r, s_ = df.s[i], df.a[i], df.r[i], df.sp[i] \n",
    "    return s, a, r, s_\n",
    "end "
   ]
  },
  {
   "cell_type": "code",
   "execution_count": 21,
   "id": "60b827b0",
   "metadata": {},
   "outputs": [
    {
     "data": {
      "text/plain": [
       "train_offline (generic function with 2 methods)"
      ]
     },
     "execution_count": 21,
     "metadata": {},
     "output_type": "execute_result"
    }
   ],
   "source": [
    "# algorithm 15.9\n",
    "function simulate(𝒫::MDP, model, π, h, s) \n",
    "    for i in 1:h \n",
    "        a = π(model, s) \n",
    "        s′, r = 𝒫.TR(s, a) \n",
    "        update!(model, s, a, r, s′)  # update model from the sample (s,a,r,s_)\n",
    "        s = s′ \n",
    "    end \n",
    "end\n",
    "\n",
    "function train_offline(𝒫::MDP, model, df, h) \n",
    "    for i in 1:h \n",
    "        s, a, s′, r = sample_data(df)\n",
    "        update!(model, s, a, r, s′)  # update model from the sample (s,a,r,s_)\n",
    "        s = s′ \n",
    "    end \n",
    "end"
   ]
  },
  {
   "cell_type": "code",
   "execution_count": 22,
   "id": "7d2a17b6",
   "metadata": {},
   "outputs": [
    {
     "data": {
      "text/plain": [
       "update! (generic function with 3 methods)"
      ]
     },
     "execution_count": 22,
     "metadata": {},
     "output_type": "execute_result"
    }
   ],
   "source": [
    "mutable struct QLearning\n",
    "    S \n",
    "    A\n",
    "    γ\n",
    "    Q\n",
    "    α\n",
    "end \n",
    "\n",
    "lookahead(model::QLearning, s,a) = model.Q[s,a]\n",
    "\n",
    "function update!(model::QLearning, s,a,r,s_)\n",
    "    γ, Q, α = model.γ, model.Q, model.α\n",
    "    Q[s,a] += α*(r + maximum(Q[s_, :]) - Q[s,a])  # update of Q-function\n",
    "    return model \n",
    "end "
   ]
  },
  {
   "cell_type": "code",
   "execution_count": 23,
   "id": "315b39f5",
   "metadata": {},
   "outputs": [
    {
     "data": {
      "text/plain": [
       "update! (generic function with 3 methods)"
      ]
     },
     "execution_count": 23,
     "metadata": {},
     "output_type": "execute_result"
    }
   ],
   "source": [
    "mutable struct Sarsa\n",
    "    S\n",
    "    A\n",
    "    γ\n",
    "    Q  # action value function (initial)\n",
    "    α  # learning rate \n",
    "    l  # most recent experience tuble(s,a,r)\n",
    "end\n",
    "\n",
    "lookahead(model::Sarsa, s,a) = model.Q[s,a]\n",
    "\n",
    "function update!(model::Sarsa, s,a,r,s_)\n",
    "    if model.l != nothing \n",
    "        γ, Q, α, l = model.γ, model.Q, model.α, model.l \n",
    "        model.Q[l.s, l.a] += α * (l.r + γ*Q[s,a] - Q[l.s, l.a]) \n",
    "    end \n",
    "    model.l = (s=s, a=a, r=r) \n",
    "end "
   ]
  },
  {
   "cell_type": "code",
   "execution_count": 24,
   "id": "45b09ddc",
   "metadata": {},
   "outputs": [
    {
     "ename": "LoadError",
     "evalue": "UndefVarError: `EpsilonGreedyExploration` not defined",
     "output_type": "error",
     "traceback": [
      "UndefVarError: `EpsilonGreedyExploration` not defined",
      "",
      "Stacktrace:",
      " [1] top-level scope",
      "   @ In[24]:1"
     ]
    }
   ],
   "source": [
    "function (π::EpsilonGreedyExploration)(model, s)\n",
    "    A, ϵ = π.A, π.ϵ\n",
    "    if rand() < ϵ\n",
    "        return rand(A)\n",
    "    end \n",
    "    Q(s,a) = lookahead(model, s, a)\n",
    "    return argmax(a->Q(s,a), A) \n",
    "end"
   ]
  },
  {
   "cell_type": "code",
   "execution_count": null,
   "id": "d5206322",
   "metadata": {},
   "outputs": [],
   "source": []
  },
  {
   "cell_type": "markdown",
   "id": "c683a153",
   "metadata": {},
   "source": [
    "### implementation"
   ]
  },
  {
   "cell_type": "code",
   "execution_count": 25,
   "id": "4bb104ec",
   "metadata": {},
   "outputs": [
    {
     "data": {
      "text/html": [
       "<div><div style = \"float: left;\"><span>50000×8 DataFrame</span></div><div style = \"float: right;\"><span style = \"font-style: italic;\">49975 rows omitted</span></div><div style = \"clear: both;\"></div></div><div class = \"data-frame\" style = \"overflow-x: scroll;\"><table class = \"data-frame\" style = \"margin-bottom: 6px;\"><thead><tr class = \"header\"><th class = \"rowNumber\" style = \"font-weight: bold; text-align: right;\">Row</th><th style = \"text-align: left;\">s</th><th style = \"text-align: left;\">s_i</th><th style = \"text-align: left;\">s_j</th><th style = \"text-align: left;\">a</th><th style = \"text-align: left;\">r</th><th style = \"text-align: left;\">sp</th><th style = \"text-align: left;\">sp_i</th><th style = \"text-align: left;\">sp_j</th></tr><tr class = \"subheader headerLastRow\"><th class = \"rowNumber\" style = \"font-weight: bold; text-align: right;\"></th><th title = \"Int64\" style = \"text-align: left;\">Int64</th><th title = \"Int64\" style = \"text-align: left;\">Int64</th><th title = \"Int64\" style = \"text-align: left;\">Int64</th><th title = \"Int64\" style = \"text-align: left;\">Int64</th><th title = \"Int64\" style = \"text-align: left;\">Int64</th><th title = \"Int64\" style = \"text-align: left;\">Int64</th><th title = \"Int64\" style = \"text-align: left;\">Int64</th><th title = \"Int64\" style = \"text-align: left;\">Int64</th></tr></thead><tbody><tr><td class = \"rowNumber\" style = \"font-weight: bold; text-align: right;\">1</td><td style = \"text-align: right;\">85</td><td style = \"text-align: right;\">5</td><td style = \"text-align: right;\">9</td><td style = \"text-align: right;\">3</td><td style = \"text-align: right;\">0</td><td style = \"text-align: right;\">86</td><td style = \"text-align: right;\">6</td><td style = \"text-align: right;\">9</td></tr><tr><td class = \"rowNumber\" style = \"font-weight: bold; text-align: right;\">2</td><td style = \"text-align: right;\">86</td><td style = \"text-align: right;\">6</td><td style = \"text-align: right;\">9</td><td style = \"text-align: right;\">2</td><td style = \"text-align: right;\">0</td><td style = \"text-align: right;\">87</td><td style = \"text-align: right;\">7</td><td style = \"text-align: right;\">9</td></tr><tr><td class = \"rowNumber\" style = \"font-weight: bold; text-align: right;\">3</td><td style = \"text-align: right;\">87</td><td style = \"text-align: right;\">7</td><td style = \"text-align: right;\">9</td><td style = \"text-align: right;\">3</td><td style = \"text-align: right;\">0</td><td style = \"text-align: right;\">97</td><td style = \"text-align: right;\">7</td><td style = \"text-align: right;\">10</td></tr><tr><td class = \"rowNumber\" style = \"font-weight: bold; text-align: right;\">4</td><td style = \"text-align: right;\">97</td><td style = \"text-align: right;\">7</td><td style = \"text-align: right;\">10</td><td style = \"text-align: right;\">2</td><td style = \"text-align: right;\">0</td><td style = \"text-align: right;\">87</td><td style = \"text-align: right;\">7</td><td style = \"text-align: right;\">9</td></tr><tr><td class = \"rowNumber\" style = \"font-weight: bold; text-align: right;\">5</td><td style = \"text-align: right;\">87</td><td style = \"text-align: right;\">7</td><td style = \"text-align: right;\">9</td><td style = \"text-align: right;\">1</td><td style = \"text-align: right;\">0</td><td style = \"text-align: right;\">86</td><td style = \"text-align: right;\">6</td><td style = \"text-align: right;\">9</td></tr><tr><td class = \"rowNumber\" style = \"font-weight: bold; text-align: right;\">6</td><td style = \"text-align: right;\">86</td><td style = \"text-align: right;\">6</td><td style = \"text-align: right;\">9</td><td style = \"text-align: right;\">3</td><td style = \"text-align: right;\">0</td><td style = \"text-align: right;\">76</td><td style = \"text-align: right;\">6</td><td style = \"text-align: right;\">8</td></tr><tr><td class = \"rowNumber\" style = \"font-weight: bold; text-align: right;\">7</td><td style = \"text-align: right;\">76</td><td style = \"text-align: right;\">6</td><td style = \"text-align: right;\">8</td><td style = \"text-align: right;\">4</td><td style = \"text-align: right;\">0</td><td style = \"text-align: right;\">66</td><td style = \"text-align: right;\">6</td><td style = \"text-align: right;\">7</td></tr><tr><td class = \"rowNumber\" style = \"font-weight: bold; text-align: right;\">8</td><td style = \"text-align: right;\">66</td><td style = \"text-align: right;\">6</td><td style = \"text-align: right;\">7</td><td style = \"text-align: right;\">1</td><td style = \"text-align: right;\">0</td><td style = \"text-align: right;\">65</td><td style = \"text-align: right;\">5</td><td style = \"text-align: right;\">7</td></tr><tr><td class = \"rowNumber\" style = \"font-weight: bold; text-align: right;\">9</td><td style = \"text-align: right;\">65</td><td style = \"text-align: right;\">5</td><td style = \"text-align: right;\">7</td><td style = \"text-align: right;\">2</td><td style = \"text-align: right;\">0</td><td style = \"text-align: right;\">66</td><td style = \"text-align: right;\">6</td><td style = \"text-align: right;\">7</td></tr><tr><td class = \"rowNumber\" style = \"font-weight: bold; text-align: right;\">10</td><td style = \"text-align: right;\">66</td><td style = \"text-align: right;\">6</td><td style = \"text-align: right;\">7</td><td style = \"text-align: right;\">3</td><td style = \"text-align: right;\">0</td><td style = \"text-align: right;\">76</td><td style = \"text-align: right;\">6</td><td style = \"text-align: right;\">8</td></tr><tr><td class = \"rowNumber\" style = \"font-weight: bold; text-align: right;\">11</td><td style = \"text-align: right;\">76</td><td style = \"text-align: right;\">6</td><td style = \"text-align: right;\">8</td><td style = \"text-align: right;\">2</td><td style = \"text-align: right;\">0</td><td style = \"text-align: right;\">66</td><td style = \"text-align: right;\">6</td><td style = \"text-align: right;\">7</td></tr><tr><td class = \"rowNumber\" style = \"font-weight: bold; text-align: right;\">12</td><td style = \"text-align: right;\">66</td><td style = \"text-align: right;\">6</td><td style = \"text-align: right;\">7</td><td style = \"text-align: right;\">4</td><td style = \"text-align: right;\">0</td><td style = \"text-align: right;\">56</td><td style = \"text-align: right;\">6</td><td style = \"text-align: right;\">6</td></tr><tr><td class = \"rowNumber\" style = \"font-weight: bold; text-align: right;\">13</td><td style = \"text-align: right;\">56</td><td style = \"text-align: right;\">6</td><td style = \"text-align: right;\">6</td><td style = \"text-align: right;\">4</td><td style = \"text-align: right;\">0</td><td style = \"text-align: right;\">46</td><td style = \"text-align: right;\">6</td><td style = \"text-align: right;\">5</td></tr><tr><td style = \"text-align: right;\">&vellip;</td><td style = \"text-align: right;\">&vellip;</td><td style = \"text-align: right;\">&vellip;</td><td style = \"text-align: right;\">&vellip;</td><td style = \"text-align: right;\">&vellip;</td><td style = \"text-align: right;\">&vellip;</td><td style = \"text-align: right;\">&vellip;</td><td style = \"text-align: right;\">&vellip;</td><td style = \"text-align: right;\">&vellip;</td></tr><tr><td class = \"rowNumber\" style = \"font-weight: bold; text-align: right;\">49989</td><td style = \"text-align: right;\">98</td><td style = \"text-align: right;\">8</td><td style = \"text-align: right;\">10</td><td style = \"text-align: right;\">4</td><td style = \"text-align: right;\">0</td><td style = \"text-align: right;\">88</td><td style = \"text-align: right;\">8</td><td style = \"text-align: right;\">9</td></tr><tr><td class = \"rowNumber\" style = \"font-weight: bold; text-align: right;\">49990</td><td style = \"text-align: right;\">88</td><td style = \"text-align: right;\">8</td><td style = \"text-align: right;\">9</td><td style = \"text-align: right;\">1</td><td style = \"text-align: right;\">0</td><td style = \"text-align: right;\">89</td><td style = \"text-align: right;\">9</td><td style = \"text-align: right;\">9</td></tr><tr><td class = \"rowNumber\" style = \"font-weight: bold; text-align: right;\">49991</td><td style = \"text-align: right;\">89</td><td style = \"text-align: right;\">9</td><td style = \"text-align: right;\">9</td><td style = \"text-align: right;\">1</td><td style = \"text-align: right;\">0</td><td style = \"text-align: right;\">79</td><td style = \"text-align: right;\">9</td><td style = \"text-align: right;\">8</td></tr><tr><td class = \"rowNumber\" style = \"font-weight: bold; text-align: right;\">49992</td><td style = \"text-align: right;\">79</td><td style = \"text-align: right;\">9</td><td style = \"text-align: right;\">8</td><td style = \"text-align: right;\">2</td><td style = \"text-align: right;\">0</td><td style = \"text-align: right;\">80</td><td style = \"text-align: right;\">10</td><td style = \"text-align: right;\">8</td></tr><tr><td class = \"rowNumber\" style = \"font-weight: bold; text-align: right;\">49993</td><td style = \"text-align: right;\">80</td><td style = \"text-align: right;\">10</td><td style = \"text-align: right;\">8</td><td style = \"text-align: right;\">3</td><td style = \"text-align: right;\">0</td><td style = \"text-align: right;\">79</td><td style = \"text-align: right;\">9</td><td style = \"text-align: right;\">8</td></tr><tr><td class = \"rowNumber\" style = \"font-weight: bold; text-align: right;\">49994</td><td style = \"text-align: right;\">79</td><td style = \"text-align: right;\">9</td><td style = \"text-align: right;\">8</td><td style = \"text-align: right;\">1</td><td style = \"text-align: right;\">0</td><td style = \"text-align: right;\">78</td><td style = \"text-align: right;\">8</td><td style = \"text-align: right;\">8</td></tr><tr><td class = \"rowNumber\" style = \"font-weight: bold; text-align: right;\">49995</td><td style = \"text-align: right;\">78</td><td style = \"text-align: right;\">8</td><td style = \"text-align: right;\">8</td><td style = \"text-align: right;\">3</td><td style = \"text-align: right;\">0</td><td style = \"text-align: right;\">77</td><td style = \"text-align: right;\">7</td><td style = \"text-align: right;\">8</td></tr><tr><td class = \"rowNumber\" style = \"font-weight: bold; text-align: right;\">49996</td><td style = \"text-align: right;\">77</td><td style = \"text-align: right;\">7</td><td style = \"text-align: right;\">8</td><td style = \"text-align: right;\">2</td><td style = \"text-align: right;\">0</td><td style = \"text-align: right;\">78</td><td style = \"text-align: right;\">8</td><td style = \"text-align: right;\">8</td></tr><tr><td class = \"rowNumber\" style = \"font-weight: bold; text-align: right;\">49997</td><td style = \"text-align: right;\">78</td><td style = \"text-align: right;\">8</td><td style = \"text-align: right;\">8</td><td style = \"text-align: right;\">1</td><td style = \"text-align: right;\">0</td><td style = \"text-align: right;\">77</td><td style = \"text-align: right;\">7</td><td style = \"text-align: right;\">8</td></tr><tr><td class = \"rowNumber\" style = \"font-weight: bold; text-align: right;\">49998</td><td style = \"text-align: right;\">77</td><td style = \"text-align: right;\">7</td><td style = \"text-align: right;\">8</td><td style = \"text-align: right;\">4</td><td style = \"text-align: right;\">0</td><td style = \"text-align: right;\">67</td><td style = \"text-align: right;\">7</td><td style = \"text-align: right;\">7</td></tr><tr><td class = \"rowNumber\" style = \"font-weight: bold; text-align: right;\">49999</td><td style = \"text-align: right;\">67</td><td style = \"text-align: right;\">7</td><td style = \"text-align: right;\">7</td><td style = \"text-align: right;\">1</td><td style = \"text-align: right;\">0</td><td style = \"text-align: right;\">66</td><td style = \"text-align: right;\">6</td><td style = \"text-align: right;\">7</td></tr><tr><td class = \"rowNumber\" style = \"font-weight: bold; text-align: right;\">50000</td><td style = \"text-align: right;\">66</td><td style = \"text-align: right;\">6</td><td style = \"text-align: right;\">7</td><td style = \"text-align: right;\">3</td><td style = \"text-align: right;\">0</td><td style = \"text-align: right;\">76</td><td style = \"text-align: right;\">6</td><td style = \"text-align: right;\">8</td></tr></tbody></table></div>"
      ],
      "text/latex": [
       "\\begin{tabular}{r|cccccccc}\n",
       "\t& s & s\\_i & s\\_j & a & r & sp & sp\\_i & sp\\_j\\\\\n",
       "\t\\hline\n",
       "\t& Int64 & Int64 & Int64 & Int64 & Int64 & Int64 & Int64 & Int64\\\\\n",
       "\t\\hline\n",
       "\t1 & 85 & 5 & 9 & 3 & 0 & 86 & 6 & 9 \\\\\n",
       "\t2 & 86 & 6 & 9 & 2 & 0 & 87 & 7 & 9 \\\\\n",
       "\t3 & 87 & 7 & 9 & 3 & 0 & 97 & 7 & 10 \\\\\n",
       "\t4 & 97 & 7 & 10 & 2 & 0 & 87 & 7 & 9 \\\\\n",
       "\t5 & 87 & 7 & 9 & 1 & 0 & 86 & 6 & 9 \\\\\n",
       "\t6 & 86 & 6 & 9 & 3 & 0 & 76 & 6 & 8 \\\\\n",
       "\t7 & 76 & 6 & 8 & 4 & 0 & 66 & 6 & 7 \\\\\n",
       "\t8 & 66 & 6 & 7 & 1 & 0 & 65 & 5 & 7 \\\\\n",
       "\t9 & 65 & 5 & 7 & 2 & 0 & 66 & 6 & 7 \\\\\n",
       "\t10 & 66 & 6 & 7 & 3 & 0 & 76 & 6 & 8 \\\\\n",
       "\t11 & 76 & 6 & 8 & 2 & 0 & 66 & 6 & 7 \\\\\n",
       "\t12 & 66 & 6 & 7 & 4 & 0 & 56 & 6 & 6 \\\\\n",
       "\t13 & 56 & 6 & 6 & 4 & 0 & 46 & 6 & 5 \\\\\n",
       "\t14 & 46 & 6 & 5 & 1 & 0 & 45 & 5 & 5 \\\\\n",
       "\t15 & 45 & 5 & 5 & 2 & 0 & 46 & 6 & 5 \\\\\n",
       "\t16 & 46 & 6 & 5 & 1 & 0 & 45 & 5 & 5 \\\\\n",
       "\t17 & 45 & 5 & 5 & 2 & 0 & 46 & 6 & 5 \\\\\n",
       "\t18 & 46 & 6 & 5 & 4 & 0 & 45 & 5 & 5 \\\\\n",
       "\t19 & 45 & 5 & 5 & 3 & 0 & 55 & 5 & 6 \\\\\n",
       "\t20 & 55 & 5 & 6 & 4 & 0 & 56 & 6 & 6 \\\\\n",
       "\t21 & 56 & 6 & 6 & 4 & 0 & 55 & 5 & 6 \\\\\n",
       "\t22 & 55 & 5 & 6 & 1 & 0 & 56 & 6 & 6 \\\\\n",
       "\t23 & 56 & 6 & 6 & 4 & 0 & 66 & 6 & 7 \\\\\n",
       "\t24 & 66 & 6 & 7 & 3 & 0 & 76 & 6 & 8 \\\\\n",
       "\t25 & 76 & 6 & 8 & 2 & 0 & 77 & 7 & 8 \\\\\n",
       "\t26 & 77 & 7 & 8 & 4 & 0 & 76 & 6 & 8 \\\\\n",
       "\t27 & 76 & 6 & 8 & 1 & 0 & 77 & 7 & 8 \\\\\n",
       "\t28 & 77 & 7 & 8 & 4 & 0 & 76 & 6 & 8 \\\\\n",
       "\t29 & 76 & 6 & 8 & 4 & 0 & 66 & 6 & 7 \\\\\n",
       "\t30 & 66 & 6 & 7 & 4 & 0 & 56 & 6 & 6 \\\\\n",
       "\t$\\dots$ & $\\dots$ & $\\dots$ & $\\dots$ & $\\dots$ & $\\dots$ & $\\dots$ & $\\dots$ & $\\dots$ \\\\\n",
       "\\end{tabular}\n"
      ],
      "text/plain": [
       "\u001b[1m50000×8 DataFrame\u001b[0m\n",
       "\u001b[1m   Row \u001b[0m│\u001b[1m s     \u001b[0m\u001b[1m s_i   \u001b[0m\u001b[1m s_j   \u001b[0m\u001b[1m a     \u001b[0m\u001b[1m r     \u001b[0m\u001b[1m sp    \u001b[0m\u001b[1m sp_i  \u001b[0m\u001b[1m sp_j  \u001b[0m\n",
       "       │\u001b[90m Int64 \u001b[0m\u001b[90m Int64 \u001b[0m\u001b[90m Int64 \u001b[0m\u001b[90m Int64 \u001b[0m\u001b[90m Int64 \u001b[0m\u001b[90m Int64 \u001b[0m\u001b[90m Int64 \u001b[0m\u001b[90m Int64 \u001b[0m\n",
       "───────┼────────────────────────────────────────────────────────\n",
       "     1 │    85      5      9      3      0     86      6      9\n",
       "     2 │    86      6      9      2      0     87      7      9\n",
       "     3 │    87      7      9      3      0     97      7     10\n",
       "     4 │    97      7     10      2      0     87      7      9\n",
       "     5 │    87      7      9      1      0     86      6      9\n",
       "     6 │    86      6      9      3      0     76      6      8\n",
       "     7 │    76      6      8      4      0     66      6      7\n",
       "     8 │    66      6      7      1      0     65      5      7\n",
       "     9 │    65      5      7      2      0     66      6      7\n",
       "    10 │    66      6      7      3      0     76      6      8\n",
       "    11 │    76      6      8      2      0     66      6      7\n",
       "   ⋮   │   ⋮      ⋮      ⋮      ⋮      ⋮      ⋮      ⋮      ⋮\n",
       " 49991 │    89      9      9      1      0     79      9      8\n",
       " 49992 │    79      9      8      2      0     80     10      8\n",
       " 49993 │    80     10      8      3      0     79      9      8\n",
       " 49994 │    79      9      8      1      0     78      8      8\n",
       " 49995 │    78      8      8      3      0     77      7      8\n",
       " 49996 │    77      7      8      2      0     78      8      8\n",
       " 49997 │    78      8      8      1      0     77      7      8\n",
       " 49998 │    77      7      8      4      0     67      7      7\n",
       " 49999 │    67      7      7      1      0     66      6      7\n",
       " 50000 │    66      6      7      3      0     76      6      8\n",
       "\u001b[36m                                              49979 rows omitted\u001b[0m"
      ]
     },
     "execution_count": 25,
     "metadata": {},
     "output_type": "execute_result"
    }
   ],
   "source": [
    "infile = \"data/small.csv\"\n",
    "df = CSV.File(infile) |> DataFrame\n",
    "# data_mat = Matrix(df);\n",
    "\n",
    "x = [mod(df.s[j], 10)!=0 ? mod(df.s[j], 10) : 10 for j in 1:size(df,1)] \n",
    "y = [mod(df.s[j], 10)!=0 ? df.s[j] ÷ 10 + 1 : df.s[j] ÷ 10  for j in 1:size(df,1)] \n",
    "\n",
    "df = insertcols!(df, 2, :s_i => [x[i] for i in 1:size(df,1)])\n",
    "df = insertcols!(df, 3, :s_j => [y[j] for j in 1:size(df,1)]);\n",
    "\n",
    "xp = [mod(df.sp[j], 10)!=0 ? mod(df.sp[j], 10) : 10 for j in 1:size(df,1)] \n",
    "yp = [mod(df.sp[j], 10)!=0 ? df.sp[j] ÷ 10 + 1 : df.sp[j] ÷ 10  for j in 1:size(df,1)] \n",
    "\n",
    "df = insertcols!(df, 7, :sp_i => [xp[i] for i in 1:size(df,1)])\n",
    "df = insertcols!(df, 8, :sp_j => [yp[j] for j in 1:size(df,1)])"
   ]
  },
  {
   "cell_type": "code",
   "execution_count": 49,
   "id": "cc942d29",
   "metadata": {},
   "outputs": [
    {
     "data": {
      "text/plain": [
       "(100, 4)"
      ]
     },
     "execution_count": 49,
     "metadata": {},
     "output_type": "execute_result"
    }
   ],
   "source": [
    "# S = [[[x,y] for x in 1:10] for y in 1:10] \n",
    "S = [i for i in 1:100]\n",
    "A = [1,2,3,4]\n",
    "γ = 0.95\n",
    "T = NaN\n",
    "R = NaN\n",
    "TR = NaN\n",
    "\n",
    "prob = MDP(γ,S,A,T,R,TR)\n",
    "\n",
    "Q = zeros(length(prob.S), length(prob.A))\n",
    "α = 0.0005\n",
    "l = (s=(df.s_i[1], df.s_i[2]), a=df.a[1], r=df.r[1])\n",
    "l = (s=df.s[1], a=df.a[1], r=df.r[1])\n",
    "\n",
    "sarsa = Sarsa(S,A,γ,Q,α,l)"
   ]
  },
  {
   "cell_type": "code",
   "execution_count": 46,
   "id": "db4cc411",
   "metadata": {},
   "outputs": [],
   "source": [
    "train_offline(prob, sarsa, df, 10000) "
   ]
  },
  {
   "cell_type": "code",
   "execution_count": 47,
   "id": "6ada172e",
   "metadata": {},
   "outputs": [
    {
     "data": {
      "text/plain": [
       "100×4 Matrix{Float64}:\n",
       " 0.0160077  0.0901616  0.0692234  0.0162046\n",
       " 0.0466351  0.0640014  0.0733448  0.0264176\n",
       " 0.0627234  0.044337   0.0769889  0.027605\n",
       " 0.075845   0.0737455  0.141346   0.0702024\n",
       " 0.0597101  0.0997327  0.170632   0.0660614\n",
       " 0.093392   0.104624   0.212059   0.0664765\n",
       " 0.124725   0.0920299  0.150576   0.0756119\n",
       " 0.138391   0.136785   0.137362   0.0827373\n",
       " 0.0987519  0.192301   0.17399    0.125147\n",
       " 0.103768   0.0932607  0.169519   0.111674\n",
       " 0.112827   0.147472   0.243815   0.0860841\n",
       " 0.0884431  0.145849   0.185457   0.0782137\n",
       " 0.133094   0.134249   0.265673   0.144993\n",
       " ⋮                                \n",
       " 1.2397     1.39094    1.46355    1.17586\n",
       " 1.19376    1.03278    1.41384    0.962089\n",
       " 1.22279    1.22874    1.26887    1.10418\n",
       " 0.765642   1.17634    1.55719    0.866994\n",
       " 1.23502    1.14515    1.43547    0.877541\n",
       " 0.741831   1.18999    1.17106    0.983015\n",
       " 1.51254    0.886861   0.712154   1.01992\n",
       " 1.26471    1.5121     1.29245    1.09109\n",
       " 1.31736    1.14352    1.16056    1.34166\n",
       " 1.3496     1.00174    1.17255    1.23299\n",
       " 1.29556    1.63996    0.643552   1.49789\n",
       " 1.28247    1.29647    1.0976     0.947949"
      ]
     },
     "execution_count": 47,
     "metadata": {},
     "output_type": "execute_result"
    }
   ],
   "source": [
    "sarsa.Q"
   ]
  },
  {
   "cell_type": "code",
   "execution_count": 48,
   "id": "515dd907",
   "metadata": {},
   "outputs": [
    {
     "data": {
      "text/plain": [
       "100-element Vector{Int64}:\n",
       " 2\n",
       " 3\n",
       " 3\n",
       " 3\n",
       " 3\n",
       " 3\n",
       " 3\n",
       " 1\n",
       " 2\n",
       " 3\n",
       " 3\n",
       " 3\n",
       " 3\n",
       " ⋮\n",
       " 3\n",
       " 3\n",
       " 3\n",
       " 3\n",
       " 3\n",
       " 2\n",
       " 1\n",
       " 2\n",
       " 4\n",
       " 1\n",
       " 2\n",
       " 2"
      ]
     },
     "execution_count": 48,
     "metadata": {},
     "output_type": "execute_result"
    }
   ],
   "source": [
    "maxQ, maxQid = findmax(sarsa.Q[1,:])\n",
    "actions = [findmax(sarsa.Q[i,:])[2] for i in 1:size(sarsa.Q, 1)]"
   ]
  },
  {
   "cell_type": "code",
   "execution_count": null,
   "id": "a5b51876",
   "metadata": {},
   "outputs": [],
   "source": [
    "β(s,a) = [s,s^2,a,a^2,1]   # basis funciton \n",
    "Q(θ,s,a) = dot(θ,β(s,a)) \n",
    "∇Q(θ,s,a) = β(s,a) \n",
    "θ = [0.1,0.2,0.3,0.4,0.5] # initial parameter vector"
   ]
  }
 ],
 "metadata": {
  "kernelspec": {
   "display_name": "Julia 1.9.3",
   "language": "julia",
   "name": "julia-1.9"
  },
  "language_info": {
   "file_extension": ".jl",
   "mimetype": "application/julia",
   "name": "julia",
   "version": "1.9.3"
  }
 },
 "nbformat": 4,
 "nbformat_minor": 5
}
